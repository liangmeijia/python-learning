{
 "cells": [
  {
   "cell_type": "markdown",
   "id": "8e57a127129d7116",
   "metadata": {},
   "source": [
    "## numpy\n",
    "* 是一组数的容器，并能进行科学运算\n",
    "* python有list为什么还需要numpy?因为list在处理少量同类型数据性能还可以，但处理大量同类型数据时，速度慢、内存占用多、\n",
    "## ndArray（n维数组） \n",
    "* 1.必须是‘矩形’，不能是‘阶梯形’\n",
    "* 2.shape可以变，但size不能变\n",
    "* 3.数据类型一样"
   ]
  },
  {
   "cell_type": "code",
   "id": "initial_id",
   "metadata": {
    "ExecuteTime": {
     "end_time": "2024-11-20T01:17:45.452370Z",
     "start_time": "2024-11-20T01:17:45.353533Z"
    }
   },
   "source": [
    "import numpy as np"
   ],
   "outputs": [],
   "execution_count": 2
  },
  {
   "metadata": {},
   "cell_type": "markdown",
   "source": "1.有几个中括号，就是几维",
   "id": "c3c7ac299e826361"
  },
  {
   "metadata": {
    "ExecuteTime": {
     "end_time": "2024-11-19T07:03:48.223519Z",
     "start_time": "2024-11-19T07:03:48.220643Z"
    }
   },
   "cell_type": "code",
   "outputs": [
    {
     "name": "stdout",
     "output_type": "stream",
     "text": [
      "1\n"
     ]
    }
   ],
   "execution_count": 54,
   "source": [
    "n_shape1 = np.array([1,2,3,4])\n",
    "print(n_shape1.ndim)"
   ],
   "id": "a253dca6"
  },
  {
   "cell_type": "code",
   "id": "76ed0573",
   "metadata": {
    "ExecuteTime": {
     "end_time": "2024-11-19T07:03:58.133435Z",
     "start_time": "2024-11-19T07:03:58.129775Z"
    }
   },
   "source": [
    "n_shape2 = np.array([[1,2,3,4]])\n",
    "print(n_shape2.ndim)"
   ],
   "outputs": [
    {
     "name": "stdout",
     "output_type": "stream",
     "text": [
      "2\n"
     ]
    }
   ],
   "execution_count": 55
  },
  {
   "metadata": {},
   "cell_type": "markdown",
   "source": "2.索引和切片",
   "id": "573442cc163b5db9"
  },
  {
   "metadata": {
    "ExecuteTime": {
     "end_time": "2024-11-19T07:04:11.721750Z",
     "start_time": "2024-11-19T07:04:11.718583Z"
    }
   },
   "cell_type": "code",
   "source": "print(n_shape1[0],n_shape1[-1])",
   "id": "9a1b4d4d79770ce0",
   "outputs": [
    {
     "name": "stdout",
     "output_type": "stream",
     "text": [
      "1 4\n"
     ]
    }
   ],
   "execution_count": 56
  },
  {
   "metadata": {
    "ExecuteTime": {
     "end_time": "2024-11-19T07:04:23.072372Z",
     "start_time": "2024-11-19T07:04:23.067469Z"
    }
   },
   "cell_type": "code",
   "source": [
    "n_shape1[0] = 10\n",
    "n_shape1"
   ],
   "id": "21f7473e8050b338",
   "outputs": [
    {
     "data": {
      "text/plain": [
       "array([10,  2,  3,  4])"
      ]
     },
     "execution_count": 57,
     "metadata": {},
     "output_type": "execute_result"
    }
   ],
   "execution_count": 57
  },
  {
   "metadata": {
    "ExecuteTime": {
     "end_time": "2024-11-19T03:24:35.479805Z",
     "start_time": "2024-11-19T03:24:35.475306Z"
    }
   },
   "cell_type": "code",
   "source": "n_shape1[:-1]",
   "id": "23abcb0ffcbe9fe1",
   "outputs": [
    {
     "data": {
      "text/plain": [
       "array([10,  2,  3])"
      ]
     },
     "execution_count": 12,
     "metadata": {},
     "output_type": "execute_result"
    }
   ],
   "execution_count": 12
  },
  {
   "metadata": {
    "ExecuteTime": {
     "end_time": "2024-11-19T03:24:51.657990Z",
     "start_time": "2024-11-19T03:24:51.653936Z"
    }
   },
   "cell_type": "code",
   "source": "n_shape1[:]",
   "id": "8614720053462a1b",
   "outputs": [
    {
     "data": {
      "text/plain": [
       "array([10,  2,  3,  4])"
      ]
     },
     "execution_count": 13,
     "metadata": {},
     "output_type": "execute_result"
    }
   ],
   "execution_count": 13
  },
  {
   "metadata": {
    "ExecuteTime": {
     "end_time": "2024-11-19T03:25:30.449468Z",
     "start_time": "2024-11-19T03:25:30.444965Z"
    }
   },
   "cell_type": "code",
   "source": "n_shape1[::2]",
   "id": "288fe2c5790469ec",
   "outputs": [
    {
     "data": {
      "text/plain": [
       "array([10,  3])"
      ]
     },
     "execution_count": 14,
     "metadata": {},
     "output_type": "execute_result"
    }
   ],
   "execution_count": 14
  },
  {
   "metadata": {
    "ExecuteTime": {
     "end_time": "2024-11-19T07:05:00.452268Z",
     "start_time": "2024-11-19T07:05:00.447513Z"
    }
   },
   "cell_type": "code",
   "source": [
    "n_shape22 = np.array([[1,2,3,4],[1,1,2,4],[3,2,3,4],[6,22,3,4]])\n",
    "n_shape22"
   ],
   "id": "6b4f1b7a8cdc99a3",
   "outputs": [
    {
     "data": {
      "text/plain": [
       "array([[ 1,  2,  3,  4],\n",
       "       [ 1,  1,  2,  4],\n",
       "       [ 3,  2,  3,  4],\n",
       "       [ 6, 22,  3,  4]])"
      ]
     },
     "execution_count": 58,
     "metadata": {},
     "output_type": "execute_result"
    }
   ],
   "execution_count": 58
  },
  {
   "metadata": {
    "ExecuteTime": {
     "end_time": "2024-11-19T07:05:09.082104Z",
     "start_time": "2024-11-19T07:05:09.078598Z"
    }
   },
   "cell_type": "code",
   "source": "n_shape22[0,1]",
   "id": "20119fd2da5dab49",
   "outputs": [
    {
     "data": {
      "text/plain": [
       "2"
      ]
     },
     "execution_count": 59,
     "metadata": {},
     "output_type": "execute_result"
    }
   ],
   "execution_count": 59
  },
  {
   "metadata": {
    "ExecuteTime": {
     "end_time": "2024-11-19T07:05:15.645372Z",
     "start_time": "2024-11-19T07:05:15.641402Z"
    }
   },
   "cell_type": "code",
   "source": "n_shape22[0,:]",
   "id": "e47bbc108573e919",
   "outputs": [
    {
     "data": {
      "text/plain": [
       "array([1, 2, 3, 4])"
      ]
     },
     "execution_count": 60,
     "metadata": {},
     "output_type": "execute_result"
    }
   ],
   "execution_count": 60
  },
  {
   "metadata": {
    "ExecuteTime": {
     "end_time": "2024-11-19T07:05:19.952195Z",
     "start_time": "2024-11-19T07:05:19.947472Z"
    }
   },
   "cell_type": "code",
   "source": "n_shape22[:,1]",
   "id": "4543ca75e26bf1f1",
   "outputs": [
    {
     "data": {
      "text/plain": [
       "array([ 2,  1,  2, 22])"
      ]
     },
     "execution_count": 61,
     "metadata": {},
     "output_type": "execute_result"
    }
   ],
   "execution_count": 61
  },
  {
   "metadata": {
    "ExecuteTime": {
     "end_time": "2024-11-19T07:05:25.896681Z",
     "start_time": "2024-11-19T07:05:25.892431Z"
    }
   },
   "cell_type": "code",
   "source": "n_shape22[:2,:]",
   "id": "f95c41feed6060a4",
   "outputs": [
    {
     "data": {
      "text/plain": [
       "array([[1, 2, 3, 4],\n",
       "       [1, 1, 2, 4]])"
      ]
     },
     "execution_count": 62,
     "metadata": {},
     "output_type": "execute_result"
    }
   ],
   "execution_count": 62
  },
  {
   "metadata": {},
   "cell_type": "markdown",
   "source": "3.属性",
   "id": "848122c629531f5c"
  },
  {
   "metadata": {
    "ExecuteTime": {
     "end_time": "2024-11-19T07:05:38.973523Z",
     "start_time": "2024-11-19T07:05:38.969510Z"
    }
   },
   "cell_type": "code",
   "source": "n_shape1.shape",
   "id": "b12bfe6aed22d995",
   "outputs": [
    {
     "data": {
      "text/plain": [
       "(4,)"
      ]
     },
     "execution_count": 63,
     "metadata": {},
     "output_type": "execute_result"
    }
   ],
   "execution_count": 63
  },
  {
   "metadata": {
    "ExecuteTime": {
     "end_time": "2024-11-19T07:05:42.848317Z",
     "start_time": "2024-11-19T07:05:42.844745Z"
    }
   },
   "cell_type": "code",
   "source": "n_shape2.shape",
   "id": "e2e8ca81aaa6d06f",
   "outputs": [
    {
     "data": {
      "text/plain": [
       "(1, 4)"
      ]
     },
     "execution_count": 64,
     "metadata": {},
     "output_type": "execute_result"
    }
   ],
   "execution_count": 64
  },
  {
   "metadata": {
    "ExecuteTime": {
     "end_time": "2024-11-19T06:33:21.266Z",
     "start_time": "2024-11-19T06:33:21.262166Z"
    }
   },
   "cell_type": "code",
   "source": "n_shape1.size",
   "id": "4f56891530b55378",
   "outputs": [
    {
     "data": {
      "text/plain": [
       "16"
      ]
     },
     "execution_count": 28,
     "metadata": {},
     "output_type": "execute_result"
    }
   ],
   "execution_count": 28
  },
  {
   "metadata": {
    "ExecuteTime": {
     "end_time": "2024-11-19T06:33:29.494332Z",
     "start_time": "2024-11-19T06:33:29.490161Z"
    }
   },
   "cell_type": "code",
   "source": [
    "#整数默认int32 浮点数默认float64\n",
    "n_shape1.dtype"
   ],
   "id": "c4e11cc5bf894aec",
   "outputs": [
    {
     "data": {
      "text/plain": [
       "dtype('int32')"
      ]
     },
     "execution_count": 29,
     "metadata": {},
     "output_type": "execute_result"
    }
   ],
   "execution_count": 29
  },
  {
   "metadata": {},
   "cell_type": "markdown",
   "source": "4.方法",
   "id": "563e164c80cf146f"
  },
  {
   "metadata": {
    "ExecuteTime": {
     "end_time": "2024-11-19T06:37:38.938631Z",
     "start_time": "2024-11-19T06:37:38.933132Z"
    }
   },
   "cell_type": "code",
   "source": "np.zeros(4)",
   "id": "f9ee585dfde389df",
   "outputs": [
    {
     "data": {
      "text/plain": [
       "array([0., 0., 0., 0.])"
      ]
     },
     "execution_count": 30,
     "metadata": {},
     "output_type": "execute_result"
    }
   ],
   "execution_count": 30
  },
  {
   "metadata": {
    "ExecuteTime": {
     "end_time": "2024-11-19T06:37:55.689732Z",
     "start_time": "2024-11-19T06:37:55.684202Z"
    }
   },
   "cell_type": "code",
   "source": "np.ones(2)",
   "id": "aa39445d5371a28c",
   "outputs": [
    {
     "data": {
      "text/plain": [
       "array([1., 1.])"
      ]
     },
     "execution_count": 31,
     "metadata": {},
     "output_type": "execute_result"
    }
   ],
   "execution_count": 31
  },
  {
   "metadata": {
    "ExecuteTime": {
     "end_time": "2024-11-19T06:39:07.599322Z",
     "start_time": "2024-11-19T06:39:07.594248Z"
    }
   },
   "cell_type": "code",
   "source": "np.empty(2)",
   "id": "5b5b2fc71cefac2c",
   "outputs": [
    {
     "data": {
      "text/plain": [
       "array([1., 1.])"
      ]
     },
     "execution_count": 36,
     "metadata": {},
     "output_type": "execute_result"
    }
   ],
   "execution_count": 36
  },
  {
   "metadata": {
    "ExecuteTime": {
     "end_time": "2024-11-19T06:40:25.172303Z",
     "start_time": "2024-11-19T06:40:25.167424Z"
    }
   },
   "cell_type": "code",
   "source": "np.arange(6)",
   "id": "3d81ee15070d3609",
   "outputs": [
    {
     "data": {
      "text/plain": [
       "array([0, 1, 2, 3, 4, 5])"
      ]
     },
     "execution_count": 37,
     "metadata": {},
     "output_type": "execute_result"
    }
   ],
   "execution_count": 37
  },
  {
   "metadata": {
    "ExecuteTime": {
     "end_time": "2024-11-19T06:38:31.519208Z",
     "start_time": "2024-11-19T06:38:31.515418Z"
    }
   },
   "cell_type": "code",
   "source": "np.arange(2,6,2)",
   "id": "e803b6d67a940b4",
   "outputs": [
    {
     "data": {
      "text/plain": [
       "array([2, 4])"
      ]
     },
     "execution_count": 34,
     "metadata": {},
     "output_type": "execute_result"
    }
   ],
   "execution_count": 34
  },
  {
   "metadata": {
    "ExecuteTime": {
     "end_time": "2024-11-19T06:42:25.389996Z",
     "start_time": "2024-11-19T06:42:25.384066Z"
    }
   },
   "cell_type": "code",
   "source": [
    "#在[0,1] 之间取6个数，包含0 、1 ，且间距相同\n",
    "np.linspace(0,1,6)"
   ],
   "id": "a52edd0246d69f5f",
   "outputs": [
    {
     "data": {
      "text/plain": [
       "array([0. , 0.2, 0.4, 0.6, 0.8, 1. ])"
      ]
     },
     "execution_count": 38,
     "metadata": {},
     "output_type": "execute_result"
    }
   ],
   "execution_count": 38
  },
  {
   "metadata": {
    "ExecuteTime": {
     "end_time": "2024-11-19T06:44:20.436932Z",
     "start_time": "2024-11-19T06:44:20.432942Z"
    }
   },
   "cell_type": "code",
   "source": "np.ones(3,dtype=np.int32)",
   "id": "fd1e328345550c0e",
   "outputs": [
    {
     "data": {
      "text/plain": [
       "array([1, 1, 1])"
      ]
     },
     "execution_count": 40,
     "metadata": {},
     "output_type": "execute_result"
    }
   ],
   "execution_count": 40
  },
  {
   "metadata": {
    "ExecuteTime": {
     "end_time": "2024-11-19T07:23:20.036955Z",
     "start_time": "2024-11-19T07:23:20.032025Z"
    }
   },
   "cell_type": "code",
   "source": [
    "#原数组顺序不变\n",
    "np.sort(n_shape1)"
   ],
   "id": "cf02c094d84c8665",
   "outputs": [
    {
     "data": {
      "text/plain": [
       "array([ 2,  3,  4, 10])"
      ]
     },
     "execution_count": 65,
     "metadata": {},
     "output_type": "execute_result"
    }
   ],
   "execution_count": 65
  },
  {
   "metadata": {
    "ExecuteTime": {
     "end_time": "2024-11-19T06:56:12.027360Z",
     "start_time": "2024-11-19T06:56:12.022471Z"
    }
   },
   "cell_type": "code",
   "source": [
    "n1 = np.array([[1,2,3,4],[3,4,2,1]])\n",
    "n2 = np.array([[8,8,7,6]])\n",
    "n3 = np.array([[6,6],[6,5]])\n",
    "np.concatenate((n1,n2),axis=0)\n",
    "np.concatenate((n1,n3),axis=1)"
   ],
   "id": "f9a571cdd4455686",
   "outputs": [
    {
     "data": {
      "text/plain": [
       "array([[1, 2, 3, 4, 6, 6],\n",
       "       [3, 4, 2, 1, 6, 5]])"
      ]
     },
     "execution_count": 52,
     "metadata": {},
     "output_type": "execute_result"
    }
   ],
   "execution_count": 52
  },
  {
   "metadata": {
    "ExecuteTime": {
     "end_time": "2024-11-19T07:39:49.385944Z",
     "start_time": "2024-11-19T07:39:49.381907Z"
    }
   },
   "cell_type": "code",
   "source": [
    "#n1 = n_shape1.reshape(1,4)\n",
    "n2 = np.reshape(n1,newshape=(2,2))\n",
    "n2"
   ],
   "id": "99d6f672ad4dc359",
   "outputs": [
    {
     "data": {
      "text/plain": [
       "array([[10,  2],\n",
       "       [ 3,  4]])"
      ]
     },
     "execution_count": 71,
     "metadata": {},
     "output_type": "execute_result"
    }
   ],
   "execution_count": 71
  },
  {
   "metadata": {},
   "cell_type": "markdown",
   "source": "高维数组",
   "id": "6b83fe1db41ed416"
  },
  {
   "metadata": {
    "ExecuteTime": {
     "end_time": "2024-11-19T07:03:18.849478Z",
     "start_time": "2024-11-19T07:03:18.844033Z"
    }
   },
   "cell_type": "code",
   "source": [
    "n_shape3 = np.array([[[2,3,4,5],[2,3,4,5]],\n",
    "                     [[2,3,4,5],[2,3,4,5]],\n",
    "                     [[2,3,4,5],[2,3,4,5]],\n",
    "                     [[2,3,4,5],[2,3,4,5]]])\n",
    "n_shape3.shape"
   ],
   "id": "8db66022f0c9f36",
   "outputs": [
    {
     "data": {
      "text/plain": [
       "(4, 2, 4)"
      ]
     },
     "execution_count": 53,
     "metadata": {},
     "output_type": "execute_result"
    }
   ],
   "execution_count": 53
  },
  {
   "metadata": {},
   "cell_type": "markdown",
   "source": "扩展维度",
   "id": "1664484dc51e7895"
  },
  {
   "metadata": {
    "ExecuteTime": {
     "end_time": "2024-11-19T08:10:53.659440Z",
     "start_time": "2024-11-19T08:10:53.654715Z"
    }
   },
   "cell_type": "code",
   "source": [
    "#n1 = np.array([40,50,60,33])\n",
    "n1 = np.array([[40,50,60,33],[44,66,77,22]])\n",
    "n1.shape"
   ],
   "id": "80ea87ebecc6f0cb",
   "outputs": [
    {
     "data": {
      "text/plain": [
       "(2, 4)"
      ]
     },
     "execution_count": 83,
     "metadata": {},
     "output_type": "execute_result"
    }
   ],
   "execution_count": 83
  },
  {
   "metadata": {
    "ExecuteTime": {
     "end_time": "2024-11-19T07:57:33.405130Z",
     "start_time": "2024-11-19T07:57:33.400876Z"
    }
   },
   "cell_type": "code",
   "source": [
    "#在行方向增加一个维度\n",
    "#n2 = n1[np.newaxis,:] #行向量\n",
    "#n2 = n1.reshape(1,n1.size)\n",
    "n2 = np.expand_dims(n1,axis=0)\n",
    "n2"
   ],
   "id": "6af11f6cccc28f33",
   "outputs": [
    {
     "data": {
      "text/plain": [
       "array([[[40, 50, 60, 33],\n",
       "        [44, 66, 77, 22]]])"
      ]
     },
     "execution_count": 81,
     "metadata": {},
     "output_type": "execute_result"
    }
   ],
   "execution_count": 81
  },
  {
   "metadata": {
    "ExecuteTime": {
     "end_time": "2024-11-19T07:58:29.619598Z",
     "start_time": "2024-11-19T07:58:29.615609Z"
    }
   },
   "cell_type": "code",
   "source": [
    "#n3 = n1[:,np.newaxis] #列向量\n",
    "#n3 = n1.reshape(n1.size,1)\n",
    "n3 = np.expand_dims(n1,axis=1)\n",
    "n3"
   ],
   "id": "f957eb7ab7f01fa6",
   "outputs": [
    {
     "data": {
      "text/plain": [
       "array([[[40, 50, 60, 33]],\n",
       "\n",
       "       [[44, 66, 77, 22]]])"
      ]
     },
     "execution_count": 82,
     "metadata": {},
     "output_type": "execute_result"
    }
   ],
   "execution_count": 82
  },
  {
   "metadata": {},
   "cell_type": "markdown",
   "source": "按条件取值",
   "id": "2d7d4fafe782b56b"
  },
  {
   "metadata": {
    "ExecuteTime": {
     "end_time": "2024-11-19T08:18:06.722737Z",
     "start_time": "2024-11-19T08:18:06.717980Z"
    }
   },
   "cell_type": "code",
   "source": [
    "n1 = np.array([[40,50,60,33],[44,66,77,22]])\n",
    "n1>40"
   ],
   "id": "3978fe407886b1fe",
   "outputs": [
    {
     "data": {
      "text/plain": [
       "array([[False,  True,  True, False],\n",
       "       [ True,  True,  True, False]])"
      ]
     },
     "execution_count": 88,
     "metadata": {},
     "output_type": "execute_result"
    }
   ],
   "execution_count": 88
  },
  {
   "metadata": {
    "ExecuteTime": {
     "end_time": "2024-11-19T08:11:46.969930Z",
     "start_time": "2024-11-19T08:11:46.966126Z"
    }
   },
   "cell_type": "code",
   "source": "n1[n1>40]",
   "id": "c2c8bd0f80561b82",
   "outputs": [
    {
     "data": {
      "text/plain": [
       "array([50, 60, 44, 66, 77])"
      ]
     },
     "execution_count": 86,
     "metadata": {},
     "output_type": "execute_result"
    }
   ],
   "execution_count": 86
  },
  {
   "metadata": {
    "ExecuteTime": {
     "end_time": "2024-11-19T08:12:10.772642Z",
     "start_time": "2024-11-19T08:12:10.768521Z"
    }
   },
   "cell_type": "code",
   "source": "n1[(n1>40) | (n1==40)]",
   "id": "d05a948ec5287dde",
   "outputs": [
    {
     "data": {
      "text/plain": [
       "array([40, 50, 60, 44, 66, 77])"
      ]
     },
     "execution_count": 87,
     "metadata": {},
     "output_type": "execute_result"
    }
   ],
   "execution_count": 87
  },
  {
   "metadata": {
    "ExecuteTime": {
     "end_time": "2024-11-19T08:31:27.238854Z",
     "start_time": "2024-11-19T08:31:27.234472Z"
    }
   },
   "cell_type": "code",
   "source": [
    "#找到满足条件的元素位置\n",
    "b = np.nonzero(n1>40)\n",
    "#print(type(b))\n",
    "print(b)\n",
    "#根据位置查找元素\n",
    "n1[b]"
   ],
   "id": "c187670c2729db2",
   "outputs": [
    {
     "name": "stdout",
     "output_type": "stream",
     "text": [
      "<class 'tuple'>\n",
      "(array([0, 0, 1, 1, 1], dtype=int64), array([1, 2, 0, 1, 2], dtype=int64))\n"
     ]
    },
    {
     "data": {
      "text/plain": [
       "array([50, 60, 44, 66, 77])"
      ]
     },
     "execution_count": 95,
     "metadata": {},
     "output_type": "execute_result"
    }
   ],
   "execution_count": 95
  },
  {
   "metadata": {},
   "cell_type": "markdown",
   "source": "按不同方向拼接数组",
   "id": "e9a9911110bb1f48"
  },
  {
   "metadata": {
    "ExecuteTime": {
     "end_time": "2024-11-19T08:38:19.393869Z",
     "start_time": "2024-11-19T08:38:19.388867Z"
    }
   },
   "cell_type": "code",
   "source": [
    "a1 = np.array([[1,2],[3,4]])\n",
    "a1"
   ],
   "id": "faf21be6c47436f5",
   "outputs": [
    {
     "data": {
      "text/plain": [
       "array([[1, 2],\n",
       "       [3, 4]])"
      ]
     },
     "execution_count": 97,
     "metadata": {},
     "output_type": "execute_result"
    }
   ],
   "execution_count": 97
  },
  {
   "metadata": {
    "ExecuteTime": {
     "end_time": "2024-11-19T08:38:37.158710Z",
     "start_time": "2024-11-19T08:38:37.153529Z"
    }
   },
   "cell_type": "code",
   "source": [
    "a2 = np.array([[2,5],[8,4]])\n",
    "a2"
   ],
   "id": "984cb99f4cf45153",
   "outputs": [
    {
     "data": {
      "text/plain": [
       "array([[2, 5],\n",
       "       [8, 4]])"
      ]
     },
     "execution_count": 98,
     "metadata": {},
     "output_type": "execute_result"
    }
   ],
   "execution_count": 98
  },
  {
   "metadata": {
    "ExecuteTime": {
     "end_time": "2024-11-19T08:38:53.729272Z",
     "start_time": "2024-11-19T08:38:53.725022Z"
    }
   },
   "cell_type": "code",
   "source": [
    "a3 = np.vstack((a1,a2))\n",
    "a3"
   ],
   "id": "4c73513912aa23a8",
   "outputs": [
    {
     "data": {
      "text/plain": [
       "array([[1, 2],\n",
       "       [3, 4],\n",
       "       [2, 5],\n",
       "       [8, 4]])"
      ]
     },
     "execution_count": 99,
     "metadata": {},
     "output_type": "execute_result"
    }
   ],
   "execution_count": 99
  },
  {
   "metadata": {
    "ExecuteTime": {
     "end_time": "2024-11-19T08:39:11.239701Z",
     "start_time": "2024-11-19T08:39:11.233947Z"
    }
   },
   "cell_type": "code",
   "source": [
    "a4 = np.hstack((a1,a2))\n",
    "a4"
   ],
   "id": "b808c388c331b9bb",
   "outputs": [
    {
     "data": {
      "text/plain": [
       "array([[1, 2, 2, 5],\n",
       "       [3, 4, 8, 4]])"
      ]
     },
     "execution_count": 100,
     "metadata": {},
     "output_type": "execute_result"
    }
   ],
   "execution_count": 100
  },
  {
   "metadata": {},
   "cell_type": "markdown",
   "source": "按不同方向切割数组",
   "id": "caad918cf1848879"
  },
  {
   "metadata": {
    "ExecuteTime": {
     "end_time": "2024-11-20T01:17:50.370980Z",
     "start_time": "2024-11-20T01:17:50.362806Z"
    }
   },
   "cell_type": "code",
   "source": [
    "a1 = np.arange(1,25).reshape(2,12)\n",
    "a1"
   ],
   "id": "5007b671bf9ee1af",
   "outputs": [
    {
     "data": {
      "text/plain": [
       "array([[ 1,  2,  3,  4,  5,  6,  7,  8,  9, 10, 11, 12],\n",
       "       [13, 14, 15, 16, 17, 18, 19, 20, 21, 22, 23, 24]])"
      ]
     },
     "execution_count": 3,
     "metadata": {},
     "output_type": "execute_result"
    }
   ],
   "execution_count": 3
  },
  {
   "metadata": {
    "ExecuteTime": {
     "end_time": "2024-11-20T01:20:41.524150Z",
     "start_time": "2024-11-20T01:20:41.518714Z"
    }
   },
   "cell_type": "code",
   "source": [
    "#水平方向 平均分4份\n",
    "np.hsplit(a1,4)"
   ],
   "id": "d5638eb45265b02d",
   "outputs": [
    {
     "data": {
      "text/plain": [
       "[array([[ 1,  2,  3],\n",
       "        [13, 14, 15]]),\n",
       " array([[ 4,  5,  6],\n",
       "        [16, 17, 18]]),\n",
       " array([[ 7,  8,  9],\n",
       "        [19, 20, 21]]),\n",
       " array([[10, 11, 12],\n",
       "        [22, 23, 24]])]"
      ]
     },
     "execution_count": 6,
     "metadata": {},
     "output_type": "execute_result"
    }
   ],
   "execution_count": 6
  },
  {
   "metadata": {
    "ExecuteTime": {
     "end_time": "2024-11-20T01:22:33.110839Z",
     "start_time": "2024-11-20T01:22:33.104389Z"
    }
   },
   "cell_type": "code",
   "source": [
    "#水平方向 按指定位置拆分\n",
    "np.hsplit(a1,(4,7))"
   ],
   "id": "c0bfccd54b57ceb",
   "outputs": [
    {
     "data": {
      "text/plain": [
       "[array([[ 1,  2,  3,  4],\n",
       "        [13, 14, 15, 16]]),\n",
       " array([[ 5,  6,  7],\n",
       "        [17, 18, 19]]),\n",
       " array([[ 8,  9, 10, 11, 12],\n",
       "        [20, 21, 22, 23, 24]])]"
      ]
     },
     "execution_count": 7,
     "metadata": {},
     "output_type": "execute_result"
    }
   ],
   "execution_count": 7
  },
  {
   "metadata": {},
   "cell_type": "markdown",
   "source": "引用和拷贝",
   "id": "89f1f47be958e975"
  },
  {
   "metadata": {
    "ExecuteTime": {
     "end_time": "2024-11-19T08:45:06.618469Z",
     "start_time": "2024-11-19T08:45:06.614128Z"
    }
   },
   "cell_type": "code",
   "source": [
    "n1 = np.array([[0,8,8,6],[3,5,57,7]])\n",
    "n1"
   ],
   "id": "622f3264917d6ebe",
   "outputs": [
    {
     "data": {
      "text/plain": [
       "array([[ 0,  8,  8,  6],\n",
       "       [ 3,  5, 57,  7]])"
      ]
     },
     "execution_count": 101,
     "metadata": {},
     "output_type": "execute_result"
    }
   ],
   "execution_count": 101
  },
  {
   "metadata": {
    "ExecuteTime": {
     "end_time": "2024-11-19T08:46:19.786729Z",
     "start_time": "2024-11-19T08:46:19.782533Z"
    }
   },
   "cell_type": "code",
   "source": [
    "n1[0,0] = 100\n",
    "n1"
   ],
   "id": "f2a72bcb4279d878",
   "outputs": [
    {
     "data": {
      "text/plain": [
       "array([[100,   8,   8,   6],\n",
       "       [  3,   5,  57,   7]])"
      ]
     },
     "execution_count": 104,
     "metadata": {},
     "output_type": "execute_result"
    }
   ],
   "execution_count": 104
  },
  {
   "metadata": {
    "ExecuteTime": {
     "end_time": "2024-11-19T08:46:51.691810Z",
     "start_time": "2024-11-19T08:46:51.687421Z"
    }
   },
   "cell_type": "code",
   "source": [
    "n2 = n1.copy()\n",
    "n2[0][0] = 0\n",
    "n2"
   ],
   "id": "7ed78f67f7c84b46",
   "outputs": [
    {
     "data": {
      "text/plain": [
       "array([[ 0,  8,  8,  6],\n",
       "       [ 3,  5, 57,  7]])"
      ]
     },
     "execution_count": 105,
     "metadata": {},
     "output_type": "execute_result"
    }
   ],
   "execution_count": 105
  },
  {
   "metadata": {
    "ExecuteTime": {
     "end_time": "2024-11-19T08:46:58.023715Z",
     "start_time": "2024-11-19T08:46:58.019271Z"
    }
   },
   "cell_type": "code",
   "source": "n1",
   "id": "500a3cd83d4aee72",
   "outputs": [
    {
     "data": {
      "text/plain": [
       "array([[100,   8,   8,   6],\n",
       "       [  3,   5,  57,   7]])"
      ]
     },
     "execution_count": 106,
     "metadata": {},
     "output_type": "execute_result"
    }
   ],
   "execution_count": 106
  },
  {
   "metadata": {},
   "cell_type": "markdown",
   "source": [
    "基本运算\n",
    "* 加、减、乘、除、取余、整除 ，都是对应位置上进行。shape不同，会自动进行填充为相同shape后再进行相关运算"
   ],
   "id": "be2ed6240c32d507"
  },
  {
   "metadata": {
    "ExecuteTime": {
     "end_time": "2024-11-19T09:12:39.003453Z",
     "start_time": "2024-11-19T09:12:38.999971Z"
    }
   },
   "cell_type": "code",
   "source": [
    "n1 = np.array([[9,88,22,3],[2,3,6,7]])\n",
    "n2 = np.array([2,3,4,5])"
   ],
   "id": "84b2819c2054c388",
   "outputs": [],
   "execution_count": 110
  },
  {
   "metadata": {
    "ExecuteTime": {
     "end_time": "2024-11-19T09:12:40.603100Z",
     "start_time": "2024-11-19T09:12:40.598112Z"
    }
   },
   "cell_type": "code",
   "source": "n1+n2",
   "id": "911186cbc8438404",
   "outputs": [
    {
     "data": {
      "text/plain": [
       "array([[11, 91, 26,  8],\n",
       "       [ 4,  6, 10, 12]])"
      ]
     },
     "execution_count": 111,
     "metadata": {},
     "output_type": "execute_result"
    }
   ],
   "execution_count": 111
  },
  {
   "metadata": {
    "ExecuteTime": {
     "end_time": "2024-11-19T09:13:06.141334Z",
     "start_time": "2024-11-19T09:13:06.136958Z"
    }
   },
   "cell_type": "code",
   "source": "n1-n2",
   "id": "147af7f4b2c9cc14",
   "outputs": [
    {
     "data": {
      "text/plain": [
       "array([[ 7, 85, 18, -2],\n",
       "       [ 0,  0,  2,  2]])"
      ]
     },
     "execution_count": 112,
     "metadata": {},
     "output_type": "execute_result"
    }
   ],
   "execution_count": 112
  },
  {
   "metadata": {
    "ExecuteTime": {
     "end_time": "2024-11-19T09:13:27.392438Z",
     "start_time": "2024-11-19T09:13:27.388435Z"
    }
   },
   "cell_type": "code",
   "source": "n1*n2",
   "id": "4e44d9989b7184d1",
   "outputs": [
    {
     "data": {
      "text/plain": [
       "array([[ 18, 264,  88,  15],\n",
       "       [  4,   9,  24,  35]])"
      ]
     },
     "execution_count": 114,
     "metadata": {},
     "output_type": "execute_result"
    }
   ],
   "execution_count": 114
  },
  {
   "metadata": {
    "ExecuteTime": {
     "end_time": "2024-11-19T09:13:35.246365Z",
     "start_time": "2024-11-19T09:13:35.242140Z"
    }
   },
   "cell_type": "code",
   "source": "n1/n2",
   "id": "b8d5a5011cd9ab",
   "outputs": [
    {
     "data": {
      "text/plain": [
       "array([[ 4.5       , 29.33333333,  5.5       ,  0.6       ],\n",
       "       [ 1.        ,  1.        ,  1.5       ,  1.4       ]])"
      ]
     },
     "execution_count": 115,
     "metadata": {},
     "output_type": "execute_result"
    }
   ],
   "execution_count": 115
  },
  {
   "metadata": {
    "ExecuteTime": {
     "end_time": "2024-11-19T09:14:00.585040Z",
     "start_time": "2024-11-19T09:14:00.580708Z"
    }
   },
   "cell_type": "code",
   "source": "n1%n2",
   "id": "e8568d52c2612afe",
   "outputs": [
    {
     "data": {
      "text/plain": [
       "array([[1, 1, 2, 3],\n",
       "       [0, 0, 2, 2]])"
      ]
     },
     "execution_count": 116,
     "metadata": {},
     "output_type": "execute_result"
    }
   ],
   "execution_count": 116
  },
  {
   "metadata": {
    "ExecuteTime": {
     "end_time": "2024-11-19T09:14:17.408484Z",
     "start_time": "2024-11-19T09:14:17.403601Z"
    }
   },
   "cell_type": "code",
   "source": "n1//n2",
   "id": "f06fd7a103d1a9fd",
   "outputs": [
    {
     "data": {
      "text/plain": [
       "array([[ 4, 29,  5,  0],\n",
       "       [ 1,  1,  1,  1]])"
      ]
     },
     "execution_count": 117,
     "metadata": {},
     "output_type": "execute_result"
    }
   ],
   "execution_count": 117
  },
  {
   "metadata": {
    "ExecuteTime": {
     "end_time": "2024-11-19T09:16:27.367872Z",
     "start_time": "2024-11-19T09:16:27.363862Z"
    }
   },
   "cell_type": "code",
   "source": "n1*2",
   "id": "fdeca69e1ad791d2",
   "outputs": [
    {
     "data": {
      "text/plain": [
       "array([[ 18, 176,  44,   6],\n",
       "       [  4,   6,  12,  14]])"
      ]
     },
     "execution_count": 118,
     "metadata": {},
     "output_type": "execute_result"
    }
   ],
   "execution_count": 118
  },
  {
   "metadata": {
    "ExecuteTime": {
     "end_time": "2024-11-19T09:18:06.000352Z",
     "start_time": "2024-11-19T09:18:05.996351Z"
    }
   },
   "cell_type": "code",
   "source": "n1.sum()",
   "id": "7d31c67f06c7a8ee",
   "outputs": [
    {
     "data": {
      "text/plain": [
       "140"
      ]
     },
     "execution_count": 120,
     "metadata": {},
     "output_type": "execute_result"
    }
   ],
   "execution_count": 120
  },
  {
   "metadata": {
    "ExecuteTime": {
     "end_time": "2024-11-19T09:18:52.109207Z",
     "start_time": "2024-11-19T09:18:52.105442Z"
    }
   },
   "cell_type": "code",
   "source": "n1.min()",
   "id": "19c04ba254f75e1c",
   "outputs": [
    {
     "data": {
      "text/plain": [
       "2"
      ]
     },
     "execution_count": 121,
     "metadata": {},
     "output_type": "execute_result"
    }
   ],
   "execution_count": 121
  },
  {
   "metadata": {
    "ExecuteTime": {
     "end_time": "2024-11-19T09:19:01.412086Z",
     "start_time": "2024-11-19T09:19:01.408094Z"
    }
   },
   "cell_type": "code",
   "source": "n1.max()",
   "id": "2daa64792c9e9483",
   "outputs": [
    {
     "data": {
      "text/plain": [
       "88"
      ]
     },
     "execution_count": 123,
     "metadata": {},
     "output_type": "execute_result"
    }
   ],
   "execution_count": 123
  },
  {
   "metadata": {
    "ExecuteTime": {
     "end_time": "2024-11-19T09:19:54.786459Z",
     "start_time": "2024-11-19T09:19:54.781826Z"
    }
   },
   "cell_type": "code",
   "source": "n1.min(axis=0)",
   "id": "79ca866a216944a4",
   "outputs": [
    {
     "data": {
      "text/plain": [
       "array([2, 3, 6, 3])"
      ]
     },
     "execution_count": 125,
     "metadata": {},
     "output_type": "execute_result"
    }
   ],
   "execution_count": 125
  },
  {
   "metadata": {
    "ExecuteTime": {
     "end_time": "2024-11-19T09:19:56.664884Z",
     "start_time": "2024-11-19T09:19:56.659809Z"
    }
   },
   "cell_type": "code",
   "source": "n1.min(axis=1)",
   "id": "88f6911a7c58f55f",
   "outputs": [
    {
     "data": {
      "text/plain": [
       "array([3, 2])"
      ]
     },
     "execution_count": 126,
     "metadata": {},
     "output_type": "execute_result"
    }
   ],
   "execution_count": 126
  },
  {
   "metadata": {
    "ExecuteTime": {
     "end_time": "2024-11-19T09:20:28.108441Z",
     "start_time": "2024-11-19T09:20:28.103561Z"
    }
   },
   "cell_type": "code",
   "source": "n1.max(axis=0)",
   "id": "b8aad3cb479d12f3",
   "outputs": [
    {
     "data": {
      "text/plain": [
       "array([ 9, 88, 22,  7])"
      ]
     },
     "execution_count": 127,
     "metadata": {},
     "output_type": "execute_result"
    }
   ],
   "execution_count": 127
  },
  {
   "metadata": {
    "ExecuteTime": {
     "end_time": "2024-11-19T09:20:52.518583Z",
     "start_time": "2024-11-19T09:20:52.514828Z"
    }
   },
   "cell_type": "code",
   "source": "n1.max(axis=1)",
   "id": "8d27732820aa6851",
   "outputs": [
    {
     "data": {
      "text/plain": [
       "array([88,  7])"
      ]
     },
     "execution_count": 128,
     "metadata": {},
     "output_type": "execute_result"
    }
   ],
   "execution_count": 128
  },
  {
   "metadata": {
    "ExecuteTime": {
     "end_time": "2024-11-19T09:21:36.652786Z",
     "start_time": "2024-11-19T09:21:36.648256Z"
    }
   },
   "cell_type": "code",
   "source": "n1[1:2]",
   "id": "2d870848e159311f",
   "outputs": [
    {
     "data": {
      "text/plain": [
       "array([[2, 3, 6, 7]])"
      ]
     },
     "execution_count": 129,
     "metadata": {},
     "output_type": "execute_result"
    }
   ],
   "execution_count": 129
  },
  {
   "metadata": {
    "ExecuteTime": {
     "end_time": "2024-11-19T09:23:05.460052Z",
     "start_time": "2024-11-19T09:23:05.455029Z"
    }
   },
   "cell_type": "code",
   "source": "np.ones((3,))",
   "id": "4b0f436febfe56af",
   "outputs": [
    {
     "data": {
      "text/plain": [
       "array([1., 1., 1.])"
      ]
     },
     "execution_count": 131,
     "metadata": {},
     "output_type": "execute_result"
    }
   ],
   "execution_count": 131
  },
  {
   "metadata": {
    "ExecuteTime": {
     "end_time": "2024-11-19T09:23:17.065995Z",
     "start_time": "2024-11-19T09:23:17.062385Z"
    }
   },
   "cell_type": "code",
   "source": "np.ones((4,2))",
   "id": "8e55db974f9e29d",
   "outputs": [
    {
     "data": {
      "text/plain": [
       "array([[1., 1.],\n",
       "       [1., 1.],\n",
       "       [1., 1.],\n",
       "       [1., 1.]])"
      ]
     },
     "execution_count": 132,
     "metadata": {},
     "output_type": "execute_result"
    }
   ],
   "execution_count": 132
  },
  {
   "metadata": {
    "ExecuteTime": {
     "end_time": "2024-11-19T09:23:29.261293Z",
     "start_time": "2024-11-19T09:23:29.256158Z"
    }
   },
   "cell_type": "code",
   "source": "np.ones((3,4,2))",
   "id": "bb84bb339911886",
   "outputs": [
    {
     "data": {
      "text/plain": [
       "array([[[1., 1.],\n",
       "        [1., 1.],\n",
       "        [1., 1.],\n",
       "        [1., 1.]],\n",
       "\n",
       "       [[1., 1.],\n",
       "        [1., 1.],\n",
       "        [1., 1.],\n",
       "        [1., 1.]],\n",
       "\n",
       "       [[1., 1.],\n",
       "        [1., 1.],\n",
       "        [1., 1.],\n",
       "        [1., 1.]]])"
      ]
     },
     "execution_count": 133,
     "metadata": {},
     "output_type": "execute_result"
    }
   ],
   "execution_count": 133
  },
  {
   "metadata": {
    "ExecuteTime": {
     "end_time": "2024-11-19T09:26:39.251326Z",
     "start_time": "2024-11-19T09:26:39.246331Z"
    }
   },
   "cell_type": "code",
   "source": [
    "rng = np.random.default_rng()\n",
    "rng.random(5,)"
   ],
   "id": "787ab6c2d6aac01b",
   "outputs": [
    {
     "data": {
      "text/plain": [
       "array([0.73053991, 0.43393366, 0.77289985, 0.28654211, 0.8069217 ])"
      ]
     },
     "execution_count": 143,
     "metadata": {},
     "output_type": "execute_result"
    }
   ],
   "execution_count": 143
  },
  {
   "metadata": {
    "ExecuteTime": {
     "end_time": "2024-11-19T09:26:49.599598Z",
     "start_time": "2024-11-19T09:26:49.594521Z"
    }
   },
   "cell_type": "code",
   "source": "rng.random((4,3,2))",
   "id": "b0ba58b1c364feae",
   "outputs": [
    {
     "data": {
      "text/plain": [
       "array([[[0.11332506, 0.30007447],\n",
       "        [0.64448339, 0.06153767],\n",
       "        [0.01318903, 0.23335395]],\n",
       "\n",
       "       [[0.79055547, 0.66238689],\n",
       "        [0.66185045, 0.45589877],\n",
       "        [0.79686468, 0.77758391]],\n",
       "\n",
       "       [[0.19968316, 0.76501597],\n",
       "        [0.45471317, 0.93029647],\n",
       "        [0.4325205 , 0.98295647]],\n",
       "\n",
       "       [[0.81593599, 0.88402367],\n",
       "        [0.12577856, 0.8015491 ],\n",
       "        [0.91037982, 0.02872202]]])"
      ]
     },
     "execution_count": 144,
     "metadata": {},
     "output_type": "execute_result"
    }
   ],
   "execution_count": 144
  },
  {
   "metadata": {
    "ExecuteTime": {
     "end_time": "2024-11-19T09:28:06.968403Z",
     "start_time": "2024-11-19T09:28:06.963899Z"
    }
   },
   "cell_type": "code",
   "source": "rng.integers(2,10,(3,4))",
   "id": "e5988fc590808032",
   "outputs": [
    {
     "data": {
      "text/plain": [
       "array([[4, 5, 7, 9],\n",
       "       [9, 2, 7, 3],\n",
       "       [9, 2, 4, 6]], dtype=int64)"
      ]
     },
     "execution_count": 145,
     "metadata": {},
     "output_type": "execute_result"
    }
   ],
   "execution_count": 145
  },
  {
   "metadata": {},
   "cell_type": "markdown",
   "source": "去重",
   "id": "7bb961ce4cb6683f"
  },
  {
   "metadata": {
    "ExecuteTime": {
     "end_time": "2024-11-20T01:25:08.974287Z",
     "start_time": "2024-11-20T01:25:08.969258Z"
    }
   },
   "cell_type": "code",
   "source": [
    "a1 = np.array([11,11,12,13,14,15,16,17,12,13,11,14,18, 19,20])\n",
    "a1"
   ],
   "id": "91ee57c090698b9b",
   "outputs": [
    {
     "data": {
      "text/plain": [
       "array([11, 11, 12, 13, 14, 15, 16, 17, 12, 13, 11, 14, 18, 19, 20])"
      ]
     },
     "execution_count": 8,
     "metadata": {},
     "output_type": "execute_result"
    }
   ],
   "execution_count": 8
  },
  {
   "metadata": {
    "ExecuteTime": {
     "end_time": "2024-11-20T01:29:48.971761Z",
     "start_time": "2024-11-20T01:29:48.965117Z"
    }
   },
   "cell_type": "code",
   "source": "unique_a1 = np.unique(a1)",
   "id": "82195aed9aa14142",
   "outputs": [
    {
     "data": {
      "text/plain": [
       "array([11, 12, 13, 14, 15, 16, 17, 18, 19, 20])"
      ]
     },
     "execution_count": 9,
     "metadata": {},
     "output_type": "execute_result"
    }
   ],
   "execution_count": 9
  },
  {
   "metadata": {
    "ExecuteTime": {
     "end_time": "2024-11-20T01:32:01.925559Z",
     "start_time": "2024-11-20T01:32:01.920886Z"
    }
   },
   "cell_type": "code",
   "source": "np.unique(a1, return_index=True)",
   "id": "ceb68a191dd3b1b5",
   "outputs": [
    {
     "data": {
      "text/plain": [
       "(array([11, 12, 13, 14, 15, 16, 17, 18, 19, 20]),\n",
       " array([ 0,  2,  3,  4,  5,  6,  7, 12, 13, 14], dtype=int64))"
      ]
     },
     "execution_count": 15,
     "metadata": {},
     "output_type": "execute_result"
    }
   ],
   "execution_count": 15
  },
  {
   "metadata": {
    "ExecuteTime": {
     "end_time": "2024-11-20T01:31:47.785460Z",
     "start_time": "2024-11-20T01:31:47.780626Z"
    }
   },
   "cell_type": "code",
   "source": "np.unique(a1, return_counts=True)",
   "id": "bc0f586d1a400f9a",
   "outputs": [
    {
     "data": {
      "text/plain": [
       "(array([11, 12, 13, 14, 15, 16, 17, 18, 19, 20]),\n",
       " array([3, 2, 2, 2, 1, 1, 1, 1, 1, 1], dtype=int64))"
      ]
     },
     "execution_count": 14,
     "metadata": {},
     "output_type": "execute_result"
    }
   ],
   "execution_count": 14
  },
  {
   "metadata": {
    "ExecuteTime": {
     "end_time": "2024-11-20T02:02:58.083097Z",
     "start_time": "2024-11-20T02:02:58.079795Z"
    }
   },
   "cell_type": "code",
   "source": [
    "a2 = np.array([[1,2,3,4],[1,4,2,1],[1,6,7,5],[1,33,33,66]])\n",
    "print(a2)"
   ],
   "id": "7bcc0bdba35876c2",
   "outputs": [
    {
     "name": "stdout",
     "output_type": "stream",
     "text": [
      "[[ 1  2  3  4]\n",
      " [ 1  4  2  1]\n",
      " [ 1  6  7  5]\n",
      " [ 1 33 33 66]]\n"
     ]
    }
   ],
   "execution_count": 37
  },
  {
   "metadata": {
    "ExecuteTime": {
     "end_time": "2024-11-20T02:03:03.242987Z",
     "start_time": "2024-11-20T02:03:03.238822Z"
    }
   },
   "cell_type": "code",
   "source": "np.unique(a2)",
   "id": "a9351bbecdb82e86",
   "outputs": [
    {
     "data": {
      "text/plain": [
       "array([ 1,  2,  3,  4,  5,  6,  7, 33, 66])"
      ]
     },
     "execution_count": 38,
     "metadata": {},
     "output_type": "execute_result"
    }
   ],
   "execution_count": 38
  },
  {
   "metadata": {
    "ExecuteTime": {
     "end_time": "2024-11-20T02:08:18.550842Z",
     "start_time": "2024-11-20T02:08:18.546967Z"
    }
   },
   "cell_type": "code",
   "source": [
    "#唯一行\n",
    "a3 = np.unique(a2, axis=0)\n",
    "print(a3)"
   ],
   "id": "174bc9d56f2ce443",
   "outputs": [
    {
     "name": "stdout",
     "output_type": "stream",
     "text": [
      "[[ 1  2  3  4]\n",
      " [ 1  4  2  1]\n",
      " [ 1  6  7  5]\n",
      " [ 1 33 33 66]]\n"
     ]
    }
   ],
   "execution_count": 41
  },
  {
   "metadata": {
    "ExecuteTime": {
     "end_time": "2024-11-20T02:03:18.892964Z",
     "start_time": "2024-11-20T02:03:18.889571Z"
    }
   },
   "cell_type": "code",
   "source": [
    "#唯一列\n",
    "a4 = np.unique(a2, axis=1)\n",
    "print(a4)"
   ],
   "id": "e7728ff3018aa8af",
   "outputs": [
    {
     "name": "stdout",
     "output_type": "stream",
     "text": [
      "[[ 1  2  3  4]\n",
      " [ 1  4  2  1]\n",
      " [ 1  6  7  5]\n",
      " [ 1 33 33 66]]\n"
     ]
    }
   ],
   "execution_count": 40
  },
  {
   "metadata": {
    "ExecuteTime": {
     "end_time": "2024-11-20T02:44:20.167170Z",
     "start_time": "2024-11-20T02:44:20.160840Z"
    }
   },
   "cell_type": "code",
   "source": [
    "a3 = np.array([[1, 2, 3, 1], [5, 6, 7, 5], [9, 10, 11, 9], [1, 2, 3, 1]])\n",
    "print('a3:', a3, sep='\\n')\n",
    "# 沿指定的轴方向去除数值完全相同的\n",
    "u_a31 = np.unique(a3, axis=0)\n",
    "print('a3中axis=0：', u_a31, sep='\\n')  # 去除值完全相同行\n",
    "u_a32 = np.unique(a3, axis=1)\n",
    "print('a3中axis=1：', u_a32, sep='\\n')  # 去除值完全相同列\n"
   ],
   "id": "68d8e8bad9e12b75",
   "outputs": [
    {
     "name": "stdout",
     "output_type": "stream",
     "text": [
      "a3:\n",
      "[[ 1  2  3  1]\n",
      " [ 5  6  7  5]\n",
      " [ 9 10 11  9]\n",
      " [ 1  2  3  1]]\n",
      "a3中axis=0：\n",
      "[[ 1  2  3  1]\n",
      " [ 5  6  7  5]\n",
      " [ 9 10 11  9]]\n",
      "a3中axis=1：\n",
      "[[ 1  2  3]\n",
      " [ 5  6  7]\n",
      " [ 9 10 11]\n",
      " [ 1  2  3]]\n"
     ]
    }
   ],
   "execution_count": 49
  },
  {
   "metadata": {},
   "cell_type": "markdown",
   "source": "转置",
   "id": "cdf18733db029fa6"
  },
  {
   "metadata": {
    "ExecuteTime": {
     "end_time": "2024-11-20T02:53:54.955535Z",
     "start_time": "2024-11-20T02:53:54.952064Z"
    }
   },
   "cell_type": "code",
   "source": [
    "a1 = np.array([[1,2,3],[4,5,6]])\n",
    "print(a1)"
   ],
   "id": "125968745aaade0a",
   "outputs": [
    {
     "name": "stdout",
     "output_type": "stream",
     "text": [
      "[[1 2 3]\n",
      " [4 5 6]]\n"
     ]
    }
   ],
   "execution_count": 51
  },
  {
   "metadata": {
    "ExecuteTime": {
     "end_time": "2024-11-20T02:54:08.823153Z",
     "start_time": "2024-11-20T02:54:08.819178Z"
    }
   },
   "cell_type": "code",
   "source": "a1.reshape(3,2)",
   "id": "a8928b9648d16c1d",
   "outputs": [
    {
     "data": {
      "text/plain": [
       "array([[1, 2],\n",
       "       [3, 4],\n",
       "       [5, 6]])"
      ]
     },
     "execution_count": 52,
     "metadata": {},
     "output_type": "execute_result"
    }
   ],
   "execution_count": 52
  },
  {
   "metadata": {
    "ExecuteTime": {
     "end_time": "2024-11-20T02:54:23.214102Z",
     "start_time": "2024-11-20T02:54:23.209815Z"
    }
   },
   "cell_type": "code",
   "source": "a1.T",
   "id": "9816966279596765",
   "outputs": [
    {
     "data": {
      "text/plain": [
       "array([[1, 4],\n",
       "       [2, 5],\n",
       "       [3, 6]])"
      ]
     },
     "execution_count": 53,
     "metadata": {},
     "output_type": "execute_result"
    }
   ],
   "execution_count": 53
  },
  {
   "metadata": {
    "ExecuteTime": {
     "end_time": "2024-11-20T02:54:33.957047Z",
     "start_time": "2024-11-20T02:54:33.952673Z"
    }
   },
   "cell_type": "code",
   "source": "a1.transpose()",
   "id": "9a4024c376cd354a",
   "outputs": [
    {
     "data": {
      "text/plain": [
       "array([[1, 4],\n",
       "       [2, 5],\n",
       "       [3, 6]])"
      ]
     },
     "execution_count": 54,
     "metadata": {},
     "output_type": "execute_result"
    }
   ],
   "execution_count": 54
  },
  {
   "metadata": {},
   "cell_type": "markdown",
   "source": "反转",
   "id": "3842ec3ba44f47c3"
  },
  {
   "metadata": {
    "ExecuteTime": {
     "end_time": "2024-11-20T02:57:02.687259Z",
     "start_time": "2024-11-20T02:57:02.682586Z"
    }
   },
   "cell_type": "code",
   "source": [
    "a1 = np.arange(7)\n",
    "a1"
   ],
   "id": "71490c240b977a24",
   "outputs": [
    {
     "data": {
      "text/plain": [
       "array([0, 1, 2, 3, 4, 5, 6])"
      ]
     },
     "execution_count": 55,
     "metadata": {},
     "output_type": "execute_result"
    }
   ],
   "execution_count": 55
  },
  {
   "metadata": {
    "ExecuteTime": {
     "end_time": "2024-11-20T02:57:24.389409Z",
     "start_time": "2024-11-20T02:57:24.384386Z"
    }
   },
   "cell_type": "code",
   "source": "np.flip(a1)",
   "id": "2379ad4d0ae5ba9e",
   "outputs": [
    {
     "data": {
      "text/plain": [
       "array([6, 5, 4, 3, 2, 1, 0])"
      ]
     },
     "execution_count": 56,
     "metadata": {},
     "output_type": "execute_result"
    }
   ],
   "execution_count": 56
  },
  {
   "metadata": {
    "ExecuteTime": {
     "end_time": "2024-11-20T02:58:08.449998Z",
     "start_time": "2024-11-20T02:58:08.445316Z"
    }
   },
   "cell_type": "code",
   "source": [
    "a2 = np.arange(6).reshape(3,2)\n",
    "a2"
   ],
   "id": "f2d9139ec4348e4",
   "outputs": [
    {
     "data": {
      "text/plain": [
       "array([[0, 1],\n",
       "       [2, 3],\n",
       "       [4, 5]])"
      ]
     },
     "execution_count": 58,
     "metadata": {},
     "output_type": "execute_result"
    }
   ],
   "execution_count": 58
  },
  {
   "metadata": {
    "ExecuteTime": {
     "end_time": "2024-11-20T02:58:32.421409Z",
     "start_time": "2024-11-20T02:58:32.417635Z"
    }
   },
   "cell_type": "code",
   "source": [
    "#行和列均反转\n",
    "np.flip(a2)"
   ],
   "id": "98e5a70a7bf79cda",
   "outputs": [
    {
     "data": {
      "text/plain": [
       "array([[5, 4],\n",
       "       [3, 2],\n",
       "       [1, 0]])"
      ]
     },
     "execution_count": 60,
     "metadata": {},
     "output_type": "execute_result"
    }
   ],
   "execution_count": 60
  },
  {
   "metadata": {
    "ExecuteTime": {
     "end_time": "2024-11-20T02:59:09.720843Z",
     "start_time": "2024-11-20T02:59:09.716090Z"
    }
   },
   "cell_type": "code",
   "source": [
    "#所有行反转\n",
    "np.flip(a2, axis=0)"
   ],
   "id": "4d28aeec6717d914",
   "outputs": [
    {
     "data": {
      "text/plain": [
       "array([[4, 5],\n",
       "       [2, 3],\n",
       "       [0, 1]])"
      ]
     },
     "execution_count": 62,
     "metadata": {},
     "output_type": "execute_result"
    }
   ],
   "execution_count": 62
  },
  {
   "metadata": {
    "ExecuteTime": {
     "end_time": "2024-11-20T02:59:00.607063Z",
     "start_time": "2024-11-20T02:59:00.602294Z"
    }
   },
   "cell_type": "code",
   "outputs": [
    {
     "data": {
      "text/plain": [
       "array([[1, 0],\n",
       "       [3, 2],\n",
       "       [5, 4]])"
      ]
     },
     "execution_count": 61,
     "metadata": {},
     "output_type": "execute_result"
    }
   ],
   "execution_count": 61,
   "source": [
    "#所有列反转\n",
    "np.flip(a2, axis=1)"
   ],
   "id": "5d2cd63cf33d7c76"
  },
  {
   "metadata": {
    "ExecuteTime": {
     "end_time": "2024-11-20T03:02:45.152567Z",
     "start_time": "2024-11-20T03:02:45.147520Z"
    }
   },
   "cell_type": "code",
   "source": [
    "#指定行反转\n",
    "a2[1] = np.flip(a2[1])\n",
    "a2"
   ],
   "id": "96e24ca319b57300",
   "outputs": [
    {
     "data": {
      "text/plain": [
       "array([[0, 1],\n",
       "       [3, 2],\n",
       "       [4, 5]])"
      ]
     },
     "execution_count": 63,
     "metadata": {},
     "output_type": "execute_result"
    }
   ],
   "execution_count": 63
  },
  {
   "metadata": {
    "ExecuteTime": {
     "end_time": "2024-11-20T03:03:21.822913Z",
     "start_time": "2024-11-20T03:03:21.819078Z"
    }
   },
   "cell_type": "code",
   "source": [
    "#指定列反转\n",
    "a2[:,1] = np.flip(a2[:,1])\n",
    "a2"
   ],
   "id": "ae01dade03f6295c",
   "outputs": [
    {
     "data": {
      "text/plain": [
       "array([[0, 5],\n",
       "       [3, 2],\n",
       "       [4, 1]])"
      ]
     },
     "execution_count": 64,
     "metadata": {},
     "output_type": "execute_result"
    }
   ],
   "execution_count": 64
  },
  {
   "metadata": {},
   "cell_type": "markdown",
   "source": "数组的降维",
   "id": "a635425f06445674"
  },
  {
   "metadata": {
    "ExecuteTime": {
     "end_time": "2024-11-20T03:06:15.185142Z",
     "start_time": "2024-11-20T03:06:15.181159Z"
    }
   },
   "cell_type": "code",
   "source": [
    "a1 = np.array([[1,2,3],[4,5,6],[7,8,9]])\n",
    "a1"
   ],
   "id": "80d8a404cb97755e",
   "outputs": [
    {
     "data": {
      "text/plain": [
       "array([[1, 2, 3],\n",
       "       [4, 5, 6],\n",
       "       [7, 8, 9]])"
      ]
     },
     "execution_count": 65,
     "metadata": {},
     "output_type": "execute_result"
    }
   ],
   "execution_count": 65
  },
  {
   "metadata": {
    "ExecuteTime": {
     "end_time": "2024-11-20T03:06:35.713001Z",
     "start_time": "2024-11-20T03:06:35.708973Z"
    }
   },
   "cell_type": "code",
   "source": [
    "a2 = a1.flatten()\n",
    "a2"
   ],
   "id": "5122dc7046e3224e",
   "outputs": [
    {
     "data": {
      "text/plain": [
       "array([1, 2, 3, 4, 5, 6, 7, 8, 9])"
      ]
     },
     "execution_count": 66,
     "metadata": {},
     "output_type": "execute_result"
    }
   ],
   "execution_count": 66
  },
  {
   "metadata": {
    "ExecuteTime": {
     "end_time": "2024-11-20T03:07:01.853612Z",
     "start_time": "2024-11-20T03:07:01.850672Z"
    }
   },
   "cell_type": "code",
   "source": [
    "#flatten() 方法对原数组没影响\n",
    "a2[0] = 99\n",
    "print(a2)\n",
    "print(a1)"
   ],
   "id": "2d757531ea2e76a4",
   "outputs": [
    {
     "name": "stdout",
     "output_type": "stream",
     "text": [
      "[99  2  3  4  5  6  7  8  9]\n",
      "[[1 2 3]\n",
      " [4 5 6]\n",
      " [7 8 9]]\n"
     ]
    }
   ],
   "execution_count": 67
  },
  {
   "metadata": {
    "ExecuteTime": {
     "end_time": "2024-11-20T03:07:51.087554Z",
     "start_time": "2024-11-20T03:07:51.083565Z"
    }
   },
   "cell_type": "code",
   "source": [
    "a3 = a1.ravel()\n",
    "a3"
   ],
   "id": "378543b44f056fb0",
   "outputs": [
    {
     "data": {
      "text/plain": [
       "array([1, 2, 3, 4, 5, 6, 7, 8, 9])"
      ]
     },
     "execution_count": 68,
     "metadata": {},
     "output_type": "execute_result"
    }
   ],
   "execution_count": 68
  },
  {
   "metadata": {
    "ExecuteTime": {
     "end_time": "2024-11-20T03:08:05.111500Z",
     "start_time": "2024-11-20T03:08:05.108485Z"
    }
   },
   "cell_type": "code",
   "source": [
    "#ravel() 方法对原数组有影响\n",
    "a3[0] = 99\n",
    "print(a3)\n",
    "print(a1)"
   ],
   "id": "8099d303b5fc157a",
   "outputs": [
    {
     "name": "stdout",
     "output_type": "stream",
     "text": [
      "[99  2  3  4  5  6  7  8  9]\n",
      "[[99  2  3]\n",
      " [ 4  5  6]\n",
      " [ 7  8  9]]\n"
     ]
    }
   ],
   "execution_count": 69
  },
  {
   "metadata": {},
   "cell_type": "markdown",
   "source": "保存和加载",
   "id": "a330e44a92fe484f"
  },
  {
   "metadata": {
    "ExecuteTime": {
     "end_time": "2024-11-20T03:10:57.025419Z",
     "start_time": "2024-11-20T03:10:57.019247Z"
    }
   },
   "cell_type": "code",
   "source": [
    "a1 = np.array([[1,2,3],[4,5,6],[7,8,9]])\n",
    "a1"
   ],
   "id": "dfd76ffa09b27f6a",
   "outputs": [
    {
     "data": {
      "text/plain": [
       "array([[1, 2, 3],\n",
       "       [4, 5, 6],\n",
       "       [7, 8, 9]])"
      ]
     },
     "execution_count": 70,
     "metadata": {},
     "output_type": "execute_result"
    }
   ],
   "execution_count": 70
  },
  {
   "metadata": {
    "ExecuteTime": {
     "end_time": "2024-11-20T03:11:34.159489Z",
     "start_time": "2024-11-20T03:11:34.156134Z"
    }
   },
   "cell_type": "code",
   "source": "np.save('./numpyData',a1)",
   "id": "ad39ef08beebcd49",
   "outputs": [],
   "execution_count": 71
  },
  {
   "metadata": {
    "ExecuteTime": {
     "end_time": "2024-11-20T03:12:36.108328Z",
     "start_time": "2024-11-20T03:12:36.102775Z"
    }
   },
   "cell_type": "code",
   "source": [
    "a2 = np.load('./numpyData.npy')\n",
    "a2"
   ],
   "id": "b6c3fc571e28d0b3",
   "outputs": [
    {
     "data": {
      "text/plain": [
       "array([[1, 2, 3],\n",
       "       [4, 5, 6],\n",
       "       [7, 8, 9]])"
      ]
     },
     "execution_count": 73,
     "metadata": {},
     "output_type": "execute_result"
    }
   ],
   "execution_count": 73
  },
  {
   "metadata": {
    "ExecuteTime": {
     "end_time": "2024-11-20T03:24:54.650339Z",
     "start_time": "2024-11-20T03:24:54.645556Z"
    }
   },
   "cell_type": "code",
   "source": "np.savetxt('./numpyData.csv',a1)",
   "id": "3a7bfbe097d53fed",
   "outputs": [],
   "execution_count": 74
  },
  {
   "metadata": {
    "ExecuteTime": {
     "end_time": "2024-11-20T03:26:05.705488Z",
     "start_time": "2024-11-20T03:26:05.696501Z"
    }
   },
   "cell_type": "code",
   "source": [
    "a3 = np.loadtxt('./numpyData.csv')\n",
    "a3"
   ],
   "id": "ab3c0ec2046b5055",
   "outputs": [
    {
     "data": {
      "text/plain": [
       "array([[1., 2., 3.],\n",
       "       [4., 5., 6.],\n",
       "       [7., 8., 9.]])"
      ]
     },
     "execution_count": 76,
     "metadata": {},
     "output_type": "execute_result"
    }
   ],
   "execution_count": 76
  }
 ],
 "metadata": {
  "kernelspec": {
   "display_name": "Python 3 (ipykernel)",
   "language": "python",
   "name": "python3"
  },
  "language_info": {
   "codemirror_mode": {
    "name": "ipython",
    "version": 3
   },
   "file_extension": ".py",
   "mimetype": "text/x-python",
   "name": "python",
   "nbconvert_exporter": "python",
   "pygments_lexer": "ipython3",
   "version": "3.12.7"
  }
 },
 "nbformat": 4,
 "nbformat_minor": 5
}
