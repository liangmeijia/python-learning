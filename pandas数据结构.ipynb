{
 "cells": [
  {
   "cell_type": "code",
   "execution_count": 2,
   "id": "c19df0b5-6e3a-4176-bb12-fc2db0155ec7",
   "metadata": {},
   "outputs": [],
   "source": [
    "import pandas as pd"
   ]
  },
  {
   "cell_type": "code",
   "execution_count": 8,
   "id": "b8db4690-f116-4d7c-b823-15cd9814d3dd",
   "metadata": {},
   "outputs": [
    {
     "data": {
      "text/plain": [
       "Index(['a', 'b', 'c', 'd'], dtype='object')"
      ]
     },
     "execution_count": 8,
     "metadata": {},
     "output_type": "execute_result"
    }
   ],
   "source": [
    "#Series 是一维数组结构可以存储不同类型的数据,可以是ndarry,list，index是索引，必须和数据的个数一致\n",
    "#pd.Series(data=None,index=None,dtype=None,name=None,copy=None,fastpath=False)\n",
    "series = pd.Series(data=[22,33,'dd',55],index=['a','b','c','d'])\n",
    "#series\n",
    "series.index\n",
    "#series.values"
   ]
  },
  {
   "cell_type": "code",
   "execution_count": 7,
   "id": "2b58aebd-660a-4bcb-944a-194bc9bd3c53",
   "metadata": {},
   "outputs": [],
   "source": [
    "#DateForam 是一个二维表格数据，由多个Serices组成\n",
    "#pd.DataFrame(data=None,index=None,columns=None,dtype=None,copy=False)"
   ]
  }
 ],
 "metadata": {
  "kernelspec": {
   "display_name": "Python 3 (ipykernel)",
   "language": "python",
   "name": "python3"
  },
  "language_info": {
   "codemirror_mode": {
    "name": "ipython",
    "version": 3
   },
   "file_extension": ".py",
   "mimetype": "text/x-python",
   "name": "python",
   "nbconvert_exporter": "python",
   "pygments_lexer": "ipython3",
   "version": "3.11.10"
  }
 },
 "nbformat": 4,
 "nbformat_minor": 5
}
