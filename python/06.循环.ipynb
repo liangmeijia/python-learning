{
 "cells": [
  {
   "metadata": {},
   "cell_type": "markdown",
   "source": [
    "## 程序的3大流程\n",
    "* 顺序:从上向下，顺序执行代码\n",
    "* 分支: 根据条件判断，决定代码的分支(if判断)\n",
    "* 循环:让特定代码重复执行，真到条件不成成立才跳出循环"
   ],
   "id": "e45a0f9f4781f617"
  },
  {
   "metadata": {},
   "cell_type": "markdown",
   "source": "### while循环",
   "id": "4e1a0a3ce2cbe681"
  },
  {
   "metadata": {
    "ExecuteTime": {
     "end_time": "2024-11-12T06:44:26.740635Z",
     "start_time": "2024-11-12T06:44:26.737059Z"
    }
   },
   "cell_type": "code",
   "source": [
    "#计算1~100的累计和\n",
    "sum1 = 0\n",
    "i = 1\n",
    "while i <= 100: #循环条件\n",
    "    sum1 += i\n",
    "    i+=1 #计数器\n",
    "print(sum1,i)"
   ],
   "id": "35c2bc4fb5cca377",
   "outputs": [
    {
     "name": "stdout",
     "output_type": "stream",
     "text": [
      "5050 101\n"
     ]
    }
   ],
   "execution_count": 3
  },
  {
   "metadata": {
    "ExecuteTime": {
     "end_time": "2024-11-12T06:59:12.747919Z",
     "start_time": "2024-11-12T06:59:12.744480Z"
    }
   },
   "cell_type": "code",
   "source": [
    "#打印*\n",
    "i = 1\n",
    "while i <= 5:\n",
    "    print('* '*i)\n",
    "    i+=1"
   ],
   "id": "1fb46ef6916e797f",
   "outputs": [
    {
     "name": "stdout",
     "output_type": "stream",
     "text": [
      "* \n",
      "* * \n",
      "* * * \n",
      "* * * * \n",
      "* * * * * \n"
     ]
    }
   ],
   "execution_count": 6
  },
  {
   "metadata": {
    "ExecuteTime": {
     "end_time": "2024-11-12T07:14:03.981458Z",
     "start_time": "2024-11-12T07:14:03.977860Z"
    }
   },
   "cell_type": "code",
   "source": [
    "#打印九九乘法表\n",
    "row = 1\n",
    "while row <= 9:\n",
    "    col = 1\n",
    "    while col <= row:\n",
    "        print(f'{col}*{row}={row*col}', end='\\t')\n",
    "        col+=1\n",
    "    print()\n",
    "    row+=1"
   ],
   "id": "3791ab974cfb1132",
   "outputs": [
    {
     "name": "stdout",
     "output_type": "stream",
     "text": [
      "1*1=1\t\n",
      "1*2=2\t2*2=4\t\n",
      "1*3=3\t2*3=6\t3*3=9\t\n",
      "1*4=4\t2*4=8\t3*4=12\t4*4=16\t\n",
      "1*5=5\t2*5=10\t3*5=15\t4*5=20\t5*5=25\t\n",
      "1*6=6\t2*6=12\t3*6=18\t4*6=24\t5*6=30\t6*6=36\t\n",
      "1*7=7\t2*7=14\t3*7=21\t4*7=28\t5*7=35\t6*7=42\t7*7=49\t\n",
      "1*8=8\t2*8=16\t3*8=24\t4*8=32\t5*8=40\t6*8=48\t7*8=56\t8*8=64\t\n",
      "1*9=9\t2*9=18\t3*9=27\t4*9=36\t5*9=45\t6*9=54\t7*9=63\t8*9=72\t9*9=81\t\n"
     ]
    }
   ],
   "execution_count": 12
  },
  {
   "metadata": {},
   "cell_type": "markdown",
   "source": [
    "### for循环\n",
    "* 可迭代对象:能通过for循环一个个的把数取出来的对象\n",
    "* range()函数是一个可迭代对象\n",
    "* range(1,5,2)范围是左闭右开 [1,5) 1,3 \n",
    "* range(start,end,step)\n",
    "* start 计数开始的位置，默认是从0开始\n",
    "* end 计数的结束位置\n",
    "* step:每次跳跃的间距，不填默认为1\n"
   ],
   "id": "9ea18624c68398d6"
  },
  {
   "metadata": {
    "ExecuteTime": {
     "end_time": "2024-11-12T07:24:16.931410Z",
     "start_time": "2024-11-12T07:24:16.927068Z"
    }
   },
   "cell_type": "code",
   "source": [
    "#for 临时变量 in 可迭代对象\n",
    "#   满足循环条件后执行的代码\n",
    "sum1 = 0\n",
    "for i in range(1,101):\n",
    "    sum1+=i\n",
    "print(f'1~100的累计和是{sum1}')"
   ],
   "id": "f52835aa41839368",
   "outputs": [
    {
     "name": "stdout",
     "output_type": "stream",
     "text": [
      "1~100的累计和是5050\n"
     ]
    }
   ],
   "execution_count": 13
  },
  {
   "metadata": {
    "ExecuteTime": {
     "end_time": "2024-11-12T07:27:48.679608Z",
     "start_time": "2024-11-12T07:27:48.671625Z"
    }
   },
   "cell_type": "code",
   "source": [
    "#打印九九乘法表\n",
    "for row in range(1,10):\n",
    "    for col in range(1,row+1):\n",
    "        print(f'{col}*{row}={row * col}', end='\\t')\n",
    "    print()"
   ],
   "id": "22de958cd56836d4",
   "outputs": [
    {
     "name": "stdout",
     "output_type": "stream",
     "text": [
      "1*1=1\t\n",
      "1*2=2\t2*2=4\t\n",
      "1*3=3\t2*3=6\t3*3=9\t\n",
      "1*4=4\t2*4=8\t3*4=12\t4*4=16\t\n",
      "1*5=5\t2*5=10\t3*5=15\t4*5=20\t5*5=25\t\n",
      "1*6=6\t2*6=12\t3*6=18\t4*6=24\t5*6=30\t6*6=36\t\n",
      "1*7=7\t2*7=14\t3*7=21\t4*7=28\t5*7=35\t6*7=42\t7*7=49\t\n",
      "1*8=8\t2*8=16\t3*8=24\t4*8=32\t5*8=40\t6*8=48\t7*8=56\t8*8=64\t\n",
      "1*9=9\t2*9=18\t3*9=27\t4*9=36\t5*9=45\t6*9=54\t7*9=63\t8*9=72\t9*9=81\t\n"
     ]
    }
   ],
   "execution_count": 15
  },
  {
   "metadata": {},
   "cell_type": "markdown",
   "source": [
    "break 和 continue\n",
    "* 只能够在循环体内使用\n",
    "* break:退出所在循环的当前循环，不在当层循环\n",
    "* continue:结束循环，结束的是当前循环的本轮循环。continue后面的代码不执行了，继续下一轮循环"
   ],
   "id": "657aec188656b70a"
  },
  {
   "metadata": {
    "ExecuteTime": {
     "end_time": "2024-11-12T07:46:57.816699Z",
     "start_time": "2024-11-12T07:46:57.812947Z"
    }
   },
   "cell_type": "code",
   "source": [
    "i = 0\n",
    "while i <=10:\n",
    "    if i == 3:\n",
    "        break\n",
    "    print(i)\n",
    "    i+=1\n",
    "else:\n",
    "    print(f'结束while循环了，次数i={i}')\n",
    "#循环语句可以和else配对处理，else里面的代码属于while循环，所以break后不执行else里面的代码。当循环正常结束后，执行else里面的代码\n",
    "print('test')"
   ],
   "id": "7312244f5598801a",
   "outputs": [
    {
     "name": "stdout",
     "output_type": "stream",
     "text": [
      "0\n",
      "1\n",
      "2\n",
      "test\n"
     ]
    }
   ],
   "execution_count": 20
  },
  {
   "metadata": {
    "ExecuteTime": {
     "end_time": "2024-11-12T07:47:17.605588Z",
     "start_time": "2024-11-12T07:47:17.601965Z"
    }
   },
   "cell_type": "code",
   "source": [
    "for i in range(1,11):\n",
    "    if i == 3:\n",
    "        break\n",
    "    print(i)\n",
    "    "
   ],
   "id": "5d548008a2f26592",
   "outputs": [
    {
     "name": "stdout",
     "output_type": "stream",
     "text": [
      "1\n",
      "2\n"
     ]
    }
   ],
   "execution_count": 21
  }
 ],
 "metadata": {
  "kernelspec": {
   "display_name": "Python 3",
   "language": "python",
   "name": "python3"
  },
  "language_info": {
   "codemirror_mode": {
    "name": "ipython",
    "version": 2
   },
   "file_extension": ".py",
   "mimetype": "text/x-python",
   "name": "python",
   "nbconvert_exporter": "python",
   "pygments_lexer": "ipython2",
   "version": "2.7.6"
  }
 },
 "nbformat": 4,
 "nbformat_minor": 5
}
