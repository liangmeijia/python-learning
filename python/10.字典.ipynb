{
 "cells": [
  {
   "metadata": {},
   "cell_type": "markdown",
   "source": [
    "## 字典（dict）\n",
    "* 特性：键值对成对出现，键和值一一映射，绑定的关系\n",
    "* 定义：符号是大括号，数据为“键值对”形式出现;各个键值对之间用逗号隔开。eg:  {'name':'lili','age':19}\n",
    "* 重点：key是唯一的"
   ],
   "id": "b2d25019c6863510"
  },
  {
   "metadata": {
    "ExecuteTime": {
     "end_time": "2024-11-14T06:47:20.181772Z",
     "start_time": "2024-11-14T06:47:20.178145Z"
    }
   },
   "cell_type": "code",
   "source": [
    "dict1 = {'name':'lili','age':19}\n",
    "print(dict1)\n",
    "print(type(dict1))\n",
    "#定义空字典的两种方式\n",
    "d2 = {}\n",
    "d3 = dict()\n",
    "#有重复键时，覆盖写\n",
    "dict4 = {'name':'lili','age':19,'name':'bob'}\n",
    "print(dict4)"
   ],
   "id": "851c1dd95a4fe552",
   "outputs": [
    {
     "name": "stdout",
     "output_type": "stream",
     "text": [
      "{'name': 'lili', 'age': 19}\n",
      "<class 'dict'>\n",
      "{'name': 'bob', 'age': 19}\n"
     ]
    }
   ],
   "execution_count": 18
  },
  {
   "metadata": {},
   "cell_type": "markdown",
   "source": [
    "## 字典操作\n",
    "* 修改：dict['name'] = 'lili'\n",
    "* 增：dict['id'] = 'a001'，对于key，无则添加，有则覆盖\n",
    "* 删：del dict['id'] ，dict.clear()"
   ],
   "id": "94e2490da20bf92"
  },
  {
   "metadata": {
    "ExecuteTime": {
     "end_time": "2024-11-14T03:16:58.809497Z",
     "start_time": "2024-11-14T03:16:58.804501Z"
    }
   },
   "cell_type": "code",
   "source": [
    "#修改\n",
    "dict1['name'] = 'anger'\n",
    "#新增\n",
    "dict1['address'] = '成都'\n",
    "#删除\n",
    "del dict1['age']\n",
    "print(dict1)\n",
    "dict1.clear()\n",
    "print(dict1)"
   ],
   "id": "4998f743ed782ca",
   "outputs": [
    {
     "name": "stdout",
     "output_type": "stream",
     "text": [
      "{'name': 'anger', 'address': '成都'}\n",
      "{}\n"
     ]
    }
   ],
   "execution_count": 7
  },
  {
   "metadata": {},
   "cell_type": "markdown",
   "source": [
    "## 字典操作（查找）\n",
    "* 通过key访问， dict[key]\n",
    "* dict.len() 查看简直对面的个数\n",
    "* dict.keys() 查看所有键的列表\n",
    "* dict.values() 查看所有值的列表\n",
    "* dict.items() 查看所有（键值对）的列表"
   ],
   "id": "de41e5f1bb5a6c82"
  },
  {
   "metadata": {
    "ExecuteTime": {
     "end_time": "2024-11-14T03:22:58.510114Z",
     "start_time": "2024-11-14T03:22:58.505941Z"
    }
   },
   "cell_type": "code",
   "source": [
    "dict1 = {'name':'lili','age':19,'address':'成都'}\n",
    "print(dict1['name'])\n",
    "print(len(dict1))\n",
    "print(dict1.keys())\n",
    "print(dict1.values())\n",
    "print(dict1.items())"
   ],
   "id": "9061decddd34e1a0",
   "outputs": [
    {
     "name": "stdout",
     "output_type": "stream",
     "text": [
      "lili\n",
      "3\n",
      "dict_keys(['name', 'age', 'address'])\n",
      "dict_values(['lili', 19, '成都'])\n",
      "dict_items([('name', 'lili'), ('age', 19), ('address', '成都')])\n"
     ]
    }
   ],
   "execution_count": 10
  },
  {
   "metadata": {},
   "cell_type": "markdown",
   "source": [
    "## 字典操作（循环遍历）\n",
    "* for... in... "
   ],
   "id": "9abb419eed0cdfa3"
  },
  {
   "metadata": {
    "ExecuteTime": {
     "end_time": "2024-11-14T03:28:49.349124Z",
     "start_time": "2024-11-14T03:28:49.345345Z"
    }
   },
   "cell_type": "code",
   "source": [
    "for value in dict1.values():\n",
    "    print(value)\n",
    "for key in dict1.keys():\n",
    "    print(key)\n",
    "for key,value in dict1.items():\n",
    "    print(key,value)"
   ],
   "id": "80a1b820013bdfbf",
   "outputs": [
    {
     "name": "stdout",
     "output_type": "stream",
     "text": [
      "lili\n",
      "19\n",
      "成都\n",
      "name\n",
      "age\n",
      "address\n",
      "name lili\n",
      "age 19\n",
      "address 成都\n"
     ]
    }
   ],
   "execution_count": 13
  }
 ],
 "metadata": {
  "kernelspec": {
   "display_name": "Python 3",
   "language": "python",
   "name": "python3"
  },
  "language_info": {
   "codemirror_mode": {
    "name": "ipython",
    "version": 2
   },
   "file_extension": ".py",
   "mimetype": "text/x-python",
   "name": "python",
   "nbconvert_exporter": "python",
   "pygments_lexer": "ipython2",
   "version": "2.7.6"
  }
 },
 "nbformat": 4,
 "nbformat_minor": 5
}
