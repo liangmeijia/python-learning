{
 "cells": [
  {
   "metadata": {},
   "cell_type": "markdown",
   "source": [
    "## 不可变对象\n",
    "* 针对的是值(数据内容)来说的，原来存放数据的地址下的内容不可变，数据更新需要分配新的地址来存放新数据\n",
    "* 类型：int 、float、 bool 、complex、 tuple、 str"
   ],
   "id": "11a9ee898cd1a369"
  },
  {
   "metadata": {
    "ExecuteTime": {
     "end_time": "2024-11-15T02:54:29.845036Z",
     "start_time": "2024-11-15T02:54:29.841939Z"
    }
   },
   "cell_type": "code",
   "source": [
    "# int 不可变\n",
    "i = 9\n",
    "print(id(i))\n",
    "i = 10\n",
    "print(id(i))"
   ],
   "id": "a8488f866ffa0550",
   "outputs": [
    {
     "name": "stdout",
     "output_type": "stream",
     "text": [
      "140727374654136\n",
      "140727374654168\n"
     ]
    }
   ],
   "execution_count": 4
  },
  {
   "metadata": {
    "ExecuteTime": {
     "end_time": "2024-11-15T03:02:49.541626Z",
     "start_time": "2024-11-15T03:02:49.525566Z"
    }
   },
   "cell_type": "code",
   "source": [
    "#元组不可变\n",
    "t = (1,44,66,8)\n",
    "print(t,id(t),id(t[1]))\n",
    "# t[0] = 88 #TypeError: 'tuple' object does not support item assignment\n",
    "t =  (33,56)\n",
    "print(t,id(t),id(t[1]))"
   ],
   "id": "11ecde7c844b3e4c",
   "outputs": [
    {
     "name": "stdout",
     "output_type": "stream",
     "text": [
      "(1, 44, 66, 8) 2438236402480 140727374655256\n"
     ]
    },
    {
     "ename": "TypeError",
     "evalue": "'tuple' object does not support item assignment",
     "output_type": "error",
     "traceback": [
      "\u001B[1;31m---------------------------------------------------------------------------\u001B[0m",
      "\u001B[1;31mTypeError\u001B[0m                                 Traceback (most recent call last)",
      "Cell \u001B[1;32mIn[9], line 3\u001B[0m\n\u001B[0;32m      1\u001B[0m t \u001B[38;5;241m=\u001B[39m (\u001B[38;5;241m1\u001B[39m,\u001B[38;5;241m44\u001B[39m,\u001B[38;5;241m66\u001B[39m,\u001B[38;5;241m8\u001B[39m)\n\u001B[0;32m      2\u001B[0m \u001B[38;5;28mprint\u001B[39m(t,\u001B[38;5;28mid\u001B[39m(t),\u001B[38;5;28mid\u001B[39m(t[\u001B[38;5;241m1\u001B[39m]))\n\u001B[1;32m----> 3\u001B[0m \u001B[43mt\u001B[49m\u001B[43m[\u001B[49m\u001B[38;5;241;43m0\u001B[39;49m\u001B[43m]\u001B[49m \u001B[38;5;241m=\u001B[39m \u001B[38;5;241m88\u001B[39m\n\u001B[0;32m      4\u001B[0m t \u001B[38;5;241m=\u001B[39m  (\u001B[38;5;241m33\u001B[39m,\u001B[38;5;241m56\u001B[39m)\n\u001B[0;32m      5\u001B[0m \u001B[38;5;28mprint\u001B[39m(t,\u001B[38;5;28mid\u001B[39m(t),\u001B[38;5;28mid\u001B[39m(t[\u001B[38;5;241m1\u001B[39m]))\n",
      "\u001B[1;31mTypeError\u001B[0m: 'tuple' object does not support item assignment"
     ]
    }
   ],
   "execution_count": 9
  },
  {
   "metadata": {},
   "cell_type": "markdown",
   "source": [
    "## 可变对象\n",
    "* 存储空间保存的数据允许被修改\n",
    "* list 、dict、set"
   ],
   "id": "46e2616f42fc7404"
  },
  {
   "metadata": {
    "ExecuteTime": {
     "end_time": "2024-11-15T02:58:27.227997Z",
     "start_time": "2024-11-15T02:58:27.224568Z"
    }
   },
   "cell_type": "code",
   "source": [
    "#列表可变\n",
    "l = [5,9]\n",
    "print(l,id(l),id(l[0]))\n",
    "l[0] = 90\n",
    "print(l,id(l),id(l[0]))"
   ],
   "id": "12c48915bf14f877",
   "outputs": [
    {
     "name": "stdout",
     "output_type": "stream",
     "text": [
      "[5, 9] 2438224911104 140727374654008\n",
      "[90, 9] 2438224911104 140727374656728\n"
     ]
    }
   ],
   "execution_count": 7
  },
  {
   "metadata": {
    "ExecuteTime": {
     "end_time": "2024-11-15T03:13:02.935960Z",
     "start_time": "2024-11-15T03:13:02.931708Z"
    }
   },
   "cell_type": "code",
   "source": [
    "#集合可变\n",
    "s = {'a',100,99}\n",
    "print(s,type(s),id(s))\n",
    "s.add('n')\n",
    "print(s,type(s),id(s))"
   ],
   "id": "dc4b96b93e0aa314",
   "outputs": [
    {
     "name": "stdout",
     "output_type": "stream",
     "text": [
      "{'a', 99, 100} <class 'set'> 2438231106816\n",
      "{'a', 99, 100, 'n'} <class 'set'> 2438231106816\n"
     ]
    }
   ],
   "execution_count": 10
  },
  {
   "metadata": {},
   "cell_type": "markdown",
   "source": [
    "## 总结\n",
    "* 不可变对象 内容不变 地址改变\n",
    "* 可变对象 内容改变 地址不变"
   ],
   "id": "3ecb7793ba970b68"
  }
 ],
 "metadata": {
  "kernelspec": {
   "display_name": "Python 3",
   "language": "python",
   "name": "python3"
  },
  "language_info": {
   "codemirror_mode": {
    "name": "ipython",
    "version": 2
   },
   "file_extension": ".py",
   "mimetype": "text/x-python",
   "name": "python",
   "nbconvert_exporter": "python",
   "pygments_lexer": "ipython2",
   "version": "2.7.6"
  }
 },
 "nbformat": 4,
 "nbformat_minor": 5
}
