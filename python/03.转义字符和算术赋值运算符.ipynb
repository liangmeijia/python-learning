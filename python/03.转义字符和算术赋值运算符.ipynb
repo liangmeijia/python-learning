{
 "cells": [
  {
   "metadata": {},
   "cell_type": "markdown",
   "source": [
    "### 转义:转义是特殊意义，默认是特殊意义反斜杠符号\n",
    "* 单引号\\‘\n",
    "* 双引号\\\"\n",
    "* 反斜杠\\\\\n",
    "* 换行\\n\n",
    "* 制表符\\t (四个空格)"
   ],
   "id": "96a2c0be7b776968"
  },
  {
   "metadata": {
    "ExecuteTime": {
     "end_time": "2024-11-11T09:30:47.870599Z",
     "start_time": "2024-11-11T09:30:47.865403Z"
    }
   },
   "cell_type": "code",
   "source": "print('hello\\nworld')\n",
   "id": "46134ca56e8ef682",
   "outputs": [
    {
     "name": "stdout",
     "output_type": "stream",
     "text": [
      "hello\n",
      "world\n"
     ]
    }
   ],
   "execution_count": 1
  },
  {
   "metadata": {},
   "cell_type": "markdown",
   "source": [
    "### 算术运算符\n",
    "* 加+\n",
    "* 减-\n",
    "* 乘*\n",
    "* 除/\n",
    "* 整除//\n",
    "* 取余%\n",
    "* 幂次**\n",
    "### 运算符优先级\n",
    "* 先是冥次\n",
    "* 再是乘、除、取余、整除\n",
    "* 最后是加减"
   ],
   "id": "ccab8c5b33982e32"
  },
  {
   "metadata": {
    "ExecuteTime": {
     "end_time": "2024-11-12T01:12:49.281082Z",
     "start_time": "2024-11-12T01:12:49.275582Z"
    }
   },
   "cell_type": "code",
   "source": [
    "print(10+20)\n",
    "print(10-20)\n",
    "print(10*20)\n",
    "print(10/20)\n",
    "print(9%2)\n",
    "print(9//2)\n",
    "print(10**2)"
   ],
   "id": "6b4a5518547bc569",
   "outputs": [
    {
     "name": "stdout",
     "output_type": "stream",
     "text": [
      "30\n",
      "-10\n",
      "200\n",
      "0.5\n",
      "1\n",
      "4\n",
      "100\n"
     ]
    }
   ],
   "execution_count": 1
  },
  {
   "metadata": {},
   "cell_type": "markdown",
   "source": [
    "### 赋值运算符\n",
    "* =\n",
    "* +=\n",
    "* -=\n",
    "* *=\n",
    "* /=\n",
    "* %=\n",
    "* //=\n",
    "* **=\n"
   ],
   "id": "705e46b1642b2d59"
  },
  {
   "metadata": {
    "ExecuteTime": {
     "end_time": "2024-11-12T01:22:49.698282Z",
     "start_time": "2024-11-12T01:22:49.693743Z"
    }
   },
   "cell_type": "code",
   "source": [
    "a = 10\n",
    "a +=20\n",
    "print(a)"
   ],
   "id": "8c9abc6b9168993f",
   "outputs": [
    {
     "name": "stdout",
     "output_type": "stream",
     "text": [
      "30\n"
     ]
    }
   ],
   "execution_count": 2
  }
 ],
 "metadata": {
  "kernelspec": {
   "display_name": "Python 3",
   "language": "python",
   "name": "python3"
  },
  "language_info": {
   "codemirror_mode": {
    "name": "ipython",
    "version": 2
   },
   "file_extension": ".py",
   "mimetype": "text/x-python",
   "name": "python",
   "nbconvert_exporter": "python",
   "pygments_lexer": "ipython2",
   "version": "2.7.6"
  }
 },
 "nbformat": 4,
 "nbformat_minor": 5
}
