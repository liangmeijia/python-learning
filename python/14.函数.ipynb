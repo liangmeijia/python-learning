{
 "cells": [
  {
   "metadata": {},
   "cell_type": "markdown",
   "source": [
    "## 函数\n",
    "* 函数:把具有独立功能的代码块组合成一个个小模块\n",
    "* 作用:提高写代码的效率，实现代码复用--流程标准化\n",
    "* 函数名：只能包含字母、下划线和数字且不能以数字开头。且不能和关键字重名\n",
    "* pass：是空语句,是为了保持程序结构的完整性。"
   ],
   "id": "22cdef3122cc83f"
  },
  {
   "metadata": {},
   "cell_type": "markdown",
   "source": "### 函数的定义",
   "id": "8e775cb7df25eea"
  },
  {
   "metadata": {},
   "cell_type": "code",
   "outputs": [],
   "execution_count": null,
   "source": [
    "def fun1():\n",
    "    print('test')"
   ],
   "id": "c64160d9d0623398"
  },
  {
   "metadata": {
    "ExecuteTime": {
     "end_time": "2024-11-15T07:12:04.525560Z",
     "start_time": "2024-11-15T07:12:04.520897Z"
    }
   },
   "cell_type": "code",
   "outputs": [
    {
     "name": "stdout",
     "output_type": "stream",
     "text": [
      "Random variable generators.\n",
      "\n",
      "    bytes\n",
      "    -----\n",
      "           uniform bytes (values between 0 and 255)\n",
      "\n",
      "    integers\n",
      "    --------\n",
      "           uniform within range\n",
      "\n",
      "    sequences\n",
      "    ---------\n",
      "           pick random element\n",
      "           pick random sample\n",
      "           pick weighted random sample\n",
      "           generate random permutation\n",
      "\n",
      "    distributions on the real line:\n",
      "    ------------------------------\n",
      "           uniform\n",
      "           triangular\n",
      "           normal (Gaussian)\n",
      "           lognormal\n",
      "           negative exponential\n",
      "           gamma\n",
      "           beta\n",
      "           pareto\n",
      "           Weibull\n",
      "\n",
      "    distributions on the circle (angles 0 to 2pi)\n",
      "    ---------------------------------------------\n",
      "           circular uniform\n",
      "           von Mises\n",
      "\n",
      "    discrete distributions\n",
      "    ----------------------\n",
      "           binomial\n",
      "\n",
      "\n",
      "General notes on the underlying Mersenne Twister core generator:\n",
      "\n",
      "* The period is 2**19937-1.\n",
      "* It is one of the most extensively tested generators in existence.\n",
      "* The random() method is implemented in C, executes in a single Python step,\n",
      "  and is, therefore, threadsafe.\n",
      "\n",
      "\n"
     ]
    }
   ],
   "execution_count": 5,
   "source": [
    "import random\n",
    "#函数的说明文档\n",
    "#help()\n",
    "print(help(random))\n",
    "#__doc__\n",
    "print(random.__doc__)  "
   ],
   "id": "950dad23a77a6ba4"
  },
  {
   "metadata": {},
   "cell_type": "markdown",
   "source": "### 函数的调用",
   "id": "8eb4fc2b8f41b631"
  },
  {
   "metadata": {
    "ExecuteTime": {
     "end_time": "2024-11-15T07:14:54.394740Z",
     "start_time": "2024-11-15T07:14:54.391234Z"
    }
   },
   "cell_type": "code",
   "source": [
    "def sing():\n",
    "    print(\"唱歌\")\n",
    "#函数的调用，调用后函数才被执行\n",
    "sing()"
   ],
   "id": "36d11c89ba565e0c",
   "outputs": [
    {
     "name": "stdout",
     "output_type": "stream",
     "text": [
      "唱歌\n"
     ]
    }
   ],
   "execution_count": 6
  },
  {
   "metadata": {},
   "cell_type": "markdown",
   "source": "### 函数返回值",
   "id": "b2d4a383e43faff9"
  },
  {
   "metadata": {
    "ExecuteTime": {
     "end_time": "2024-11-15T07:25:23.362633Z",
     "start_time": "2024-11-15T07:25:23.358584Z"
    }
   },
   "cell_type": "code",
   "source": [
    "#return 返回值 :函数返回值，是返回给函数的调用者\n",
    "def fun2():\n",
    "    return 10\n",
    "ans = fun2()\n",
    "print(ans)\n"
   ],
   "id": "2481229d19c61b9a",
   "outputs": [
    {
     "name": "stdout",
     "output_type": "stream",
     "text": [
      "10\n"
     ]
    }
   ],
   "execution_count": 7
  },
  {
   "metadata": {
    "ExecuteTime": {
     "end_time": "2024-11-15T07:38:41.247468Z",
     "start_time": "2024-11-15T07:38:41.242626Z"
    }
   },
   "cell_type": "code",
   "source": [
    "#返回值本质上只能返回一个值，这个值可以是一个元组、列表、字典等(作为一个整体，当成一个元素来返回)\n",
    "\n",
    "#返回多个值时，是以【元组】的形式返回的\n",
    "def fun3 ():\n",
    "    return 'a',2,'v'\n",
    "ans = fun3()\n",
    "print(ans,type(ans))\n",
    "\n",
    "#当函数内有多个return时，执行完第一个return后函数就执行完成了，后面的return语句或其他语句均不会被执行、\n",
    "def fun4():\n",
    "    return 'success'\n",
    "    return 'ok'\n",
    "    print('okk')\n",
    "ans2 = fun4()\n",
    "print(ans2,type(ans2))\n",
    "\n",
    "#一个函数里面没有return的情况--实际上也有一个默认的return None\n",
    "def fun5():\n",
    "    a = 10\n",
    "    print(a)\n",
    "ans3 = fun5()\n",
    "print(ans3,type(ans3))"
   ],
   "id": "923b4ec5933d304f",
   "outputs": [
    {
     "name": "stdout",
     "output_type": "stream",
     "text": [
      "('a', 2, 'v') <class 'tuple'>\n",
      "success <class 'str'>\n",
      "10\n",
      "None <class 'NoneType'>\n"
     ]
    }
   ],
   "execution_count": 13
  },
  {
   "metadata": {},
   "cell_type": "markdown",
   "source": [
    "### 函数的参数\n",
    "* 本质是将函数的实际参数传给形式参数的过程\n",
    "* 必选参数：定义了几个，就必须要传几个\n",
    "* 默认参数：定义时设置，格式是形参名 = 默认值，不传参数时，则使用默认，不传参时，就使用传参值更新数据\n",
    "* 不定长参数：\\*args,真正有魔法效果，起作用的是\\*，args可以取其它名,接收多个值时，以元组形式接收\n",
    "* 关键字参数：\\**kargs，传参格式：key=value(实参)\n",
    "* 命名关键字参数："
   ],
   "id": "91b734210b8b78be"
  },
  {
   "metadata": {
    "ExecuteTime": {
     "end_time": "2024-11-15T08:16:06.505431Z",
     "start_time": "2024-11-15T08:16:06.501021Z"
    }
   },
   "cell_type": "code",
   "source": [
    "def add(v1,v2):\n",
    "    return v1 + v2\n",
    "print(add(2,7))\n",
    "#print(add(4))#TypeError: add() missing 1 required positional argument: 'v2'"
   ],
   "id": "461ca4fda1d308fb",
   "outputs": [
    {
     "name": "stdout",
     "output_type": "stream",
     "text": [
      "9\n"
     ]
    }
   ],
   "execution_count": 19
  },
  {
   "metadata": {
    "ExecuteTime": {
     "end_time": "2024-11-15T07:51:50.476267Z",
     "start_time": "2024-11-15T07:51:50.472652Z"
    }
   },
   "cell_type": "code",
   "source": [
    "def fun6(a = 12):\n",
    "    print(f'a={a}')\n",
    "fun6()\n",
    "fun6(44)"
   ],
   "id": "977f9659be1cb270",
   "outputs": [
    {
     "name": "stdout",
     "output_type": "stream",
     "text": [
      "a=12\n",
      "a=44\n"
     ]
    }
   ],
   "execution_count": 17
  },
  {
   "metadata": {
    "ExecuteTime": {
     "end_time": "2024-11-15T07:56:32.459577Z",
     "start_time": "2024-11-15T07:56:32.455737Z"
    }
   },
   "cell_type": "code",
   "source": [
    "def fun7(*args):\n",
    "    print(args,type(args))\n",
    "#可以传0到任意多个值\n",
    "fun7(1,2,3,4,5)"
   ],
   "id": "299beac767c0ab4c",
   "outputs": [
    {
     "name": "stdout",
     "output_type": "stream",
     "text": [
      "(1, 2, 3, 4, 5) <class 'tuple'>\n"
     ]
    }
   ],
   "execution_count": 18
  },
  {
   "metadata": {
    "ExecuteTime": {
     "end_time": "2024-11-15T09:25:40.669924Z",
     "start_time": "2024-11-15T09:25:40.666401Z"
    }
   },
   "cell_type": "code",
   "source": [
    "def fun9(**kwargs):\n",
    "    print(kwargs,type(kwargs))\n",
    "fun9(name='bob',age=19,address='成都')"
   ],
   "id": "61ed6c10261dd3d9",
   "outputs": [
    {
     "name": "stdout",
     "output_type": "stream",
     "text": [
      "{'name': 'bob', 'age': 19, 'address': '成都'} <class 'dict'>\n"
     ]
    }
   ],
   "execution_count": 34
  },
  {
   "metadata": {
    "ExecuteTime": {
     "end_time": "2024-11-15T09:25:10.756046Z",
     "start_time": "2024-11-15T09:25:10.751232Z"
    }
   },
   "cell_type": "code",
   "source": [
    "#命名关键字参数\n",
    "# 命名关键字参数可以在函数定义时使用*前缀来创建。一旦在参数列表中出现*，其后的所有参数都必须通过关键字方式传入 ,eg: *,name='bob',job='teacher'\n",
    "#应用场景:要限制关键字参数的名字的时候\n",
    "def fun10(org,gender='女',*,name='bob',job='teacher'):\n",
    "    print(org,gender,name,job) \n",
    "fun10('sctel',name='anger')"
   ],
   "id": "6749cc6729745f51",
   "outputs": [
    {
     "name": "stdout",
     "output_type": "stream",
     "text": [
      "sctel 女 bob teacher\n"
     ]
    }
   ],
   "execution_count": 33
  },
  {
   "metadata": {
    "ExecuteTime": {
     "end_time": "2024-11-15T09:27:29.848402Z",
     "start_time": "2024-11-15T09:27:29.844286Z"
    }
   },
   "cell_type": "code",
   "source": [
    "#混合参数 参数定义顺序:必选参数(位置参数)、默认参数、可变参数、命名关键字/关键字参数。\n",
    "def fun11(a,b = 2,*c):\n",
    "    print(f'a={a}')\n",
    "    print(f'b={b}')\n",
    "    print(f'c={c}')\n",
    "    print(type(a),type(b),type(c))\n",
    "fun11(8,7,6,5,4)"
   ],
   "id": "412281a6d852fede",
   "outputs": [
    {
     "name": "stdout",
     "output_type": "stream",
     "text": [
      "a=8\n",
      "b=7\n",
      "c=(6, 5, 4)\n",
      "<class 'int'> <class 'int'> <class 'tuple'>\n"
     ]
    }
   ],
   "execution_count": 36
  },
  {
   "metadata": {
    "ExecuteTime": {
     "end_time": "2024-11-15T09:33:10.833396Z",
     "start_time": "2024-11-15T09:33:10.828909Z"
    }
   },
   "cell_type": "code",
   "source": [
    "#混合参数\n",
    "def fun12(a,b=1,*c,**d):\n",
    "     print(f'a={a}')\n",
    "     print(f'b={b}')\n",
    "     print(f'c={c}')\n",
    "     print(f'd={d}')\n",
    "     print(type(a),type(b),type(c),type(d))\n",
    "fun12(9,8,7,65,5,name='kk',job='teacher')"
   ],
   "id": "d46cd7facfe59534",
   "outputs": [
    {
     "name": "stdout",
     "output_type": "stream",
     "text": [
      "a=9\n",
      "b=8\n",
      "c=(7, 65, 5)\n",
      "d={'name': 'kk', 'job': 'teacher'}\n",
      "<class 'int'> <class 'int'> <class 'tuple'> <class 'dict'>\n"
     ]
    }
   ],
   "execution_count": 38
  },
  {
   "metadata": {},
   "cell_type": "markdown",
   "source": [
    "## 函数/方法/关键字的区别:\n",
    "* 函数:封装有独立的功能，可以调用，函数名()\n",
    "* 方法:在类中的说法，通过对象来进行，对象.方法"
   ],
   "id": "264efee61b7c070e"
  },
  {
   "metadata": {},
   "cell_type": "code",
   "outputs": [],
   "execution_count": null,
   "source": "",
   "id": "5d1795e7baaede2"
  }
 ],
 "metadata": {
  "kernelspec": {
   "display_name": "Python 3",
   "language": "python",
   "name": "python3"
  },
  "language_info": {
   "codemirror_mode": {
    "name": "ipython",
    "version": 2
   },
   "file_extension": ".py",
   "mimetype": "text/x-python",
   "name": "python",
   "nbconvert_exporter": "python",
   "pygments_lexer": "ipython2",
   "version": "2.7.6"
  }
 },
 "nbformat": 4,
 "nbformat_minor": 5
}
