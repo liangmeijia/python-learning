{
 "cells": [
  {
   "metadata": {},
   "cell_type": "markdown",
   "source": [
    "## 集合（Set）\n",
    "* 定义:大括号包围元素，每个元素间用逗号来隔开\n",
    "* 与字典的区别:字典键值对一一对应的关系，集合是没有的\n",
    "* 特点：\n",
    "* a.集合中的数值不重复\n",
    "* b.集合是无序，不支持下标操作。\n",
    "* c.可以用于元组或者列表去重。\n"
   ],
   "id": "1d173824931da95e"
  },
  {
   "metadata": {
    "ExecuteTime": {
     "end_time": "2024-11-14T06:08:45.280386Z",
     "start_time": "2024-11-14T06:08:45.276391Z"
    }
   },
   "cell_type": "code",
   "source": [
    "#集合的定义\n",
    "s1 = {'aa','bb',3,19}\n",
    "s2 = set('hello')\n",
    "print(s1)\n",
    "print(type(s1))\n",
    "print(s2)\n",
    "print(type(s2))\n",
    "#定义空集合\n",
    "#s = {}这种是定义空字典\n",
    "# s3 = set()\n",
    "# print(s3,type(s3))"
   ],
   "id": "cf5fbdac99ea1de1",
   "outputs": [
    {
     "name": "stdout",
     "output_type": "stream",
     "text": [
      "{19, 'bb', 3, 'aa'}\n",
      "<class 'set'>\n",
      "{'o', 'h', 'l', 'e'}\n",
      "<class 'set'>\n"
     ]
    }
   ],
   "execution_count": 10
  },
  {
   "metadata": {},
   "cell_type": "markdown",
   "source": [
    "## 集合操作(增)\n",
    "* set.add(obj),将obj追加到set集合中,且obj只能是单个元素\n",
    "* set.update(obj),将obj追加到set集合中，且obj必须是可迭代对象（集合、字典、列表、元组），否则报错"
   ],
   "id": "876bc5c60294c3a4"
  },
  {
   "metadata": {
    "ExecuteTime": {
     "end_time": "2024-11-14T06:23:45.771187Z",
     "start_time": "2024-11-14T06:23:45.766217Z"
    }
   },
   "cell_type": "code",
   "source": [
    "s1 = {10,20,30}\n",
    "s1.add(40)\n",
    "print(s1)\n",
    "#添加元组\n",
    "s1.update((29,))\n",
    "print(s1)\n",
    "#添加列表\n",
    "s1.update([100,33])\n",
    "print(s1)\n",
    "#添加集合(已有的元素不会被添加)\n",
    "s1.update({100,33,2})\n",
    "print(s1)\n",
    "#添加字典(只添加了key)\n",
    "s1.update({34:88})\n",
    "print(s1)"
   ],
   "id": "f0a9c034909fd41e",
   "outputs": [
    {
     "name": "stdout",
     "output_type": "stream",
     "text": [
      "{40, 10, 20, 30}\n",
      "{40, 10, 20, 29, 30}\n",
      "{33, 100, 40, 10, 20, 29, 30}\n",
      "{33, 2, 100, 40, 10, 20, 29, 30}\n",
      "{33, 2, 34, 100, 40, 10, 20, 29, 30}\n"
     ]
    }
   ],
   "execution_count": 16
  },
  {
   "metadata": {},
   "cell_type": "markdown",
   "source": [
    "## 集合操作（删）\n",
    "* set.remove(obj) 删除集合中指定的数据 如果数据不存在就会报错\n",
    "* set.discard(obj) 删除集合中指定的数据 如果数据不存在不会报错\n",
    "* set.pop() 随机删除集合中的某个数据 并返回该数据"
   ],
   "id": "119c50b61dc184b4"
  },
  {
   "metadata": {
    "ExecuteTime": {
     "end_time": "2024-11-14T06:31:33.916344Z",
     "start_time": "2024-11-14T06:31:33.900741Z"
    }
   },
   "cell_type": "code",
   "source": [
    "s1 = {2,4,5,6}\n",
    "s1.remove(5)\n",
    "s1.remove(16)\n",
    "print(s1)"
   ],
   "id": "f72c2087fdc410cc",
   "outputs": [
    {
     "ename": "KeyError",
     "evalue": "16",
     "output_type": "error",
     "traceback": [
      "\u001B[1;31m---------------------------------------------------------------------------\u001B[0m",
      "\u001B[1;31mKeyError\u001B[0m                                  Traceback (most recent call last)",
      "Cell \u001B[1;32mIn[22], line 3\u001B[0m\n\u001B[0;32m      1\u001B[0m s1 \u001B[38;5;241m=\u001B[39m {\u001B[38;5;241m2\u001B[39m,\u001B[38;5;241m4\u001B[39m,\u001B[38;5;241m5\u001B[39m,\u001B[38;5;241m6\u001B[39m}\n\u001B[0;32m      2\u001B[0m s1\u001B[38;5;241m.\u001B[39mremove(\u001B[38;5;241m5\u001B[39m)\n\u001B[1;32m----> 3\u001B[0m \u001B[43ms1\u001B[49m\u001B[38;5;241;43m.\u001B[39;49m\u001B[43mremove\u001B[49m\u001B[43m(\u001B[49m\u001B[38;5;241;43m16\u001B[39;49m\u001B[43m)\u001B[49m\n\u001B[0;32m      4\u001B[0m \u001B[38;5;28mprint\u001B[39m(s1)\n",
      "\u001B[1;31mKeyError\u001B[0m: 16"
     ]
    }
   ],
   "execution_count": 22
  },
  {
   "metadata": {
    "ExecuteTime": {
     "end_time": "2024-11-14T06:52:43.330421Z",
     "start_time": "2024-11-14T06:52:43.326509Z"
    }
   },
   "cell_type": "code",
   "source": [
    "s1 = {2,4,5,6}\n",
    "s1.discard(6)\n",
    "s1.discard(16)\n",
    "print(s1)"
   ],
   "id": "8f189489e679ff6c",
   "outputs": [
    {
     "name": "stdout",
     "output_type": "stream",
     "text": [
      "{2, 4, 5}\n"
     ]
    }
   ],
   "execution_count": 31
  },
  {
   "metadata": {
    "ExecuteTime": {
     "end_time": "2024-11-14T06:33:14.005179Z",
     "start_time": "2024-11-14T06:33:14.001449Z"
    }
   },
   "cell_type": "code",
   "source": [
    "s1 = {10,20,30,40,50,60,70,80,90}\n",
    "del_var = s1.pop()\n",
    "print(del_var)\n",
    "print(s1)"
   ],
   "id": "69e51d0dd8ad9d5d",
   "outputs": [
    {
     "name": "stdout",
     "output_type": "stream",
     "text": [
      "70\n",
      "{40, 10, 80, 50, 20, 90, 60, 30}\n"
     ]
    }
   ],
   "execution_count": 23
  },
  {
   "metadata": {},
   "cell_type": "markdown",
   "source": [
    "## 集合操作（交集 并集）\n",
    "* 交集 & \n",
    "* 并集 |"
   ],
   "id": "614551dae436b11e"
  },
  {
   "metadata": {
    "ExecuteTime": {
     "end_time": "2024-11-14T06:46:21.948543Z",
     "start_time": "2024-11-14T06:46:21.944640Z"
    }
   },
   "cell_type": "code",
   "source": [
    "s1 = {1,2,3,4,5}\n",
    "s2 = {3,5,8,0,9}\n",
    "print(s1&s2)\n",
    "print(s1|s2)"
   ],
   "id": "8900aefedc989f4c",
   "outputs": [
    {
     "name": "stdout",
     "output_type": "stream",
     "text": [
      "{3, 5}\n",
      "{0, 1, 2, 3, 4, 5, 8, 9}\n"
     ]
    }
   ],
   "execution_count": 29
  },
  {
   "metadata": {},
   "cell_type": "markdown",
   "source": [
    "## 公共操作\n",
    "* 合并   +       字符串、列表、元组\n",
    "* 复制   *       字符串、列表、元组\n",
    "* 存在   in      字符串、列表、元组、字典、集合\n",
    "* 不存在  not in  字符串、列表、元组、字典、集合"
   ],
   "id": "fcc8e98efd25514c"
  },
  {
   "metadata": {},
   "cell_type": "markdown",
   "source": [
    "## 公共方法\n",
    "* 计算元素的个数 ，len()， 字符串、列表、元组、字典、集合\n",
    "* 删除元素， del， 字符串、列表、字典\n",
    "* 查找最大值元素， max() 列表\n",
    "* 查找最小值元素，min() 列表\n",
    "* 将(下标，数据)一一列出 enumerate() 列表"
   ],
   "id": "872b5621bf2de127"
  },
  {
   "metadata": {
    "ExecuteTime": {
     "end_time": "2024-11-14T07:02:03.232822Z",
     "start_time": "2024-11-14T07:02:03.227822Z"
    }
   },
   "cell_type": "code",
   "source": [
    "l = {1,2,55,77,33}\n",
    "for i in enumerate(l):\n",
    "    print(i)"
   ],
   "id": "5cca4269d2adbd3c",
   "outputs": [
    {
     "name": "stdout",
     "output_type": "stream",
     "text": [
      "(0, 1)\n",
      "(1, 2)\n",
      "(2, 33)\n",
      "(3, 55)\n",
      "(4, 77)\n"
     ]
    }
   ],
   "execution_count": 32
  },
  {
   "metadata": {},
   "cell_type": "markdown",
   "source": "## 容器推导式",
   "id": "6ca6ad15bf563e45"
  },
  {
   "metadata": {
    "ExecuteTime": {
     "end_time": "2024-11-14T07:13:40.930105Z",
     "start_time": "2024-11-14T07:13:40.924840Z"
    }
   },
   "cell_type": "code",
   "source": [
    "# 列表推导式\n",
    "l = [i for i in range(10)]\n",
    "print(l)\n",
    "# 元组推导式\n",
    "t = (i for i in range(10))\n",
    "print(t)\n",
    "print(tuple(t))\n",
    "# 字典推导式\n",
    "d = {i:i**2 for i in range(10)}\n",
    "print(d)\n",
    "# 集合推导式\n",
    "s = {i*2 for i in range(10)}\n",
    "print(s)"
   ],
   "id": "30bc52d16484a174",
   "outputs": [
    {
     "name": "stdout",
     "output_type": "stream",
     "text": [
      "[0, 1, 2, 3, 4, 5, 6, 7, 8, 9]\n",
      "<generator object <genexpr> at 0x000001BB1161E740>\n",
      "(0, 1, 2, 3, 4, 5, 6, 7, 8, 9)\n",
      "{0: 0, 1: 1, 2: 4, 3: 9, 4: 16, 5: 25, 6: 36, 7: 49, 8: 64, 9: 81}\n",
      "{0, 2, 4, 6, 8, 10, 12, 14, 16, 18}\n"
     ]
    }
   ],
   "execution_count": 37
  }
 ],
 "metadata": {
  "kernelspec": {
   "display_name": "Python 3",
   "language": "python",
   "name": "python3"
  },
  "language_info": {
   "codemirror_mode": {
    "name": "ipython",
    "version": 2
   },
   "file_extension": ".py",
   "mimetype": "text/x-python",
   "name": "python",
   "nbconvert_exporter": "python",
   "pygments_lexer": "ipython2",
   "version": "2.7.6"
  }
 },
 "nbformat": 4,
 "nbformat_minor": 5
}
