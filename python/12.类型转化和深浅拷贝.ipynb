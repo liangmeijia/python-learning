{
 "cells": [
  {
   "metadata": {},
   "cell_type": "markdown",
   "source": [
    "## python3标准数据类型\n",
    "* 数值Number ：int float bool complex\n",
    "* 字符串Str \n",
    "* 列表list\n",
    "* 元组tuple\n",
    "* 字典dict"
   ],
   "id": "8cf446c026cbf526"
  },
  {
   "metadata": {},
   "cell_type": "markdown",
   "source": [
    "## 类型转换\n",
    "* 类型转换的特性:你想要获取什么的类型，就用什么样的函数即可\n",
    "* int()、float()、str()、list()、set()、dict()、tuple()"
   ],
   "id": "b86f67949675a160"
  },
  {
   "metadata": {
    "ExecuteTime": {
     "end_time": "2024-11-14T08:55:02.740400Z",
     "start_time": "2024-11-14T08:55:02.736033Z"
    }
   },
   "cell_type": "code",
   "source": [
    "#dict()\n",
    "l1 = ['name','age','gender','address']\n",
    "l2 = ['anger',33,'女']\n",
    "#用zip把两个列表进行打包绑定，然后再转换成字典\n",
    "l3 = zip(l1,l2)\n",
    "print(l3)\n",
    "print(dict(l3))"
   ],
   "id": "e98bd014e02914a2",
   "outputs": [
    {
     "name": "stdout",
     "output_type": "stream",
     "text": [
      "<zip object at 0x00000210DF036040>\n",
      "{'name': 'anger', 'age': 33, 'gender': '女'}\n"
     ]
    }
   ],
   "execution_count": 1
  },
  {
   "metadata": {},
   "cell_type": "markdown",
   "source": "## 传递引用",
   "id": "9ab517b87fad6704"
  },
  {
   "metadata": {
    "ExecuteTime": {
     "end_time": "2024-11-14T09:18:05.093759Z",
     "start_time": "2024-11-14T09:18:05.089484Z"
    }
   },
   "cell_type": "code",
   "source": [
    "#定义数值变量 \n",
    "a = 1\n",
    "b = 1\n",
    "#id(a)查看a的内存地址\n",
    "print(id(a),id(b))\n",
    "#定义列表变量\n",
    "l1 = [2,4,5]\n",
    "#l3【引用】了列表l2的地址，因此他们指向的【内存地址相同】\n",
    "l2 = l1\n",
    "print(l1,l2)\n",
    "print(id(l1),id(l2))"
   ],
   "id": "3f285f0cd0a1c747",
   "outputs": [
    {
     "name": "stdout",
     "output_type": "stream",
     "text": [
      "140727600884152 140727600884152\n",
      "[2, 4, 5] [2, 4, 5]\n",
      "2271459702272 2271459702272\n"
     ]
    }
   ],
   "execution_count": 7
  },
  {
   "metadata": {},
   "cell_type": "markdown",
   "source": [
    "## 深浅拷贝\n",
    "* 深拷贝：\n",
    "* 浅拷贝："
   ],
   "id": "9338a029175568b2"
  },
  {
   "metadata": {
    "ExecuteTime": {
     "end_time": "2024-11-14T09:12:51.939245Z",
     "start_time": "2024-11-14T09:12:51.935575Z"
    }
   },
   "cell_type": "code",
   "source": [
    "import copy\n",
    "l1 = [2,4,5]\n",
    "#【拷贝】后，【内存地址不同】\n",
    "l2 = copy.copy(l1)\n",
    "print(id(l1),id(l2))\n",
    "print(l1,l2)"
   ],
   "id": "d20db22d1cf0918",
   "outputs": [
    {
     "name": "stdout",
     "output_type": "stream",
     "text": [
      "2271484335488 2271393714176\n",
      "[2, 4, 5] [2, 4, 5]\n"
     ]
    }
   ],
   "execution_count": 6
  }
 ],
 "metadata": {
  "kernelspec": {
   "display_name": "Python 3",
   "language": "python",
   "name": "python3"
  },
  "language_info": {
   "codemirror_mode": {
    "name": "ipython",
    "version": 2
   },
   "file_extension": ".py",
   "mimetype": "text/x-python",
   "name": "python",
   "nbconvert_exporter": "python",
   "pygments_lexer": "ipython2",
   "version": "2.7.6"
  }
 },
 "nbformat": 4,
 "nbformat_minor": 5
}
