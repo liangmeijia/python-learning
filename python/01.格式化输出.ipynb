{
 "cells": [
  {
   "metadata": {},
   "cell_type": "markdown",
   "source": [
    "## 格式化输出\n",
    "* 按照我们自己想要输出的格式，照着模板输出\n",
    "* %s 字符串、%d 有符号十进制整数、%f 浮点数"
   ],
   "id": "a7b01a18949073d3"
  },
  {
   "metadata": {},
   "cell_type": "markdown",
   "source": "print(模板 % 变量)",
   "id": "2f37110f98c81122"
  },
  {
   "metadata": {
    "ExecuteTime": {
     "end_time": "2024-11-11T08:02:32.186367Z",
     "start_time": "2024-11-11T08:02:32.182633Z"
    }
   },
   "cell_type": "code",
   "source": [
    "name = 'anger'\n",
    "age = 15\n",
    "print('我的名字是%s,年龄是%d' % (name, age))\n",
    "price = 45.6677889\n",
    "#保留3位小数\n",
    "print('今天牛肉的价格是%.3f' % price)"
   ],
   "id": "11d2d0ba83207cb3",
   "outputs": [
    {
     "name": "stdout",
     "output_type": "stream",
     "text": [
      "我的名字是anger,年龄是15\n",
      "今天牛肉的价格是45.668\n"
     ]
    }
   ],
   "execution_count": 3
  },
  {
   "metadata": {},
   "cell_type": "markdown",
   "source": "print(模板 .format(变量)) 不需要考虑变量的格式",
   "id": "d76c622e81b50f1b"
  },
  {
   "metadata": {
    "ExecuteTime": {
     "end_time": "2024-11-11T08:14:54.590817Z",
     "start_time": "2024-11-11T08:14:54.586303Z"
    }
   },
   "cell_type": "code",
   "source": [
    "print('我的名字是{},年龄是{}'.format(name, age))\n",
    "#采用数字编号，可调用顺序\n",
    "print('{0} {1} {0}'.format(name, age))\n",
    "#设置参数\n",
    "print('我的名字是{name},年龄是{age}'.format(name='bob', age=34))"
   ],
   "id": "cec7963331619e51",
   "outputs": [
    {
     "name": "stdout",
     "output_type": "stream",
     "text": [
      "我的名字是anger,年龄是15\n",
      "anger 15 anger\n",
      "我的名字是bob,年龄是34\n"
     ]
    }
   ],
   "execution_count": 7
  },
  {
   "metadata": {},
   "cell_type": "markdown",
   "source": "f'{表达式}'",
   "id": "b59aa029d69ceaee"
  },
  {
   "metadata": {
    "jupyter": {
     "is_executing": true
    }
   },
   "cell_type": "code",
   "source": [
    "name = 'bob'\n",
    "age = 17\n",
    "print(f'我的名字是{name},年龄是{age}')"
   ],
   "id": "5031d4174da31118",
   "outputs": [],
   "execution_count": null
  }
 ],
 "metadata": {
  "kernelspec": {
   "display_name": "Python 3",
   "language": "python",
   "name": "python3"
  },
  "language_info": {
   "codemirror_mode": {
    "name": "ipython",
    "version": 2
   },
   "file_extension": ".py",
   "mimetype": "text/x-python",
   "name": "python",
   "nbconvert_exporter": "python",
   "pygments_lexer": "ipython2",
   "version": "2.7.6"
  }
 },
 "nbformat": 4,
 "nbformat_minor": 5
}
