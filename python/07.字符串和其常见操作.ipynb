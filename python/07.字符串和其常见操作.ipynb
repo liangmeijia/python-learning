{
 "cells": [
  {
   "metadata": {},
   "cell_type": "markdown",
   "source": [
    "## 字符串编码\n",
    "* 字符编码:本质是二进制数据与语言文字的-一对应关系\n",
    "* 字符----(翻译)----二进制 \n",
    "* GBK 专门编码中文，中文字符占用2字节\n",
    "* ASC 专门编码英文，英文字符占用1字节\n",
    "* unicode 兼容万国语言\n",
    "* utf-8:兼容万国语言，但对不同的字符用不同的长度来表示，相比unicode更节省存储空间，但编码效率上更低。中文字符占用3个字节，英文字符占用1个字节"
   ],
   "id": "6c0e7cfd2557ef89"
  },
  {
   "metadata": {
    "ExecuteTime": {
     "end_time": "2024-11-12T08:14:51.866334Z",
     "start_time": "2024-11-12T08:14:51.862529Z"
    }
   },
   "cell_type": "code",
   "source": [
    "a = 'hello'\n",
    "b = b'hello' # b开头是 字节流形式\n",
    "print(a,b,type(a),type(b))\n",
    "#编码\n",
    "b1 = a.encode()\n",
    "print(b1,type(b1))\n",
    "#解码\n",
    "b2 = b1.decode()\n",
    "print(b2,type(b2))"
   ],
   "id": "32fca7197a7f0f42",
   "outputs": [
    {
     "name": "stdout",
     "output_type": "stream",
     "text": [
      "hello b'hello' <class 'str'> <class 'bytes'>\n",
      "b'hello' <class 'bytes'>\n",
      "hello <class 'str'>\n"
     ]
    }
   ],
   "execution_count": 2
  },
  {
   "metadata": {},
   "cell_type": "markdown",
   "source": [
    "## 字符串的索引(下标)\n",
    "* 顺序：从0开始，范围是左闭右开。 0、1、2、3...\n",
    "* 倒叙：从-1开始。-1、-2、-3...\n",
    "* 索引超出范围会报错"
   ],
   "id": "699b8e681cf94bf6"
  },
  {
   "metadata": {
    "ExecuteTime": {
     "end_time": "2024-11-12T08:24:50.014758Z",
     "start_time": "2024-11-12T08:24:50.010378Z"
    }
   },
   "cell_type": "code",
   "source": [
    "a = 'hello'\n",
    "print(a[0])\n",
    "print(a[-1])"
   ],
   "id": "a47098b7614db5f9",
   "outputs": [
    {
     "name": "stdout",
     "output_type": "stream",
     "text": [
      "h\n",
      "o\n"
     ]
    }
   ],
   "execution_count": 4
  },
  {
   "metadata": {},
   "cell_type": "markdown",
   "source": [
    "## 字符串的切片\n",
    "* 切片语法:[起始索引:结束索引:步长] ，左闭右开，默认步长1\n",
    "* [:] 代表没有限制，即取到所有\n",
    "* 步长可以控制定位查找的方向。步长为负数，代表从右向左取值；步长为正数，代表从左向右方向取值\n",
    "* 切片时，索引超出范围不会报错，查找范围截止至最后一位\n",
    "* 起始索引和结束索引之间的方向要和步长的方向一致，不然取不到值\n"
   ],
   "id": "d97dc9dcc27b54c9"
  },
  {
   "metadata": {
    "ExecuteTime": {
     "end_time": "2024-11-12T08:52:51.746449Z",
     "start_time": "2024-11-12T08:52:51.742420Z"
    }
   },
   "cell_type": "code",
   "source": [
    "a ='ashncjifcjnwvbfhdfg_name_lkk_iiuyvi'\n",
    "print(a[2:6:1])\n",
    "print(a[2:6:2])\n",
    "print(a[-1:6:-1])\n",
    "print(a[1:200:3])\n",
    "print(a[2:6:-1])"
   ],
   "id": "a4940207f3714c29",
   "outputs": [
    {
     "name": "stdout",
     "output_type": "stream",
     "text": [
      "hncj\n",
      "hc\n",
      "ivyuii_kkl_eman_gfdhfbvwnjcf\n",
      "scfnbd_ml_ui\n",
      "\n"
     ]
    }
   ],
   "execution_count": 11
  },
  {
   "metadata": {},
   "cell_type": "markdown",
   "source": [
    "## 字符串常见操作(find)\n",
    "* mystr.find(str，开始下标，结束下标)\n",
    "* 检测子串str是否包含在原字符串mystr的[开始下标，结束下标)中，如果在则返回第一次找到的索引值，否则返回-1"
   ],
   "id": "359b9c22f52596c8"
  },
  {
   "metadata": {
    "ExecuteTime": {
     "end_time": "2024-11-12T09:17:52.718303Z",
     "start_time": "2024-11-12T09:17:52.714915Z"
    }
   },
   "cell_type": "code",
   "source": [
    "a = 'hello_llhwo'\n",
    "print(a.find('l'))\n",
    "print(a.find('o',3,5))\n",
    "print(a.find('hello'))\n",
    "print(a.find('z'))"
   ],
   "id": "e53105bfe5e2b2f3",
   "outputs": [
    {
     "name": "stdout",
     "output_type": "stream",
     "text": [
      "2\n",
      "4\n",
      "0\n",
      "-1\n"
     ]
    }
   ],
   "execution_count": 21
  },
  {
   "metadata": {},
   "cell_type": "markdown",
   "source": [
    "## 字符串常见操作(index)\n",
    "* index查找索引 mystr.index(str，开始下标，结束下标)与find方法一样，只不过如果str不在mystr中会报一个异常"
   ],
   "id": "f6d8d3c330ce50dd"
  },
  {
   "metadata": {
    "ExecuteTime": {
     "end_time": "2024-11-12T09:17:39.587476Z",
     "start_time": "2024-11-12T09:17:39.571827Z"
    }
   },
   "cell_type": "code",
   "source": [
    "a = 'hello_llhwo'\n",
    "print(a.index('l'))\n",
    "print(a.index('o',3,5))\n",
    "print(a.index('hello'))\n",
    "print(a.index('z'))"
   ],
   "id": "d86d6ef289d0050e",
   "outputs": [
    {
     "name": "stdout",
     "output_type": "stream",
     "text": [
      "2\n",
      "4\n",
      "0\n"
     ]
    },
    {
     "ename": "ValueError",
     "evalue": "substring not found",
     "output_type": "error",
     "traceback": [
      "\u001B[1;31m---------------------------------------------------------------------------\u001B[0m",
      "\u001B[1;31mValueError\u001B[0m                                Traceback (most recent call last)",
      "Cell \u001B[1;32mIn[19], line 5\u001B[0m\n\u001B[0;32m      3\u001B[0m \u001B[38;5;28mprint\u001B[39m(a\u001B[38;5;241m.\u001B[39mindex(\u001B[38;5;124m'\u001B[39m\u001B[38;5;124mo\u001B[39m\u001B[38;5;124m'\u001B[39m,\u001B[38;5;241m3\u001B[39m,\u001B[38;5;241m5\u001B[39m))\n\u001B[0;32m      4\u001B[0m \u001B[38;5;28mprint\u001B[39m(a\u001B[38;5;241m.\u001B[39mindex(\u001B[38;5;124m'\u001B[39m\u001B[38;5;124mhello\u001B[39m\u001B[38;5;124m'\u001B[39m))\n\u001B[1;32m----> 5\u001B[0m \u001B[38;5;28mprint\u001B[39m(\u001B[43ma\u001B[49m\u001B[38;5;241;43m.\u001B[39;49m\u001B[43mindex\u001B[49m\u001B[43m(\u001B[49m\u001B[38;5;124;43m'\u001B[39;49m\u001B[38;5;124;43mz\u001B[39;49m\u001B[38;5;124;43m'\u001B[39;49m\u001B[43m)\u001B[49m)\n",
      "\u001B[1;31mValueError\u001B[0m: substring not found"
     ]
    }
   ],
   "execution_count": 19
  },
  {
   "metadata": {},
   "cell_type": "markdown",
   "source": [
    "\n",
    "## 字符串常见操作(count)\n",
    "*  查找子串在原字符串中出现的次数 mystr.count(str，开始下标，结束下标) "
   ],
   "id": "bc2f4cfabef8fb86"
  },
  {
   "metadata": {
    "ExecuteTime": {
     "end_time": "2024-11-12T09:19:40.811171Z",
     "start_time": "2024-11-12T09:19:40.807444Z"
    }
   },
   "cell_type": "code",
   "source": [
    "a = 'hello_llhwo'\n",
    "print(a.count('l'))"
   ],
   "id": "e56610418134362d",
   "outputs": [
    {
     "name": "stdout",
     "output_type": "stream",
     "text": [
      "4\n"
     ]
    }
   ],
   "execution_count": 22
  },
  {
   "metadata": {},
   "cell_type": "markdown",
   "source": [
    "## replace替换\n",
    "* mystr.replace(旧子串，新子串，替换次数)"
   ],
   "id": "c7104e5e199b223e"
  },
  {
   "metadata": {
    "ExecuteTime": {
     "end_time": "2024-11-12T09:23:30.540865Z",
     "start_time": "2024-11-12T09:23:30.536938Z"
    }
   },
   "cell_type": "code",
   "source": [
    "a = 'hello_llhwo'\n",
    "b = a.replace('l','a')\n",
    "c = a.replace('l','a',2)\n",
    "print(a,b,c)"
   ],
   "id": "f705037d684603d7",
   "outputs": [
    {
     "name": "stdout",
     "output_type": "stream",
     "text": [
      "hello_llhwo heaao_aahwo heaao_llhwo\n"
     ]
    }
   ],
   "execution_count": 25
  },
  {
   "metadata": {},
   "cell_type": "markdown",
   "source": [
    "## split分割\n",
    "* mystr.split(str,切的次数) 用str来切原字符串"
   ],
   "id": "f281ff8c022fff18"
  },
  {
   "metadata": {
    "ExecuteTime": {
     "end_time": "2024-11-12T09:26:29.216356Z",
     "start_time": "2024-11-12T09:26:29.212445Z"
    }
   },
   "cell_type": "code",
   "source": [
    "a = 'hello_llhwo_jj ki_khg_iio'\n",
    "print(a.split('_'))\n",
    "print(a.split('_',2))"
   ],
   "id": "db4c2bef86e217e3",
   "outputs": [
    {
     "name": "stdout",
     "output_type": "stream",
     "text": [
      "['hello', 'llhwo', 'jj ki', 'khg', 'iio']\n",
      "['hello', 'llhwo', 'jj ki_khg_iio']\n"
     ]
    }
   ],
   "execution_count": 28
  },
  {
   "metadata": {},
   "cell_type": "markdown",
   "source": [
    "## 大小写替换\n",
    "* mystr.capitalize() 把第一个字母变成大写\n",
    "* mystr.lower() 把字符串所有大写转换为小写\n",
    "* mystr.upper() 把字符串所有小写转换为大写\n",
    "* mystr.title() 把字符串的每个单词首字母大写\n",
    "* mystr.islower() 检测字符串是否都由小写字母来组成。(True False)\n",
    "* mystr.isupper() 检测字符串是否都由大写字母来组成。(True False)\n",
    "* mystr.isdigit() 是否是数字\n",
    "* mystr.startwith(str) 判断字符串mystr是否带着str开头\n",
    "* mystr.endwith(str) 判断字符串mystr是否带着str结尾"
   ],
   "id": "c02e5f2c06312a9f"
  },
  {
   "metadata": {
    "ExecuteTime": {
     "end_time": "2024-11-12T09:36:22.850534Z",
     "start_time": "2024-11-12T09:36:22.846427Z"
    }
   },
   "cell_type": "code",
   "source": [
    "a = 'hello_llhwo123'\n",
    "j=0\n",
    "for i in a:\n",
    "    if i.isdigit():\n",
    "       j+=1\n",
    "print(f'字符串中是数字的字符个数是{j}')"
   ],
   "id": "dba89127a6125078",
   "outputs": [
    {
     "name": "stdout",
     "output_type": "stream",
     "text": [
      "字符串中是数字的字符个数是3\n"
     ]
    }
   ],
   "execution_count": 31
  }
 ],
 "metadata": {
  "kernelspec": {
   "display_name": "Python 3",
   "language": "python",
   "name": "python3"
  },
  "language_info": {
   "codemirror_mode": {
    "name": "ipython",
    "version": 2
   },
   "file_extension": ".py",
   "mimetype": "text/x-python",
   "name": "python",
   "nbconvert_exporter": "python",
   "pygments_lexer": "ipython2",
   "version": "2.7.6"
  }
 },
 "nbformat": 4,
 "nbformat_minor": 5
}
