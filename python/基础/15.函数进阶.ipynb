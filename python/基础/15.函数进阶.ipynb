{
 "cells": [
  {
   "metadata": {},
   "cell_type": "markdown",
   "source": [
    "## 函数作用域\n",
    "* 【作用域】就是作用的范围(也叫做【名称空间】)\n",
    "* 1、内置名称空间/作用域：随着python解释器启动而产生，停止而回收。第一个被加载\n",
    "* 2、全局名称空间/作用域：随着所在执行文件，执行开始而产生，结束而回收。第二个被加载\n",
    "* 3、局部名称空间/作用域：随着函数的调用而产生，结束而回收，如函数的参数、雨数内定义的名字\n",
    "* 【名称空间】：本质是从名称到对象的映射，一一对应的关系，用字典来实现的\n"
   ],
   "id": "14e3c810ed17a2e6"
  },
  {
   "metadata": {},
   "cell_type": "markdown",
   "source": [
    "## 变量的作用域\n",
    "* 全局作用域 -> 全局变量：作用域是整个当前.py文件，既能在一个函数中使用，也能在其他函数中使用。\n",
    "* 局部作用域 -> 局部变量：作用域在函数内部\n",
    "* 不同作用域里面 可以有相同的变量名，同一作用域里面不行\n",
    "* python查找变量的顺序：局部作用域>全局作用域>内置作用域"
   ],
   "id": "b5b43a75c20fbc5d"
  },
  {
   "metadata": {
    "ExecuteTime": {
     "end_time": "2024-11-18T07:00:16.494247Z",
     "start_time": "2024-11-18T07:00:16.488828Z"
    }
   },
   "cell_type": "code",
   "source": [
    "import builtins\n",
    "\n",
    "a = 100 #全局变量\n",
    "def fun1():\n",
    "    a = 200 #此处的a为与全局变量同名的局部变量\n",
    "    print(a)\n",
    "def fun2():\n",
    "    print(a)\n",
    "fun1()\n",
    "fun2()\n"
   ],
   "id": "cb3170517b65edbb",
   "outputs": [
    {
     "name": "stdout",
     "output_type": "stream",
     "text": [
      "200\n",
      "100\n"
     ]
    }
   ],
   "execution_count": 1
  },
  {
   "metadata": {},
   "cell_type": "markdown",
   "source": [
    "## global 和 nonlocal 关键字\n",
    "* global : 用于声明一个变量是在全局命名空间中定义的\n",
    "* nonlocal ： 不能修改全局变量，在局部作用域中，对父级作用的变量进行引用和修改，并且引用的哪层，就从那层开始及以下，此变量全部发生以身试法。"
   ],
   "id": "9e404605b6ba9ef3"
  },
  {
   "metadata": {
    "ExecuteTime": {
     "end_time": "2024-11-18T07:25:55.816558Z",
     "start_time": "2024-11-18T07:25:55.811675Z"
    }
   },
   "cell_type": "code",
   "source": [
    "b = 10\n",
    "def fun3():\n",
    "    global b #声明为全局变量\n",
    "    #b = 10 #声明为局部变量\n",
    "    #在函数中，使用全局变量在定义同名的局部变量前，就需要显示定义 ，你到底使用的是局部变量（直接定义同名局部变量）还是全局变量（用global 关键字）\n",
    "    print(b) # UnboundLocalError\n",
    "    b = 20\n",
    "fun3()\n",
    "print(b) "
   ],
   "id": "a621f7731f98fbf8",
   "outputs": [
    {
     "name": "stdout",
     "output_type": "stream",
     "text": [
      "10\n",
      "20\n"
     ]
    }
   ],
   "execution_count": 4
  },
  {
   "metadata": {
    "ExecuteTime": {
     "end_time": "2024-11-18T07:32:46.535103Z",
     "start_time": "2024-11-18T07:32:46.530854Z"
    }
   },
   "cell_type": "code",
   "source": [
    "c = 100\n",
    "def fun4():\n",
    "    c = 200\n",
    "    def fun5():\n",
    "        nonlocal c \n",
    "        print(f'fun5中的c={c}')\n",
    "        c = 300\n",
    "    fun5()\n",
    "    print(f'fun4中的c={c}')\n",
    "fun4()\n",
    "print(f'全局变量c={c}')"
   ],
   "id": "689fe77fc750b9b2",
   "outputs": [
    {
     "name": "stdout",
     "output_type": "stream",
     "text": [
      "fun5中的c=200\n",
      "fun4中的c=300\n",
      "全局变量c=100\n"
     ]
    }
   ],
   "execution_count": 7
  },
  {
   "metadata": {},
   "cell_type": "markdown",
   "source": "如果变量是可变对象 则不需要global和nonlocal 关键字",
   "id": "aa42931b29952b0b"
  },
  {
   "metadata": {
    "ExecuteTime": {
     "end_time": "2024-11-18T07:36:45.757496Z",
     "start_time": "2024-11-18T07:36:45.753822Z"
    }
   },
   "cell_type": "code",
   "source": [
    "l = [1,2,3,4]\n",
    "def fun4():\n",
    "    l[0] = 200\n",
    "    def fun5():\n",
    "        print(f'fun5中的l={l}')\n",
    "        l[0] = 300\n",
    "    fun5()\n",
    "    print(f'fun4中的l={l}')\n",
    "fun4()\n",
    "print(f'全局变量l{l}')"
   ],
   "id": "8e2db476109e5b8c",
   "outputs": [
    {
     "name": "stdout",
     "output_type": "stream",
     "text": [
      "fun5中的l=[200, 2, 3, 4]\n",
      "fun4中的l=[300, 2, 3, 4]\n",
      "全局变量l[300, 2, 3, 4]\n"
     ]
    }
   ],
   "execution_count": 11
  },
  {
   "metadata": {},
   "cell_type": "markdown",
   "source": [
    "## 匿名函数 lambda\n",
    "* 对【简单函数】的定义\n",
    "* 语法:函数名=lambda 形参:返回值，形参的数量按需加，加多少都可以，用逗号隔开\n",
    "* lambda 是定义匿名函数的关键字，相当于函数的def。\n",
    "* 调用:结果=函数名(实参)"
   ],
   "id": "e6490f3e80fe26db"
  },
  {
   "metadata": {
    "ExecuteTime": {
     "end_time": "2024-11-18T07:41:32.256038Z",
     "start_time": "2024-11-18T07:41:32.252098Z"
    }
   },
   "cell_type": "code",
   "source": [
    "def fun5(v1,v2):\n",
    "    return v1+v2\n",
    "print(fun5(1, 4))\n",
    "#匿名函数\n",
    "fun6 = lambda v1,v2 : v1+v2\n",
    "print(fun6(1, 4))"
   ],
   "id": "46f4e0ce8334f01",
   "outputs": [
    {
     "name": "stdout",
     "output_type": "stream",
     "text": [
      "5\n",
      "5\n"
     ]
    }
   ],
   "execution_count": 13
  },
  {
   "metadata": {
    "ExecuteTime": {
     "end_time": "2024-11-18T07:44:49.863805Z",
     "start_time": "2024-11-18T07:44:49.859816Z"
    }
   },
   "cell_type": "code",
   "source": [
    "fun7 = lambda str1:[str1[0],str1[2]]\n",
    "print(fun7('abcdef'))"
   ],
   "id": "16a51636708b32a8",
   "outputs": [
    {
     "name": "stdout",
     "output_type": "stream",
     "text": [
      "['a', 'c']\n"
     ]
    }
   ],
   "execution_count": 14
  },
  {
   "metadata": {
    "ExecuteTime": {
     "end_time": "2024-11-18T07:47:58.367773Z",
     "start_time": "2024-11-18T07:47:58.364108Z"
    }
   },
   "cell_type": "code",
   "source": [
    "fun8 = lambda x:x**2\n",
    "print(fun8(100))"
   ],
   "id": "c77a0c192b6489e9",
   "outputs": [
    {
     "name": "stdout",
     "output_type": "stream",
     "text": [
      "10000\n"
     ]
    }
   ],
   "execution_count": 15
  },
  {
   "metadata": {},
   "cell_type": "markdown",
   "source": "## 内置函数\n",
   "id": "5b968abea85d7841"
  },
  {
   "metadata": {
    "ExecuteTime": {
     "end_time": "2024-11-18T08:10:38.096622Z",
     "start_time": "2024-11-18T08:10:38.092121Z"
    }
   },
   "cell_type": "code",
   "source": [
    "import builtins\n",
    "print(dir(builtins))"
   ],
   "id": "2fc939819a123c22",
   "outputs": [
    {
     "name": "stdout",
     "output_type": "stream",
     "text": [
      "['ArithmeticError', 'AssertionError', 'AttributeError', 'BaseException', 'BaseExceptionGroup', 'BlockingIOError', 'BrokenPipeError', 'BufferError', 'BytesWarning', 'ChildProcessError', 'ConnectionAbortedError', 'ConnectionError', 'ConnectionRefusedError', 'ConnectionResetError', 'DeprecationWarning', 'EOFError', 'Ellipsis', 'EncodingWarning', 'EnvironmentError', 'Exception', 'ExceptionGroup', 'False', 'FileExistsError', 'FileNotFoundError', 'FloatingPointError', 'FutureWarning', 'GeneratorExit', 'IOError', 'ImportError', 'ImportWarning', 'IndentationError', 'IndexError', 'InterruptedError', 'IsADirectoryError', 'KeyError', 'KeyboardInterrupt', 'LookupError', 'MemoryError', 'ModuleNotFoundError', 'NameError', 'None', 'NotADirectoryError', 'NotImplemented', 'NotImplementedError', 'OSError', 'OverflowError', 'PendingDeprecationWarning', 'PermissionError', 'ProcessLookupError', 'RecursionError', 'ReferenceError', 'ResourceWarning', 'RuntimeError', 'RuntimeWarning', 'StopAsyncIteration', 'StopIteration', 'SyntaxError', 'SyntaxWarning', 'SystemError', 'SystemExit', 'TabError', 'TimeoutError', 'True', 'TypeError', 'UnboundLocalError', 'UnicodeDecodeError', 'UnicodeEncodeError', 'UnicodeError', 'UnicodeTranslateError', 'UnicodeWarning', 'UserWarning', 'ValueError', 'Warning', 'WindowsError', 'ZeroDivisionError', '__IPYTHON__', '__build_class__', '__debug__', '__doc__', '__import__', '__loader__', '__name__', '__package__', '__spec__', 'abs', 'aiter', 'all', 'anext', 'any', 'ascii', 'bin', 'bool', 'breakpoint', 'bytearray', 'bytes', 'callable', 'chr', 'classmethod', 'compile', 'complex', 'copyright', 'credits', 'delattr', 'dict', 'dir', 'display', 'divmod', 'enumerate', 'eval', 'exec', 'execfile', 'filter', 'float', 'format', 'frozenset', 'get_ipython', 'getattr', 'globals', 'hasattr', 'hash', 'help', 'hex', 'id', 'input', 'int', 'isinstance', 'issubclass', 'iter', 'len', 'license', 'list', 'locals', 'map', 'max', 'memoryview', 'min', 'next', 'object', 'oct', 'open', 'ord', 'pow', 'print', 'property', 'range', 'repr', 'reversed', 'round', 'runfile', 'set', 'setattr', 'slice', 'sorted', 'staticmethod', 'str', 'sum', 'super', 'tuple', 'type', 'vars', 'zip']\n"
     ]
    }
   ],
   "execution_count": 17
  },
  {
   "metadata": {},
   "cell_type": "markdown",
   "source": [
    "### zip()\n",
    "*  zip() 拉链函数 将对象中对应的元素打包成一个个元组，然后返回由这些元组组成的内容"
   ],
   "id": "6865d35347d5e7d7"
  },
  {
   "metadata": {
    "ExecuteTime": {
     "end_time": "2024-11-18T08:17:52.727962Z",
     "start_time": "2024-11-18T08:17:52.719905Z"
    }
   },
   "cell_type": "code",
   "source": [
    "l1 = [1,2,3,4,5]\n",
    "l2 =['a','b','c','d','e']\n",
    "l3 = [False,False,True,False,False]\n",
    "x = zip(l1,l2,l3)\n",
    "print(list(x))\n",
    "print(type(x))\n",
    "#每个变量元素个数不一致时,按最短的来打包元素"
   ],
   "id": "36412c997edf3892",
   "outputs": [
    {
     "name": "stdout",
     "output_type": "stream",
     "text": [
      "[(1, 'a', False), (2, 'b', False), (3, 'c', True), (4, 'd', False), (5, 'e', False)]\n",
      "<class 'zip'>\n"
     ]
    }
   ],
   "execution_count": 20
  },
  {
   "metadata": {},
   "cell_type": "markdown",
   "source": [
    "### map()\n",
    "* map(function,iterable)\n",
    "* 映射函数作用:可对可选代对象中的每一个元素进行映射，分别执行function"
   ],
   "id": "aeb6d101b18e6f94"
  },
  {
   "metadata": {
    "ExecuteTime": {
     "end_time": "2024-11-18T08:25:10.385792Z",
     "start_time": "2024-11-18T08:25:10.381469Z"
    }
   },
   "cell_type": "code",
   "source": [
    "#计算列表中每个元素的平方，返回新列表\n",
    "l4 = [2,4,6,8]\n",
    "m = map(lambda x:x*x,l4)\n",
    "print(list(m),type(m))"
   ],
   "id": "ec8a4102c5027b04",
   "outputs": [
    {
     "name": "stdout",
     "output_type": "stream",
     "text": [
      "[4, 16, 36, 64] <class 'map'>\n"
     ]
    }
   ],
   "execution_count": 24
  },
  {
   "metadata": {},
   "cell_type": "markdown",
   "source": [
    "### reduce() \n",
    "* reduce((function,iterable))\n",
    "* 减少 降低可选代中通过计算使元素不断减少，最终得到一个计算值"
   ],
   "id": "b022812c8dc964c1"
  },
  {
   "metadata": {
    "ExecuteTime": {
     "end_time": "2024-11-18T08:29:39.505233Z",
     "start_time": "2024-11-18T08:29:39.501084Z"
    }
   },
   "cell_type": "code",
   "source": [
    "from functools import reduce\n",
    "l5 = [1,3,5,7,9]\n",
    "ans = reduce(lambda x,y:x+y,l5)\n",
    "print(ans,type(ans))"
   ],
   "id": "e7c08013c6dc0dcc",
   "outputs": [
    {
     "name": "stdout",
     "output_type": "stream",
     "text": [
      "25 <class 'int'>\n"
     ]
    }
   ],
   "execution_count": 26
  },
  {
   "metadata": {},
   "cell_type": "markdown",
   "source": [
    "###  enumerate枚举 \n",
    "* 用于将一个可遍历的数据对象组合为一个索引序列，同时列出数据和数据下标，一般用在for循环当中\n",
    "* enumerate(可迭代对象,[start=0])"
   ],
   "id": "dec9708df9ce7479"
  },
  {
   "metadata": {
    "ExecuteTime": {
     "end_time": "2024-11-18T08:34:57.415287Z",
     "start_time": "2024-11-18T08:34:57.411900Z"
    }
   },
   "cell_type": "code",
   "source": [
    "l6 = [99,88,77,66]\n",
    "for i ,j in enumerate(l6):\n",
    "    print(i,j)\n",
    "# print(list(enumerate(l6)),type(enumerate(l6)))"
   ],
   "id": "3b637114925b782b",
   "outputs": [
    {
     "name": "stdout",
     "output_type": "stream",
     "text": [
      "0 99\n",
      "1 88\n",
      "2 77\n",
      "3 66\n"
     ]
    }
   ],
   "execution_count": 31
  },
  {
   "metadata": {},
   "cell_type": "markdown",
   "source": [
    "## 拆包\n",
    "* 对于函数中的多个返回数据，去掉元组，列表或者字典,直接获取里面数据的过程。"
   ],
   "id": "837b4b441b7e3fe"
  },
  {
   "metadata": {
    "ExecuteTime": {
     "end_time": "2024-11-18T08:39:51.723538Z",
     "start_time": "2024-11-18T08:39:51.719254Z"
    }
   },
   "cell_type": "code",
   "source": [
    "def fun():\n",
    "    a = 10\n",
    "    b = 20\n",
    "    c = 30\n",
    "    return a,b,c\n",
    "a1,b1,c1 = fun() #对元组进行基础拆包\n",
    "print(a1,b1,c1)"
   ],
   "id": "5d5403d8fa6342c",
   "outputs": [
    {
     "name": "stdout",
     "output_type": "stream",
     "text": [
      "10 20 30\n"
     ]
    }
   ],
   "execution_count": 32
  },
  {
   "metadata": {
    "ExecuteTime": {
     "end_time": "2024-11-18T08:43:01.954570Z",
     "start_time": "2024-11-18T08:43:01.951137Z"
    }
   },
   "cell_type": "code",
   "source": [
    "#元组拆包\n",
    "a,*b,c = (2,3,4,5,6)\n",
    "print(a,b,c)"
   ],
   "id": "fbb01433238b253a",
   "outputs": [
    {
     "name": "stdout",
     "output_type": "stream",
     "text": [
      "2 [3, 4, 5] 6\n"
     ]
    }
   ],
   "execution_count": 33
  },
  {
   "metadata": {
    "ExecuteTime": {
     "end_time": "2024-11-18T08:44:19.214900Z",
     "start_time": "2024-11-18T08:44:19.211555Z"
    }
   },
   "cell_type": "code",
   "source": [
    "#列表拆包\n",
    "a,*b = [7,8,9,9]\n",
    "print(a,b)"
   ],
   "id": "2cfd909c2f27544f",
   "outputs": [
    {
     "name": "stdout",
     "output_type": "stream",
     "text": [
      "7 [8, 9, 9]\n"
     ]
    }
   ],
   "execution_count": 35
  },
  {
   "metadata": {
    "ExecuteTime": {
     "end_time": "2024-11-18T08:48:26.617029Z",
     "start_time": "2024-11-18T08:48:26.612330Z"
    }
   },
   "cell_type": "code",
   "source": [
    "#字典拆包\n",
    "dic = {'name':'bob','age' : 19,'address' : '成都'}\n",
    "a,*b = dic\n",
    "c,*d = dic.values()\n",
    "print(a,b)\n",
    "print(c,d)"
   ],
   "id": "a2fa625b31374b01",
   "outputs": [
    {
     "name": "stdout",
     "output_type": "stream",
     "text": [
      "name ['age', 'address']\n",
      "bob [19, '成都']\n"
     ]
    }
   ],
   "execution_count": 40
  }
 ],
 "metadata": {
  "kernelspec": {
   "display_name": "Python 3",
   "language": "python",
   "name": "python3"
  },
  "language_info": {
   "codemirror_mode": {
    "name": "ipython",
    "version": 2
   },
   "file_extension": ".py",
   "mimetype": "text/x-python",
   "name": "python",
   "nbconvert_exporter": "python",
   "pygments_lexer": "ipython2",
   "version": "2.7.6"
  }
 },
 "nbformat": 4,
 "nbformat_minor": 5
}
