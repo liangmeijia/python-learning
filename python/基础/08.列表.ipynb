{
 "cells": [
  {
   "metadata": {},
   "cell_type": "markdown",
   "source": [
    "## 列表（list）\n",
    "* 一次性存储多个数据 li = ['a','b',’c’]\n",
    "* 列表的定义:中括号包围所有的元素，每个元素间用逗号隔开\n",
    "* 特性:有序;存储多个数据;元素可以是不同类型的 list =[1,1.5,'a’,True]\n",
    "* 索引（下标）：假设某个列表的元素个数为n，则正序从0开始到n-1，反序从-1开始到-n"
   ],
   "id": "bf07a9f4f9649411"
  },
  {
   "metadata": {
    "ExecuteTime": {
     "end_time": "2024-11-13T02:03:14.111990Z",
     "start_time": "2024-11-13T02:03:14.106793Z"
    }
   },
   "cell_type": "code",
   "source": [
    "l = ['a', 'b', 'c',True,2,'f',6.1] #列表是可迭代对象\n",
    "#for循环遍历查询\n",
    "for i in l:\n",
    "    print(i)"
   ],
   "id": "1a7c39f89cd9a603",
   "outputs": [
    {
     "name": "stdout",
     "output_type": "stream",
     "text": [
      "a\n",
      "b\n",
      "c\n",
      "True\n",
      "2\n",
      "f\n",
      "6.1\n"
     ]
    }
   ],
   "execution_count": 1
  },
  {
   "metadata": {},
   "cell_type": "markdown",
   "source": [
    "## 列表操作（增）\n",
    "* 两个列表相加 l1 + l2 \n",
    "* list.insert(index,obj) 在list的下标index下添加obj元素\n",
    "* list.append(obj) 在list的末尾追加元素obj\n",
    "* list.extend(obj) 在list末尾添加obj,并且把obj中的元素拆分成单个"
   ],
   "id": "1bccc44cb8a85ce"
  },
  {
   "metadata": {
    "ExecuteTime": {
     "end_time": "2024-11-13T02:26:51.068876Z",
     "start_time": "2024-11-13T02:26:51.064752Z"
    }
   },
   "cell_type": "code",
   "source": [
    "l =[\"Python\",\"java\",\"c\",\"c++\"]\n",
    "birthday =[1991,1998,1995]\n",
    "info= l+birthday\n",
    "print(info)"
   ],
   "id": "176a3d4e2f651958",
   "outputs": [
    {
     "name": "stdout",
     "output_type": "stream",
     "text": [
      "['Python', 'java', 'c', 'c++', 1991, 1998, 1995]\n"
     ]
    }
   ],
   "execution_count": 31
  },
  {
   "metadata": {
    "ExecuteTime": {
     "end_time": "2024-11-13T02:26:52.049263Z",
     "start_time": "2024-11-13T02:26:52.045306Z"
    }
   },
   "cell_type": "code",
   "source": [
    "l.insert(0,'go')\n",
    "print(l)\n",
    "#当index可以大于列表的长度\n",
    "l.insert(6,'php')\n",
    "print(l)\n",
    "# 把元组当成一个整体插入\n",
    "y = ('a',1)\n",
    "l.insert(2,y)\n",
    "print(l)"
   ],
   "id": "37d07483ab028a06",
   "outputs": [
    {
     "name": "stdout",
     "output_type": "stream",
     "text": [
      "['go', 'Python', 'java', 'c', 'c++']\n",
      "['go', 'Python', 'java', 'c', 'c++', 'php']\n",
      "['go', 'Python', ('a', 1), 'java', 'c', 'c++', 'php']\n"
     ]
    }
   ],
   "execution_count": 32
  },
  {
   "metadata": {
    "ExecuteTime": {
     "end_time": "2024-11-13T02:26:53.727324Z",
     "start_time": "2024-11-13T02:26:53.723980Z"
    }
   },
   "cell_type": "code",
   "source": [
    "l.append('go')\n",
    "print(l)\n",
    "# 把元组当成一个整体插入到末尾\n",
    "l.append(y)\n",
    "print(l)"
   ],
   "id": "71dea3fad824d445",
   "outputs": [
    {
     "name": "stdout",
     "output_type": "stream",
     "text": [
      "['go', 'Python', ('a', 1), 'java', 'c', 'c++', 'php', 'go']\n",
      "['go', 'Python', ('a', 1), 'java', 'c', 'c++', 'php', 'go', ('a', 1)]\n"
     ]
    }
   ],
   "execution_count": 33
  },
  {
   "metadata": {
    "ExecuteTime": {
     "end_time": "2024-11-13T02:27:06.287525Z",
     "start_time": "2024-11-13T02:27:06.283605Z"
    }
   },
   "cell_type": "code",
   "source": [
    "#把元组拆分后的元素插入到末尾\n",
    "l.extend(y)\n",
    "print(l)"
   ],
   "id": "8ba2b3cedc33147a",
   "outputs": [
    {
     "name": "stdout",
     "output_type": "stream",
     "text": [
      "['go', 'Python', ('a', 1), 'java', 'c', 'c++', 'php', 'go', ('a', 1), 'a', 1, 'a', 1, 'a', 1]\n"
     ]
    }
   ],
   "execution_count": 35
  },
  {
   "metadata": {},
   "cell_type": "markdown",
   "source": [
    "## 列表操作（删）\n",
    "* del() 下标方式删除\n",
    "* pop() 下标方式删除， list.pop(index)， index不写，默认删除最后一个元素\n",
    "* remove() 值进行删除，无则报错,如果有相同值，则删除第一个值\n",
    "* clear() 删除整个列表元素"
   ],
   "id": "92fccb47bde23b36"
  },
  {
   "metadata": {
    "ExecuteTime": {
     "end_time": "2024-11-13T02:58:51.627810Z",
     "start_time": "2024-11-13T02:58:51.623900Z"
    }
   },
   "cell_type": "code",
   "source": [
    "l = list('hello123')\n",
    "#删除整个列表\n",
    "#del l\n",
    "#print(l)\n",
    "#删除单个元素\n",
    "del l[1]\n",
    "print(l)\n",
    "#删除多个元素\n",
    "del l[1:3]\n",
    "print(l)"
   ],
   "id": "4996cda745d8ffc1",
   "outputs": [
    {
     "name": "stdout",
     "output_type": "stream",
     "text": [
      "['h', 'l', 'l', 'o', '1', '2', '3']\n",
      "['h', 'o', '1', '2', '3']\n"
     ]
    }
   ],
   "execution_count": 61
  },
  {
   "metadata": {
    "ExecuteTime": {
     "end_time": "2024-11-13T03:00:50.633039Z",
     "start_time": "2024-11-13T03:00:50.628966Z"
    }
   },
   "cell_type": "code",
   "source": [
    "s = [1,3,4,5,6,7]\n",
    "s.pop()\n",
    "print(s)\n",
    "s.pop(1)\n",
    "print(s)"
   ],
   "id": "faae4231415bf5a4",
   "outputs": [
    {
     "name": "stdout",
     "output_type": "stream",
     "text": [
      "[1, 3, 4, 5, 6]\n",
      "[1, 4, 5, 6]\n"
     ]
    }
   ],
   "execution_count": 63
  },
  {
   "metadata": {
    "ExecuteTime": {
     "end_time": "2024-11-13T03:03:56.501171Z",
     "start_time": "2024-11-13T03:03:56.491169Z"
    }
   },
   "cell_type": "code",
   "source": [
    "a =[1,2,3,4,5,6,7,2,4]\n",
    "a.remove(2)\n",
    "print(a)"
   ],
   "id": "8b0fa9323c97696f",
   "outputs": [
    {
     "name": "stdout",
     "output_type": "stream",
     "text": [
      "[1, 3, 4, 5, 6, 7, 2, 4]\n"
     ]
    }
   ],
   "execution_count": 65
  },
  {
   "metadata": {
    "ExecuteTime": {
     "end_time": "2024-11-13T03:05:42.458616Z",
     "start_time": "2024-11-13T03:05:42.455184Z"
    }
   },
   "cell_type": "code",
   "source": [
    "a = [1,4,6,7]\n",
    "a.clear()\n",
    "print(a)"
   ],
   "id": "8a0eabf2eb415617",
   "outputs": [
    {
     "name": "stdout",
     "output_type": "stream",
     "text": [
      "[]\n"
     ]
    }
   ],
   "execution_count": 66
  },
  {
   "metadata": {},
   "cell_type": "markdown",
   "source": [
    "## 列表操作（改）\n",
    "* 修改元素:本质是赋值操作\n",
    "* 修改单个元素:通过下标访问到指定元素,然后再给该元素赋新值\n",
    "* 修改一组元素：利用列表赋值"
   ],
   "id": "7607cfb5ec278cba"
  },
  {
   "metadata": {
    "ExecuteTime": {
     "end_time": "2024-11-13T02:53:56.690642Z",
     "start_time": "2024-11-13T02:53:56.682615Z"
    }
   },
   "cell_type": "code",
   "source": [
    "#修改单个元素\n",
    "l =[\"Python\",\"java\",\"c\",\"c++\"]\n",
    "l[0] = 'go'\n",
    "print(l)\n",
    "#修改一组元素\n",
    "#l[1:3] = ['python','java']  #元素个数要一致\n",
    "l[0:4:2] = ['d','f']\n",
    "print(l)\n",
    "#特殊情况 对空切片赋值\n",
    "print(l[0:0]) #为空列表\n",
    "l[0:0] = 'c'  \n",
    "l[0:0] = ['c']\n",
    "l[0:0] = ['c','d']\n",
    "print(l)\n"
   ],
   "id": "b6f774f4a07570bf",
   "outputs": [
    {
     "name": "stdout",
     "output_type": "stream",
     "text": [
      "['go', 'java', 'c', 'c++']\n",
      "['d', 'java', 'f', 'c++']\n",
      "[]\n",
      "8\n"
     ]
    }
   ],
   "execution_count": 58
  },
  {
   "metadata": {},
   "cell_type": "markdown",
   "source": [
    "## 列表操作（查）\n",
    "* in 存在,obj in list ,在....里面 True，否则为False\n",
    "* not in,obj not in list, 不在 True ,否则为False\n",
    "* count() ,list.count(obj) 来统计某个元素obj在列表list中出现的次数,如果返回0，则表示列表中不存在此元素\n",
    "* index(),list.index(obj,start.end),查找某个元素obj在列表list中出现的位置,start和end可以不写"
   ],
   "id": "cffa543b233c3441"
  },
  {
   "metadata": {
    "ExecuteTime": {
     "end_time": "2024-11-13T03:11:09.870219Z",
     "start_time": "2024-11-13T03:11:04.650814Z"
    }
   },
   "cell_type": "code",
   "source": [
    "l = ['tom','bob','anger','lili','alice']\n",
    "name = input('需要查找的名字：')\n",
    "if name in l:\n",
    "    print('找到了')\n",
    "else:\n",
    "    print('查无此人')"
   ],
   "id": "48ddfee58849978d",
   "outputs": [
    {
     "name": "stdout",
     "output_type": "stream",
     "text": [
      "找到了\n"
     ]
    }
   ],
   "execution_count": 68
  },
  {
   "metadata": {
    "ExecuteTime": {
     "end_time": "2024-11-13T03:15:07.755357Z",
     "start_time": "2024-11-13T03:15:07.751316Z"
    }
   },
   "cell_type": "code",
   "source": [
    "l=[1,2,3,4,5,6,7,2,3,3,4,5,2,2]\n",
    "print(l.count(2)) #表示统计元素2出现的次数\n",
    "#count可判断某个元素是否存在\n",
    "if l.count(0):\n",
    "    print('元素0在列表')\n",
    "else:\n",
    "    print('元素0不在列表')"
   ],
   "id": "1c5d7ded3af7cddc",
   "outputs": [
    {
     "name": "stdout",
     "output_type": "stream",
     "text": [
      "4\n",
      "元素0不在列表\n"
     ]
    }
   ],
   "execution_count": 70
  },
  {
   "metadata": {},
   "cell_type": "markdown",
   "source": [
    "## 列表操作（排序）\n",
    "* reverse(),把原列表顺序倒置,逆置,原列表会修改\n",
    "* sort(),list.sort(),默认升序,原列表会修改,只应用于列表\n",
    "* 拓展：sorted()内置函数,原列表不会修改"
   ],
   "id": "a643a6b0ac572f9e"
  },
  {
   "metadata": {
    "ExecuteTime": {
     "end_time": "2024-11-13T03:20:45.237220Z",
     "start_time": "2024-11-13T03:20:45.231574Z"
    }
   },
   "cell_type": "code",
   "source": [
    "l = [1,2,3,5,6,3]\n",
    "l.reverse()\n",
    "print(l)"
   ],
   "id": "ec601c88ce697852",
   "outputs": [
    {
     "name": "stdout",
     "output_type": "stream",
     "text": [
      "[3, 6, 5, 3, 2, 1]\n"
     ]
    }
   ],
   "execution_count": 71
  },
  {
   "metadata": {
    "ExecuteTime": {
     "end_time": "2024-11-13T03:22:11.157527Z",
     "start_time": "2024-11-13T03:22:11.154028Z"
    }
   },
   "cell_type": "code",
   "source": [
    "l.sort()\n",
    "print(l)\n",
    "l.sort(reverse=True)\n",
    "print(l)"
   ],
   "id": "5a0a9378d2995899",
   "outputs": [
    {
     "name": "stdout",
     "output_type": "stream",
     "text": [
      "[1, 2, 3, 3, 5, 6]\n",
      "[6, 5, 3, 3, 2, 1]\n"
     ]
    }
   ],
   "execution_count": 73
  },
  {
   "metadata": {
    "ExecuteTime": {
     "end_time": "2024-11-13T03:26:27.929999Z",
     "start_time": "2024-11-13T03:26:27.926715Z"
    }
   },
   "cell_type": "code",
   "source": [
    "l = [3,45,67,2,13,67,2]\n",
    "l1 = sorted(l)\n",
    "l2 = sorted(l,reverse=True)\n",
    "print(l)\n",
    "print(l1)\n",
    "print(l2)"
   ],
   "id": "e410baf0989b2bc7",
   "outputs": [
    {
     "name": "stdout",
     "output_type": "stream",
     "text": [
      "[3, 45, 67, 2, 13, 67, 2]\n",
      "[2, 2, 3, 13, 45, 67, 67]\n",
      "[67, 67, 45, 13, 3, 2, 2]\n"
     ]
    }
   ],
   "execution_count": 76
  },
  {
   "metadata": {},
   "cell_type": "markdown",
   "source": [
    "## 列表推导式\n",
    "* [表达式 for 变量 in 列表]\n",
    "* [表达式 for 变量 in 列表 if 条件]"
   ],
   "id": "d8603637138ce6c0"
  },
  {
   "metadata": {
    "ExecuteTime": {
     "end_time": "2024-11-13T09:30:00.745553Z",
     "start_time": "2024-11-13T09:30:00.733982Z"
    }
   },
   "cell_type": "code",
   "source": [
    "l = [1,4,5,7,8,44,78,3]\n",
    "l1 = [i*2 for i in l]\n",
    "print(type(l1))\n",
    "print(l1)"
   ],
   "id": "3a3ac696b17c7588",
   "outputs": [
    {
     "name": "stdout",
     "output_type": "stream",
     "text": [
      "<class 'list'>\n",
      "[2, 8, 10, 14, 16, 88, 156, 6]\n"
     ]
    }
   ],
   "execution_count": 77
  },
  {
   "metadata": {
    "ExecuteTime": {
     "end_time": "2024-11-13T09:31:04.788035Z",
     "start_time": "2024-11-13T09:31:04.783184Z"
    }
   },
   "cell_type": "code",
   "source": [
    "l = [1,4,5,7,8,44,78,3]\n",
    "l1 = [i*2 for i in l if i%2==0]\n",
    "print(type(l1))\n",
    "print(l1)"
   ],
   "id": "19d441835e77661c",
   "outputs": [
    {
     "name": "stdout",
     "output_type": "stream",
     "text": [
      "<class 'list'>\n",
      "[8, 16, 88, 156]\n",
      "4\n"
     ]
    }
   ],
   "execution_count": 80
  },
  {
   "metadata": {
    "ExecuteTime": {
     "end_time": "2024-11-13T09:38:58.427995Z",
     "start_time": "2024-11-13T09:38:58.424172Z"
    }
   },
   "cell_type": "code",
   "source": [
    "li = [1,2,3,4,5,6,7,8,9]\n",
    "li2 =[]\n",
    "i = 1\n",
    "while i<len(li)+1:\n",
    "    if i in li:\n",
    "        li2.append(i*2)\n",
    "    i+=1\n",
    "print(li2)"
   ],
   "id": "30485ae27c637267",
   "outputs": [
    {
     "name": "stdout",
     "output_type": "stream",
     "text": [
      "[2, 4, 6, 8, 10, 12, 14, 16, 18]\n"
     ]
    }
   ],
   "execution_count": 84
  }
 ],
 "metadata": {
  "kernelspec": {
   "display_name": "Python 3",
   "language": "python",
   "name": "python3"
  },
  "language_info": {
   "codemirror_mode": {
    "name": "ipython",
    "version": 2
   },
   "file_extension": ".py",
   "mimetype": "text/x-python",
   "name": "python",
   "nbconvert_exporter": "python",
   "pygments_lexer": "ipython2",
   "version": "2.7.6"
  }
 },
 "nbformat": 4,
 "nbformat_minor": 5
}
