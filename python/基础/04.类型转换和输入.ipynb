{
 "cells": [
  {
   "metadata": {},
   "cell_type": "markdown",
   "source": [
    "想要变成什么类型，就用什么函数\n",
    "* int()\n",
    "* str()\n",
    "* float()\n",
    "* list()\n",
    "* tuple()\n",
    "* dict()\n",
    "* ......"
   ],
   "id": "c6569ded3e1ad49e"
  },
  {
   "metadata": {
    "ExecuteTime": {
     "end_time": "2024-11-12T01:50:32.733810Z",
     "start_time": "2024-11-12T01:50:32.729648Z"
    }
   },
   "cell_type": "code",
   "source": [
    "a = 123\n",
    "b = float(a)\n",
    "print(type(a),type(b),a,b)"
   ],
   "id": "7144186e5da51165",
   "outputs": [
    {
     "name": "stdout",
     "output_type": "stream",
     "text": [
      "<class 'int'> <class 'float'> 123 123.0\n"
     ]
    }
   ],
   "execution_count": 1
  },
  {
   "metadata": {},
   "cell_type": "markdown",
   "source": [
    "## input()输入函数\n",
    "* 当程序执行到input，等待用户输入，输入完成之后才会继续向下执行(同步阻塞)\n",
    "* input()接收用户输入后，一般存储到变量，方便使用\n",
    "* input()会把接收到的任意用户输入的数据都当做字符串处理"
   ],
   "id": "3b2141ef9c830693"
  },
  {
   "metadata": {
    "ExecuteTime": {
     "end_time": "2024-11-12T02:08:39.786951Z",
     "start_time": "2024-11-12T02:08:19.793359Z"
    }
   },
   "cell_type": "code",
   "source": [
    "a = input('请输入一个整数：')\n",
    "print(a)\n",
    "#限制输入的变量是int\n",
    "b = int(input('输入一个整数：'))\n",
    "print(b)\n",
    "#限制输入的变量是float\n",
    "c = int(input('输入一个浮点数：'))\n",
    "print(c)\n",
    "#限制输入的变量是数值\n",
    "d = eval(input('输入一个数：'))\n",
    "print(d)"
   ],
   "id": "7b9e1fc45a31b9a7",
   "outputs": [
    {
     "name": "stdout",
     "output_type": "stream",
     "text": [
      "4\n",
      "44\n",
      "45\n",
      "123\n"
     ]
    }
   ],
   "execution_count": 5
  }
 ],
 "metadata": {
  "kernelspec": {
   "display_name": "Python 3",
   "language": "python",
   "name": "python3"
  },
  "language_info": {
   "codemirror_mode": {
    "name": "ipython",
    "version": 2
   },
   "file_extension": ".py",
   "mimetype": "text/x-python",
   "name": "python",
   "nbconvert_exporter": "python",
   "pygments_lexer": "ipython2",
   "version": "2.7.6"
  }
 },
 "nbformat": 4,
 "nbformat_minor": 5
}
