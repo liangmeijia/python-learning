{
 "cells": [
  {
   "metadata": {},
   "cell_type": "markdown",
   "source": [
    "True和False的界定\n",
    "* 任何非零和非空对象都为真，解释为True\n",
    "* 数字0、空对象、None对象均为假，解释为False\n",
    "* 判断的返回值为True或False"
   ],
   "id": "fa053b5b7e649ae6"
  },
  {
   "metadata": {},
   "cell_type": "code",
   "outputs": [],
   "execution_count": null,
   "source": [
    "if True:\n",
    "    print(\"1\")\n",
    "print(\"end\")"
   ],
   "id": "b5f73d9f8734055c"
  },
  {
   "metadata": {
    "collapsed": true,
    "ExecuteTime": {
     "end_time": "2024-11-12T02:40:55.074035Z",
     "start_time": "2024-11-12T02:40:55.069740Z"
    }
   },
   "cell_type": "code",
   "outputs": [
    {
     "name": "stdout",
     "output_type": "stream",
     "text": [
      "您成年了\n",
      "判断结束\n"
     ]
    }
   ],
   "execution_count": 1,
   "source": [
    "#双条件if判断\n",
    "age = 19\n",
    "if age >=18 :\n",
    "    print('您成年了')\n",
    "else:\n",
    "    print('还未成年')\n",
    "print('判断结束')"
   ],
   "id": "initial_id"
  },
  {
   "metadata": {},
   "cell_type": "code",
   "outputs": [],
   "execution_count": null,
   "source": [
    "#多条件if判断\n",
    "age = 17\n",
    "if age >=18 :\n",
    "    print('1')\n",
    "elif age >=18 &  age <30:\n",
    "    print('2')\n",
    "else:\n",
    "    print('3')"
   ],
   "id": "3e9566aca889339f"
  },
  {
   "metadata": {
    "ExecuteTime": {
     "end_time": "2024-11-12T03:04:56.309648Z",
     "start_time": "2024-11-12T03:04:56.304655Z"
    }
   },
   "cell_type": "code",
   "source": [
    "#if嵌套(同层级的if 和else同缩进)\n",
    "has_ticket = True # 有车票\n",
    "knife_length = 40 # 刀的长度\n",
    "if has_ticket:\n",
    "    print('有车票，可以开始安检了')\n",
    "    if knife_length <= 20:\n",
    "        print('安检通过，可以进站了')\n",
    "    else:\n",
    "        print(f'安检不通过,刀的长度{knife_length},超过了最大长度20')\n",
    "else:\n",
    "    print('请先买车票')"
   ],
   "id": "3ae96ca422ccb19",
   "outputs": [
    {
     "name": "stdout",
     "output_type": "stream",
     "text": [
      "有车票，可以开始安检了\n",
      "安检不通过,刀的长度40,超过了最大长度20\n"
     ]
    }
   ],
   "execution_count": 2
  },
  {
   "metadata": {},
   "cell_type": "markdown",
   "source": [
    "比较运算符（返回值为True或False）\n",
    "* 等于 == \n",
    "* 不等于 !=\n",
    "* 大于 >\n",
    "* 小于 <\n",
    "* 大于等于 >=\n",
    "* 小于等于 <="
   ],
   "id": "b087649de1a1c888"
  },
  {
   "metadata": {},
   "cell_type": "markdown",
   "source": [
    "逻辑运算符\n",
    "* and (同真为真，一假全假;参数从左向右解析的，一旦结果可以确定就停止)\n",
    "* or (一真全真，同假为假)\n",
    "* not"
   ],
   "id": "323b1af6105b2232"
  },
  {
   "metadata": {
    "ExecuteTime": {
     "end_time": "2024-11-12T03:15:37.378648Z",
     "start_time": "2024-11-12T03:15:37.375616Z"
    }
   },
   "cell_type": "code",
   "source": [
    "a = True\n",
    "b = not a \n",
    "print(a and 0)\n",
    "print(a or 0)\n",
    "print(0 or a)\n",
    "print(b)"
   ],
   "id": "42f975c66d72a47f",
   "outputs": [
    {
     "name": "stdout",
     "output_type": "stream",
     "text": [
      "0\n",
      "True\n",
      "True\n",
      "False\n"
     ]
    }
   ],
   "execution_count": 9
  },
  {
   "metadata": {},
   "cell_type": "markdown",
   "source": [
    "三元运算符(把多行if语句写成一行)\n",
    "* a if(a>b) else b\n",
    "* 如果成立,输出a,不成立则输出b"
   ],
   "id": "61a9a660bc7ca2fe"
  },
  {
   "metadata": {
    "ExecuteTime": {
     "end_time": "2024-11-12T06:31:17.935797Z",
     "start_time": "2024-11-12T06:31:17.929144Z"
    }
   },
   "cell_type": "code",
   "source": [
    "a = 10\n",
    "b = 11\n",
    "c = a if a>b else b\n",
    "print(c)\n",
    "print('aaa') if a>b else print('bbb')"
   ],
   "id": "783cc4e32b119fd8",
   "outputs": [
    {
     "name": "stdout",
     "output_type": "stream",
     "text": [
      "11\n",
      "bbb\n"
     ]
    }
   ],
   "execution_count": 11
  },
  {
   "metadata": {},
   "cell_type": "code",
   "outputs": [],
   "execution_count": null,
   "source": "",
   "id": "1a4b6fbd931ae00"
  }
 ],
 "metadata": {
  "kernelspec": {
   "display_name": "Python 3",
   "language": "python",
   "name": "python3"
  },
  "language_info": {
   "codemirror_mode": {
    "name": "ipython",
    "version": 2
   },
   "file_extension": ".py",
   "mimetype": "text/x-python",
   "name": "python",
   "nbconvert_exporter": "python",
   "pygments_lexer": "ipython2",
   "version": "2.7.6"
  }
 },
 "nbformat": 4,
 "nbformat_minor": 5
}
