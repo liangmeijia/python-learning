{
 "cells": [
  {
   "metadata": {},
   "cell_type": "markdown",
   "source": [
    "## 元组（tuple）\n",
    "* 元组的特性：不能够被修改，不支持删除元组元素，但整个元组是可以被删除的\n",
    "* 元组的定义：元素由小括号包围，每个元素之间用逗号隔开如(1,2,3)。定义单个数据的元组，必须要加一个逗号\n",
    "* 意义：元组不可修改和删除，所以提高了代码编写的安全性。能用元组的时候，就尽量使用元组形式"
   ],
   "id": "877101b04b74de14"
  },
  {
   "metadata": {
    "ExecuteTime": {
     "end_time": "2024-11-14T02:22:01.403145Z",
     "start_time": "2024-11-14T02:22:01.398495Z"
    }
   },
   "cell_type": "code",
   "source": [
    "#元组定义\n",
    "t1 = (10) # 与 t = 10 等效\n",
    "t2 = (10,)\n",
    "t3 = ('aaa','bbb','ccc',3,55)\n",
    "print(type(t1), type(t2), type(t3))"
   ],
   "id": "cff8c761e875c65a",
   "outputs": [
    {
     "name": "stdout",
     "output_type": "stream",
     "text": [
      "<class 'int'> <class 'tuple'> <class 'tuple'>\n"
     ]
    }
   ],
   "execution_count": 2
  },
  {
   "metadata": {
    "ExecuteTime": {
     "end_time": "2024-11-14T01:24:46.801197Z",
     "start_time": "2024-11-14T01:24:46.797896Z"
    }
   },
   "cell_type": "code",
   "outputs": [],
   "execution_count": 5,
   "source": [
    "t = ('a',1,3)\n",
    "#1.验证元组不能被修改\n",
    "#t[1] = 4 #TypeError: 'tuple' object does not support item assignment\n",
    "#2.验证元组不能被删除\n",
    "#del t[1] #TypeError: 'tuple' object doesn't support item deletion\n",
    "del t #删除整个元组是可以的\n"
   ],
   "id": "ac7458a029035d0a"
  },
  {
   "metadata": {},
   "cell_type": "markdown",
   "source": [
    "## 元组操作（查看）\n",
    "* tuple[下标] 通过下标查找\n",
    "* tuple.index(obj) 查找某个数据obj，如果数据obj存在，则返回对应的下标(索引)，否则报错\n",
    "* tuple.count(obj) 统计某个元素obj在元组tuple中出现的次数。"
   ],
   "id": "84c7a02b68fecf5d"
  },
  {
   "metadata": {
    "ExecuteTime": {
     "end_time": "2024-11-14T02:28:18.687575Z",
     "start_time": "2024-11-14T02:28:18.684345Z"
    }
   },
   "cell_type": "code",
   "source": [
    "t = ('a',1,3,'a',2,3,1,5,7,'n','b')\n",
    "print(t[2])\n",
    "print(t.index('a'))\n",
    "print(t.count('a'))"
   ],
   "id": "9340597a14b431da",
   "outputs": [
    {
     "name": "stdout",
     "output_type": "stream",
     "text": [
      "3\n",
      "0\n",
      "2\n"
     ]
    }
   ],
   "execution_count": 5
  },
  {
   "metadata": {},
   "cell_type": "markdown",
   "source": [
    "## 元组“可变”的情况\n",
    "* 当元组的元素是列表时，此元素可以修改，因为列表可变的，即可修改的"
   ],
   "id": "a02ba14d1be2373a"
  },
  {
   "metadata": {
    "ExecuteTime": {
     "end_time": "2024-11-14T02:37:33.284959Z",
     "start_time": "2024-11-14T02:37:32.993067Z"
    }
   },
   "cell_type": "code",
   "source": [
    "t = (1,2,3,['a','b','c'],5,6)\n",
    "print(t[3])\n",
    "t[3][2] = 'cc'\n",
    "print(t)"
   ],
   "id": "2061f19345050857",
   "outputs": [
    {
     "name": "stdout",
     "output_type": "stream",
     "text": [
      "['a', 'b', 'c']\n"
     ]
    },
    {
     "ename": "TypeError",
     "evalue": "'tuple' object doesn't support item deletion",
     "output_type": "error",
     "traceback": [
      "\u001B[1;31m---------------------------------------------------------------------------\u001B[0m",
      "\u001B[1;31mTypeError\u001B[0m                                 Traceback (most recent call last)",
      "Cell \u001B[1;32mIn[9], line 4\u001B[0m\n\u001B[0;32m      2\u001B[0m \u001B[38;5;28mprint\u001B[39m(t[\u001B[38;5;241m3\u001B[39m])\n\u001B[0;32m      3\u001B[0m t[\u001B[38;5;241m3\u001B[39m][\u001B[38;5;241m2\u001B[39m] \u001B[38;5;241m=\u001B[39m \u001B[38;5;124m'\u001B[39m\u001B[38;5;124mcc\u001B[39m\u001B[38;5;124m'\u001B[39m\n\u001B[1;32m----> 4\u001B[0m \u001B[38;5;28;01mdel\u001B[39;00m \u001B[43mt\u001B[49m\u001B[43m[\u001B[49m\u001B[38;5;241;43m3\u001B[39;49m\u001B[43m]\u001B[49m\n\u001B[0;32m      5\u001B[0m \u001B[38;5;28mprint\u001B[39m(t)\n",
      "\u001B[1;31mTypeError\u001B[0m: 'tuple' object doesn't support item deletion"
     ]
    }
   ],
   "execution_count": 9
  }
 ],
 "metadata": {
  "kernelspec": {
   "display_name": "Python 3",
   "language": "python",
   "name": "python3"
  },
  "language_info": {
   "codemirror_mode": {
    "name": "ipython",
    "version": 2
   },
   "file_extension": ".py",
   "mimetype": "text/x-python",
   "name": "python",
   "nbconvert_exporter": "python",
   "pygments_lexer": "ipython2",
   "version": "2.7.6"
  }
 },
 "nbformat": 4,
 "nbformat_minor": 5
}
