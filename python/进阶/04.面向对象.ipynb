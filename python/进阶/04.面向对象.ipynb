{
 "cells": [
  {
   "metadata": {},
   "cell_type": "markdown",
   "source": [
    "## 类\n",
    "* 是一系列具有相同属性和行为的事物的统称，不是真实存在的事物\n",
    "* 类的三要素:\n",
    "* 【类名】:大驼峰\n",
    "* 【属性】:对象的特征描述，用来说明是什么样子的\n",
    "* 【方法】:对象具有的功能(行为),用来说明能够做什么\n",
    "## 对象\n",
    "* 是类的具体实现，是类创建出来的真实存在的事物\n",
    "\n",
    "**面向对象**\n",
    "* 思想核心:在开发中，先有类，再有对象"
   ],
   "id": "234f6c85259609c8"
  },
  {
   "metadata": {
    "ExecuteTime": {
     "end_time": "2024-11-22T06:40:37.679724Z",
     "start_time": "2024-11-22T06:40:37.674865Z"
    }
   },
   "cell_type": "code",
   "source": [
    "#定义类\n",
    "class Person:\n",
    "    name = '人类'\n",
    "    height = 160\n",
    "#查询类属性    \n",
    "print(Person.name)\n",
    "print(Person.height)\n",
    "#增加一个类属性\n",
    "Person.age = 20\n",
    "print(Person.age)\n",
    "\n",
    "#实例化第一个对象\n",
    "person = Person()\n",
    "print(person)\n",
    "#实例化第二个对象\n",
    "person1 = Person()\n",
    "print(person1)"
   ],
   "id": "ab6c27200f3d435f",
   "outputs": [
    {
     "name": "stdout",
     "output_type": "stream",
     "text": [
      "人类\n",
      "160\n",
      "20\n",
      "<__main__.Person object at 0x000001A746386960>\n",
      "<__main__.Person object at 0x000001A7463840B0>\n"
     ]
    }
   ],
   "execution_count": 5
  },
  {
   "metadata": {},
   "cell_type": "markdown",
   "source": [
    "## 实例方法\n",
    "* 由对象调用，至少有一个self参数，执行实例方法的时候，自动将调用该方法的对象赋值给self"
   ],
   "id": "1f016650b008eedf"
  },
  {
   "metadata": {
    "ExecuteTime": {
     "end_time": "2024-11-22T06:46:26.450203Z",
     "start_time": "2024-11-22T06:46:26.446198Z"
    }
   },
   "cell_type": "code",
   "source": [
    "class Student:\n",
    "    name = 'student'\n",
    "    def study(self):  #self参数是类中的实例方法必须具备的;self代表对象本身，当对象调用实例方法时python会白动将对象本身的引用作为参数，传递到实例方法的第一个参数self里面\n",
    "        print('我要学习')\n",
    "\n",
    "student = Student()\n",
    "student.study()\n",
    "\n",
    "student1 = Student()\n",
    "student1.study()"
   ],
   "id": "22091e4aad50dec3",
   "outputs": [
    {
     "name": "stdout",
     "output_type": "stream",
     "text": [
      "我要学习\n",
      "我要学习\n"
     ]
    }
   ],
   "execution_count": 7
  },
  {
   "metadata": {},
   "cell_type": "code",
   "outputs": [],
   "execution_count": null,
   "source": "",
   "id": "11f032d91c4e6b33"
  }
 ],
 "metadata": {
  "kernelspec": {
   "display_name": "Python 3",
   "language": "python",
   "name": "python3"
  },
  "language_info": {
   "codemirror_mode": {
    "name": "ipython",
    "version": 2
   },
   "file_extension": ".py",
   "mimetype": "text/x-python",
   "name": "python",
   "nbconvert_exporter": "python",
   "pygments_lexer": "ipython2",
   "version": "2.7.6"
  }
 },
 "nbformat": 4,
 "nbformat_minor": 5
}
