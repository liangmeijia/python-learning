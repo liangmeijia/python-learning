{
 "cells": [
  {
   "metadata": {},
   "cell_type": "markdown",
   "source": [
    "## 类\n",
    "* 是一系列具有相同属性和行为的事物的统称，不是真实存在的事物\n",
    "* 类的三要素:\n",
    "* 【类名】:大驼峰\n",
    "* 【属性】:对象的特征描述，用来说明是什么样子的\n",
    "* 【方法】:对象具有的功能(行为),用来说明能够做什么\n",
    "## 对象\n",
    "* 是类的具体实现，是类创建出来的真实存在的事物\n",
    "\n",
    "**面向对象**\n",
    "* 思想核心:在开发中，先有类，再有对象"
   ],
   "id": "234f6c85259609c8"
  },
  {
   "metadata": {
    "ExecuteTime": {
     "end_time": "2024-11-22T06:40:37.679724Z",
     "start_time": "2024-11-22T06:40:37.674865Z"
    }
   },
   "cell_type": "code",
   "source": [
    "#定义类\n",
    "class Person:\n",
    "    name = '人类'\n",
    "    height = 160\n",
    "#查询类属性    \n",
    "print(Person.name)\n",
    "print(Person.height)\n",
    "#增加一个类属性\n",
    "Person.age = 20\n",
    "print(Person.age)\n",
    "\n",
    "#实例化第一个对象　：　类名（）\n",
    "person = Person()\n",
    "print(person)\n",
    "#实例化第二个对象\n",
    "person1 = Person()\n",
    "print(person1)"
   ],
   "id": "ab6c27200f3d435f",
   "outputs": [
    {
     "name": "stdout",
     "output_type": "stream",
     "text": [
      "人类\n",
      "160\n",
      "20\n",
      "<__main__.Person object at 0x000001A746386960>\n",
      "<__main__.Person object at 0x000001A7463840B0>\n"
     ]
    }
   ],
   "execution_count": 5
  },
  {
   "metadata": {},
   "cell_type": "markdown",
   "source": [
    "## 实例方法\n",
    "* 由对象调用，至少有一个self参数，执行实例方法的时候，自动将调用该方法的对象赋值给self"
   ],
   "id": "1f016650b008eedf"
  },
  {
   "metadata": {
    "ExecuteTime": {
     "end_time": "2024-12-03T06:45:34.088482Z",
     "start_time": "2024-12-03T06:45:34.084759Z"
    }
   },
   "cell_type": "code",
   "source": [
    "class Student:\n",
    "    def study(self):  #self参数是类中的实例方法必须具备的;self代表对象本身，当对象调用实例方法时python会白动将对象本身的引用作为参数，传递到实例方法的第一个参数self里面\n",
    "        print('我要学习')\n",
    "        print(self)\n",
    "    \n",
    "student = Student()\n",
    "#对象调用实例方法\n",
    "print(student)\n",
    "student.study()"
   ],
   "id": "22091e4aad50dec3",
   "outputs": [
    {
     "name": "stdout",
     "output_type": "stream",
     "text": [
      "<__main__.Student object at 0x00000265D6E4E960>\n",
      "我要学习\n",
      "<__main__.Student object at 0x00000265D6E4E960>\n"
     ]
    }
   ],
   "execution_count": 4
  },
  {
   "metadata": {},
   "cell_type": "markdown",
   "source": [
    "### 实例属性\n",
    "* 实例属性只能由对应的实例对象访问，类不能访问，其他对象也不能访问\n",
    "* 类属性是所有对象公共的，对象和类都能访问"
   ],
   "id": "1ab2baafc3b73731"
  },
  {
   "metadata": {
    "ExecuteTime": {
     "end_time": "2024-12-10T08:15:21.120565Z",
     "start_time": "2024-12-10T08:15:21.115752Z"
    }
   },
   "cell_type": "code",
   "source": [
    "class Person:\n",
    "    name = 'Test' #类属性（类和对象都能访问）\n",
    "    def introduce(self):\n",
    "        print(f'我的名字是{self.name},我的年龄是{self.age}')\n",
    "\n",
    "pe = Person()\n",
    "pe.age = 19 #实例属性\n",
    "pe.introduce()\n",
    "\n",
    "pe2 = Person()\n",
    "pe2.age = 19 #实例属性\n",
    "pe2.introduce()"
   ],
   "id": "7f093619e0e9c634",
   "outputs": [
    {
     "name": "stdout",
     "output_type": "stream",
     "text": [
      "我的名字是Test,我的年龄是19\n",
      "我的名字是Test,我的年龄是19\n"
     ]
    }
   ],
   "execution_count": 16
  },
  {
   "metadata": {},
   "cell_type": "markdown",
   "source": [
    "### 构造函数 \\_\\_init__\n",
    "* 作用:通常用来做属性初始化或者赋值操作\n",
    "* 在类实例化对象的时候，会被自动调用"
   ],
   "id": "a7a2e0e3fde358f"
  },
  {
   "metadata": {
    "ExecuteTime": {
     "end_time": "2024-12-09T06:54:52.567114Z",
     "start_time": "2024-12-09T06:54:52.560888Z"
    }
   },
   "cell_type": "code",
   "source": [
    "class Person:\n",
    "    name='Bob' #类属性\n",
    "    def __init__(self,name,age,height): # 构造函数\n",
    "        self.name = name  # 实例属性\n",
    "        self.age = age\n",
    "        self.height = height\n",
    "    def play(self): # 实例方法\n",
    "        print(f'{self.name}在打游戏')\n",
    "    def introduce(self):\n",
    "        print(f'{self.name}的年龄是{self.age}，身高是{self.height}')\n",
    "\n",
    "p1 = Person('Bob',19,160)\n",
    "p1.introduce()\n",
    "p1.play()\n",
    "\n",
    "p2 = Person('Alice',18,163)\n",
    "p2.introduce()\n",
    "p2.play()"
   ],
   "id": "c063d184ac035bab",
   "outputs": [
    {
     "name": "stdout",
     "output_type": "stream",
     "text": [
      "Bob的年龄是19，身高是160\n",
      "Bob在打游戏\n",
      "Alice的年龄是18，身高是163\n",
      "Alice在打游戏\n"
     ]
    }
   ],
   "execution_count": 2
  },
  {
   "metadata": {},
   "cell_type": "markdown",
   "source": [
    "### 析构函数 \\__del__\n",
    "* 删除对象的时候，解释器会默认调用__del__方法"
   ],
   "id": "a0bb3c0660dd2a37"
  },
  {
   "metadata": {
    "ExecuteTime": {
     "end_time": "2024-12-10T07:58:08.783629Z",
     "start_time": "2024-12-10T07:58:08.779352Z"
    }
   },
   "cell_type": "code",
   "source": [
    "class Person:\n",
    "    def __init__(self): # 构造函数\n",
    "        print('构造函数被执行了')\n",
    "    def __del__(self):\n",
    "        print('析构函数被执行了')\n",
    "p = Person()\n",
    "# \n",
    "print('这是倒数第二句话')\n",
    "print('这是倒数第一句话')\n",
    "del p\n",
    "# del p语句执行的时候，内存会立即被回收，会调用对象本身的del()方法 \n",
    "# 程序结束而不是对象销毁，说明对象是在程序结束后才结束，而不是在对象创建完，对象方法执行完（而不是其他非对象方法执行完）才结束"
   ],
   "id": "4c7b107188b78eed",
   "outputs": [
    {
     "name": "stdout",
     "output_type": "stream",
     "text": [
      "构造函数被执行了\n",
      "析构函数被执行了\n",
      "这是倒数第二句话\n",
      "这是倒数第一句话\n",
      "析构函数被执行了\n"
     ]
    }
   ],
   "execution_count": 8
  },
  {
   "metadata": {},
   "cell_type": "markdown",
   "source": [
    "### 封装\n",
    "* 指的是隐藏对象中一些不希望被外部所访问到的属性或者方法\n",
    "\n",
    "**隐藏属性或方法(私有权限)**\n",
    "* __xxx:双下划线开头，隐藏属性/方法，如果定义在类中，无法在外部直接访问（通过对象或类.），子类不会继承，要访问只能通过间接的方式，另一个py文件中通过from xxx import *导入的时候，也无法导入。这种命名一般时python中的魔术方法或属性，都是有特殊含义或者功能的，自己不要轻易定义\n",
    "* _xxx:单下划线开头，声明私有属性/方法，如果定义在类中，外部可以使用，子类也可以继承，但是在另一个py文件中通过from xxx import * 导入时，无法导入"
   ],
   "id": "296f0e25251a8914"
  },
  {
   "metadata": {
    "ExecuteTime": {
     "end_time": "2024-12-10T08:49:01.465342Z",
     "start_time": "2024-12-10T08:49:01.456762Z"
    }
   },
   "cell_type": "code",
   "source": [
    "class Person:\n",
    "    name = 'Bob' #正常的类属性\n",
    "    __age = 18 # 隐藏的类属性\n",
    "    _sex = '女'\n",
    "    def  introduce(self):\n",
    "        #return f'{Person.name}的年龄是{Person.__age}' #在类的内部使用（类.属性）隐藏属性\n",
    "        return f'{self.name}的年龄是{self.__age}' #在类的内部使用(self.属性)隐藏属性\n",
    "    def __play(self):\n",
    "        print('玩手机')\n",
    "    def fun(self):\n",
    "        #Person.__play(self) #不推荐\n",
    "        self.__play() #推荐\n",
    "    def _funa(self):\n",
    "        print('我在吃吃吃')\n",
    "        \n",
    "p = Person()\n",
    "#访问正常的类【属性】\n",
    "print(p.name)\n",
    "#访问隐藏属性__age，会报错\n",
    "# print(p.__age)\n",
    "#访问隐藏属性_sex，不会报错\n",
    "print(p._sex)\n",
    "#解决方法1 \n",
    "print(p._Person__age) #隐藏属性实际上就是python自动给其修改了一个名字 \n",
    "#解决方法2\n",
    "print(p.introduce())\n",
    "\n",
    "#访问隐藏【方法】，报错\n",
    "# p.__play()\n",
    "#访问隐藏【方法】，不会报错\n",
    "p._funa()\n",
    "#解决方法1\n",
    "p._Person__play()\n",
    "#解决方法2\n",
    "p.fun()"
   ],
   "id": "bfb281581b08b842",
   "outputs": [
    {
     "name": "stdout",
     "output_type": "stream",
     "text": [
      "Bob\n",
      "女\n",
      "18\n",
      "Bob的年龄是18\n",
      "我在吃吃吃\n",
      "玩手机\n",
      "玩手机\n"
     ]
    }
   ],
   "execution_count": 25
  },
  {
   "metadata": {},
   "cell_type": "markdown",
   "source": [
    "### 继承\n",
    "* 就是让类和类之间转变为父子关系，子类默认继承父类的属性和方法\n",
    "* 分类：单继承和多继承\n",
    "* 语法：\n",
    "* class 类名(父类名):\n",
    "* 代码块"
   ],
   "id": "4395bcd9dda6f7c5"
  },
  {
   "metadata": {
    "ExecuteTime": {
     "end_time": "2024-12-10T08:59:29.263882Z",
     "start_time": "2024-12-10T08:59:29.259001Z"
    }
   },
   "cell_type": "code",
   "source": [
    "class Person:\n",
    "    def eat(self):\n",
    "        print('吃吃吃')\n",
    "    def sleep(self):\n",
    "        print('睡睡睡')\n",
    "#单继承\n",
    "class Girl(Person):\n",
    "    pass #占位符\n",
    "class Man(Person):\n",
    "    pass\n",
    "girl = Girl()\n",
    "girl.eat()\n",
    "girl.sleep()\n",
    "man = Man()\n",
    "man.eat()\n",
    "man.sleep()\n",
    "#总结:子类可以继承父类的属性和方法，就算子类自己没有，也可以使用父类的。\n",
    "#继承具有传递性（多重继承）：子类具有父类以及父类的父类的方法和属性"
   ],
   "id": "b0e962a7fc38e16a",
   "outputs": [
    {
     "name": "stdout",
     "output_type": "stream",
     "text": [
      "吃吃吃\n",
      "睡睡睡\n",
      "吃吃吃\n",
      "睡睡睡\n"
     ]
    }
   ],
   "execution_count": 27
  },
  {
   "metadata": {
    "ExecuteTime": {
     "end_time": "2024-12-10T09:15:06.257545Z",
     "start_time": "2024-12-10T09:15:06.248028Z"
    }
   },
   "cell_type": "code",
   "source": [
    "#重写（覆盖）：在子类中定义与父类相同名称的方法覆盖父类方法\n",
    "class Person:\n",
    "    def eat(self):\n",
    "        print('吃吃吃')\n",
    "#单继承\n",
    "class Girl(Person):\n",
    "    def eat(self): #方法的重写\n",
    "        print('吃好的')\n",
    "girl = Girl()\n",
    "girl.eat()"
   ],
   "id": "bf5d5fbbb5a7d398",
   "outputs": [
    {
     "name": "stdout",
     "output_type": "stream",
     "text": [
      "吃好的\n"
     ]
    }
   ],
   "execution_count": 29
  },
  {
   "metadata": {
    "ExecuteTime": {
     "end_time": "2024-12-10T09:20:01.052979Z",
     "start_time": "2024-12-10T09:20:01.048361Z"
    }
   },
   "cell_type": "code",
   "source": [
    "class Person:\n",
    "    def eat(self):\n",
    "        print('吃吃吃')\n",
    "    \n",
    "\n",
    "#单继承\n",
    "class Girl(Person):\n",
    "    def eat(self): #方法的重写\n",
    "        super().eat() #推荐， super类代表父类，是一个特殊的类，super()代表实例化父类对象，super().方法()代表调用父类的方法\n",
    "        #Person.eat(self) #不推荐\n",
    "        #super(Girl,self).eat() #不推荐\n",
    "        print('吃好的')\n",
    "girl = Girl()\n",
    "girl.eat()"
   ],
   "id": "3d641b9a057bf8e2",
   "outputs": [
    {
     "name": "stdout",
     "output_type": "stream",
     "text": [
      "吃吃吃\n",
      "吃好的\n"
     ]
    }
   ],
   "execution_count": 33
  },
  {
   "metadata": {},
   "cell_type": "markdown",
   "source": [
    "### 新式类和经典类\n",
    "* class A: 或class A(): 是经典类，不继承任何类\n",
    "* class A(object): 是新式类，即括号里面有写类名，继承了object类或者该类的子类都是新式类\n",
    "* object是python3为所有对象提供的基类(顶级父类)，所有类都继承了object一些内置的属性和方法，因此python3中的类都是新式类。python2中才有经典类的说法\n",
    "* 派生类：子类有不同于父类的方法或属性，子类就是派生类，否则不是"
   ],
   "id": "a68d05b64417df87"
  },
  {
   "metadata": {},
   "cell_type": "code",
   "outputs": [],
   "execution_count": null,
   "source": [
    "\n",
    "#经典类\n",
    "class A:\n",
    "    pass\n",
    "class B():\n",
    "    pass\n",
    "#新式类\n",
    "class C(object):\n",
    "    pass"
   ],
   "id": "10708cb5a266faa3"
  }
 ],
 "metadata": {
  "kernelspec": {
   "display_name": "Python 3",
   "language": "python",
   "name": "python3"
  },
  "language_info": {
   "codemirror_mode": {
    "name": "ipython",
    "version": 2
   },
   "file_extension": ".py",
   "mimetype": "text/x-python",
   "name": "python",
   "nbconvert_exporter": "python",
   "pygments_lexer": "ipython2",
   "version": "2.7.6"
  }
 },
 "nbformat": 4,
 "nbformat_minor": 5
}
