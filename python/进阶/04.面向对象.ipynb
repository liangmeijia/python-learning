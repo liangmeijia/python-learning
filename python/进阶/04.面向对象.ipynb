{
 "cells": [
  {
   "metadata": {},
   "cell_type": "markdown",
   "source": [
    "## 类\n",
    "* 是一系列具有相同属性和行为的事物的统称，不是真实存在的事物\n",
    "* 类的三要素:\n",
    "* 【类名】:大驼峰\n",
    "* 【属性】:对象的特征描述，用来说明是什么样子的\n",
    "* 【方法】:对象具有的功能(行为),用来说明能够做什么\n",
    "## 对象\n",
    "* 是类的具体实现，是类创建出来的真实存在的事物\n",
    "\n",
    "**面向对象**\n",
    "* 思想核心:在开发中，先有类，再有对象"
   ],
   "id": "234f6c85259609c8"
  },
  {
   "metadata": {
    "ExecuteTime": {
     "end_time": "2024-11-22T06:40:37.679724Z",
     "start_time": "2024-11-22T06:40:37.674865Z"
    }
   },
   "cell_type": "code",
   "source": [
    "#定义类\n",
    "class Person:\n",
    "    name = '人类'\n",
    "    height = 160\n",
    "#查询类属性    \n",
    "print(Person.name)\n",
    "print(Person.height)\n",
    "#增加一个类属性\n",
    "Person.age = 20\n",
    "print(Person.age)\n",
    "\n",
    "#实例化第一个对象　：　类名（）\n",
    "person = Person()\n",
    "print(person)\n",
    "#实例化第二个对象\n",
    "person1 = Person()\n",
    "print(person1)"
   ],
   "id": "ab6c27200f3d435f",
   "outputs": [
    {
     "name": "stdout",
     "output_type": "stream",
     "text": [
      "人类\n",
      "160\n",
      "20\n",
      "<__main__.Person object at 0x000001A746386960>\n",
      "<__main__.Person object at 0x000001A7463840B0>\n"
     ]
    }
   ],
   "execution_count": 5
  },
  {
   "metadata": {},
   "cell_type": "markdown",
   "source": [
    "## 实例方法\n",
    "* 由对象调用，至少有一个self参数，执行实例方法的时候，自动将调用该方法的对象赋值给self"
   ],
   "id": "1f016650b008eedf"
  },
  {
   "metadata": {
    "ExecuteTime": {
     "end_time": "2024-12-03T06:45:34.088482Z",
     "start_time": "2024-12-03T06:45:34.084759Z"
    }
   },
   "cell_type": "code",
   "source": [
    "class Student:\n",
    "    def study(self):  #self参数是类中的实例方法必须具备的;self代表对象本身，当对象调用实例方法时python会白动将对象本身的引用作为参数，传递到实例方法的第一个参数self里面\n",
    "        print('我要学习')\n",
    "        print(self)\n",
    "    \n",
    "student = Student()\n",
    "#对象调用实例方法\n",
    "print(student)\n",
    "student.study()"
   ],
   "id": "22091e4aad50dec3",
   "outputs": [
    {
     "name": "stdout",
     "output_type": "stream",
     "text": [
      "<__main__.Student object at 0x00000265D6E4E960>\n",
      "我要学习\n",
      "<__main__.Student object at 0x00000265D6E4E960>\n"
     ]
    }
   ],
   "execution_count": 4
  },
  {
   "metadata": {},
   "cell_type": "markdown",
   "source": [
    "### 实例属性\n",
    "* 实例属性只能由对应的实例对象访问，类不能访问，其他对象也不能访问\n",
    "* 类属性是所有对象公共的，对象和类都能访问"
   ],
   "id": "1ab2baafc3b73731"
  },
  {
   "metadata": {
    "ExecuteTime": {
     "end_time": "2024-12-10T08:15:21.120565Z",
     "start_time": "2024-12-10T08:15:21.115752Z"
    }
   },
   "cell_type": "code",
   "source": [
    "class Person:\n",
    "    name = 'Test' #类属性（类和对象都能访问）\n",
    "    def introduce(self):\n",
    "        print(f'我的名字是{self.name},我的年龄是{self.age}')\n",
    "\n",
    "pe = Person()\n",
    "pe.age = 19 #实例属性\n",
    "pe.introduce()\n",
    "\n",
    "pe2 = Person()\n",
    "pe2.age = 19 #实例属性\n",
    "pe2.introduce()"
   ],
   "id": "7f093619e0e9c634",
   "outputs": [
    {
     "name": "stdout",
     "output_type": "stream",
     "text": [
      "我的名字是Test,我的年龄是19\n",
      "我的名字是Test,我的年龄是19\n"
     ]
    }
   ],
   "execution_count": 16
  },
  {
   "metadata": {},
   "cell_type": "markdown",
   "source": [
    "### 构造函数 \\_\\_init__\n",
    "* 作用:通常用来做属性初始化或者赋值操作\n",
    "* 在类实例化对象的时候，会被自动调用"
   ],
   "id": "a7a2e0e3fde358f"
  },
  {
   "metadata": {
    "ExecuteTime": {
     "end_time": "2024-12-09T06:54:52.567114Z",
     "start_time": "2024-12-09T06:54:52.560888Z"
    }
   },
   "cell_type": "code",
   "source": [
    "class Person:\n",
    "    name='Bob' #类属性\n",
    "    def __init__(self,name,age,height): # 构造函数\n",
    "        self.name = name  # 实例属性\n",
    "        self.age = age\n",
    "        self.height = height\n",
    "    def play(self): # 实例方法\n",
    "        print(f'{self.name}在打游戏')\n",
    "    def introduce(self):\n",
    "        print(f'{self.name}的年龄是{self.age}，身高是{self.height}')\n",
    "\n",
    "p1 = Person('Bob',19,160)\n",
    "p1.introduce()\n",
    "p1.play()\n",
    "\n",
    "p2 = Person('Alice',18,163)\n",
    "p2.introduce()\n",
    "p2.play()"
   ],
   "id": "c063d184ac035bab",
   "outputs": [
    {
     "name": "stdout",
     "output_type": "stream",
     "text": [
      "Bob的年龄是19，身高是160\n",
      "Bob在打游戏\n",
      "Alice的年龄是18，身高是163\n",
      "Alice在打游戏\n"
     ]
    }
   ],
   "execution_count": 2
  },
  {
   "metadata": {},
   "cell_type": "markdown",
   "source": [
    "### 析构函数 \\__del__\n",
    "* 删除对象的时候，解释器会默认调用__del__方法"
   ],
   "id": "a0bb3c0660dd2a37"
  },
  {
   "metadata": {
    "ExecuteTime": {
     "end_time": "2024-12-10T07:58:08.783629Z",
     "start_time": "2024-12-10T07:58:08.779352Z"
    }
   },
   "cell_type": "code",
   "source": [
    "class Person:\n",
    "    def __init__(self): # 构造函数\n",
    "        print('构造函数被执行了')\n",
    "    def __del__(self):\n",
    "        print('析构函数被执行了')\n",
    "p = Person()\n",
    "# \n",
    "print('这是倒数第二句话')\n",
    "print('这是倒数第一句话')\n",
    "del p\n",
    "# del p语句执行的时候，内存会立即被回收，会调用对象本身的del()方法 \n",
    "# 程序结束而不是对象销毁，说明对象是在程序结束后才结束，而不是在对象创建完，对象方法执行完（而不是其他非对象方法执行完）才结束"
   ],
   "id": "4c7b107188b78eed",
   "outputs": [
    {
     "name": "stdout",
     "output_type": "stream",
     "text": [
      "构造函数被执行了\n",
      "析构函数被执行了\n",
      "这是倒数第二句话\n",
      "这是倒数第一句话\n",
      "析构函数被执行了\n"
     ]
    }
   ],
   "execution_count": 8
  },
  {
   "metadata": {},
   "cell_type": "markdown",
   "source": [
    "### 封装\n",
    "* 指的是隐藏对象中一些不希望被外部所访问到的属性或者方法\n",
    "\n",
    "**隐藏属性或方法(私有权限)**\n",
    "* __xxx:双下划线开头，隐藏属性/方法，如果定义在类中，无法在外部直接访问（通过对象或类.），子类不会继承，要访问只能通过间接的方式，另一个py文件中通过from xxx import *导入的时候，也无法导入。这种命名一般时python中的魔术方法或属性，都是有特殊含义或者功能的，自己不要轻易定义\n",
    "* _xxx:单下划线开头，声明私有属性/方法，如果定义在类中，外部可以使用，子类也可以继承，但是在另一个py文件中通过from xxx import * 导入时，无法导入"
   ],
   "id": "296f0e25251a8914"
  },
  {
   "metadata": {
    "ExecuteTime": {
     "end_time": "2024-12-11T01:59:16.396156Z",
     "start_time": "2024-12-11T01:59:16.382146Z"
    }
   },
   "cell_type": "code",
   "source": [
    "class Person:\n",
    "    name = 'Bob' #正常的类属性\n",
    "    __age = 18 # 隐藏的类属性1\n",
    "    _sex = '女' # 隐藏的类属性2\n",
    "    def  introduce(self):\n",
    "        #return f'{Person.name}的年龄是{Person.__age}' #在类的内部使用（类.属性）隐藏属性\n",
    "        return f'{self.name}的年龄是{self.__age}，性别是{self._sex}' #在类的内部使用(self.属性)隐藏属性\n",
    "    def __play(self):\n",
    "        print('玩手机')\n",
    "    def fun(self):\n",
    "        #Person.__play(self) #不推荐\n",
    "        self.__play() #推荐\n",
    "    def _funa(self):\n",
    "        print('我在吃吃吃')\n",
    "        \n",
    "p = Person()\n",
    "#访问正常的类【属性】\n",
    "print(p.name)\n",
    "#访问隐藏属性__age，会报错\n",
    "# print(p.__age)\n",
    "#访问隐藏属性_sex，不会报错\n",
    "print(p._sex)\n",
    "#解决方法1 \n",
    "print(p._Person__age) #隐藏属性实际上就是python自动给其修改了一个名字 \n",
    "#解决方法2\n",
    "print(p.introduce())\n",
    "\n",
    "#访问隐藏【方法】，报错\n",
    "# p.__play()\n",
    "#访问隐藏【方法】，不会报错\n",
    "p._funa()\n",
    "#解决方法1\n",
    "p._Person__play()\n",
    "#解决方法2\n",
    "p.fun()"
   ],
   "id": "bfb281581b08b842",
   "outputs": [
    {
     "name": "stdout",
     "output_type": "stream",
     "text": [
      "Bob\n",
      "女\n",
      "18\n",
      "Bob的年龄是18，性别是女\n",
      "我在吃吃吃\n",
      "玩手机\n",
      "玩手机\n"
     ]
    }
   ],
   "execution_count": 8
  },
  {
   "metadata": {},
   "cell_type": "markdown",
   "source": [
    "### 继承\n",
    "* 就是让类和类之间转变为父子关系，子类默认继承父类的属性和方法\n",
    "* 分类：单继承和多继承\n",
    "* 语法：\n",
    "* class 类名(父类名):\n",
    "* 代码块"
   ],
   "id": "4395bcd9dda6f7c5"
  },
  {
   "metadata": {
    "ExecuteTime": {
     "end_time": "2024-12-10T08:59:29.263882Z",
     "start_time": "2024-12-10T08:59:29.259001Z"
    }
   },
   "cell_type": "code",
   "source": [
    "class Person:\n",
    "    def eat(self):\n",
    "        print('吃吃吃')\n",
    "    def sleep(self):\n",
    "        print('睡睡睡')\n",
    "#单继承\n",
    "class Girl(Person):\n",
    "    pass #占位符\n",
    "class Man(Person):\n",
    "    pass\n",
    "girl = Girl()\n",
    "girl.eat()\n",
    "girl.sleep()\n",
    "man = Man()\n",
    "man.eat()\n",
    "man.sleep()\n",
    "#总结:子类可以继承父类的属性和方法，就算子类自己没有，也可以使用父类的。\n",
    "#继承具有传递性（多重继承）：子类具有父类以及父类的父类的方法和属性"
   ],
   "id": "b0e962a7fc38e16a",
   "outputs": [
    {
     "name": "stdout",
     "output_type": "stream",
     "text": [
      "吃吃吃\n",
      "睡睡睡\n",
      "吃吃吃\n",
      "睡睡睡\n"
     ]
    }
   ],
   "execution_count": 27
  },
  {
   "metadata": {
    "ExecuteTime": {
     "end_time": "2024-12-10T09:15:06.257545Z",
     "start_time": "2024-12-10T09:15:06.248028Z"
    }
   },
   "cell_type": "code",
   "source": [
    "#重写（覆盖）：在子类中定义与父类相同名称的方法覆盖父类方法\n",
    "class Person:\n",
    "    def eat(self):\n",
    "        print('吃吃吃')\n",
    "#单继承\n",
    "class Girl(Person):\n",
    "    def eat(self): #方法的重写\n",
    "        print('吃好的')\n",
    "girl = Girl()\n",
    "girl.eat()"
   ],
   "id": "bf5d5fbbb5a7d398",
   "outputs": [
    {
     "name": "stdout",
     "output_type": "stream",
     "text": [
      "吃好的\n"
     ]
    }
   ],
   "execution_count": 29
  },
  {
   "metadata": {
    "ExecuteTime": {
     "end_time": "2024-12-10T09:20:01.052979Z",
     "start_time": "2024-12-10T09:20:01.048361Z"
    }
   },
   "cell_type": "code",
   "source": [
    "class Person:\n",
    "    def eat(self):\n",
    "        print('吃吃吃')\n",
    "    \n",
    "\n",
    "#单继承\n",
    "class Girl(Person):\n",
    "    def eat(self): #方法的重写\n",
    "        super().eat() #推荐， super类代表父类，是一个特殊的类，super()代表实例化父类对象，super().方法()代表调用父类的方法\n",
    "        #Person.eat(self) #不推荐\n",
    "        #super(Girl,self).eat() #不推荐\n",
    "        print('吃好的')\n",
    "girl = Girl()\n",
    "girl.eat()"
   ],
   "id": "3d641b9a057bf8e2",
   "outputs": [
    {
     "name": "stdout",
     "output_type": "stream",
     "text": [
      "吃吃吃\n",
      "吃好的\n"
     ]
    }
   ],
   "execution_count": 33
  },
  {
   "metadata": {},
   "cell_type": "markdown",
   "source": [
    "#### 新式类和经典类\n",
    "* class A: 或class A(): 是经典类，不继承任何类\n",
    "* class A(object): 是新式类，即括号里面有写类名，继承了object类或者该类的子类都是新式类\n",
    "* object是python3为所有对象提供的基类(顶级父类)，所有类都继承了object一些内置的属性和方法，因此python3中的类都是新式类。python2中才有经典类的说法\n",
    "* 派生类：子类有不同于父类的方法或属性，子类就是派生类，否则不是"
   ],
   "id": "a68d05b64417df87"
  },
  {
   "metadata": {},
   "cell_type": "code",
   "outputs": [],
   "execution_count": null,
   "source": [
    "#经典类\n",
    "class A:\n",
    "    pass\n",
    "class B():\n",
    "    pass\n",
    "#新式类\n",
    "class C(object):\n",
    "    pass"
   ],
   "id": "10708cb5a266faa3"
  },
  {
   "metadata": {
    "ExecuteTime": {
     "end_time": "2024-12-11T01:16:09.583164Z",
     "start_time": "2024-12-11T01:16:09.574140Z"
    }
   },
   "cell_type": "code",
   "source": [
    "#多继承：子类可以拥有多个父类，并且具有所有父类的属性和方法\n",
    "class Father: #父类1\n",
    "    def money(self):\n",
    "        print('赚够1000万')\n",
    "class Mother: #父类2\n",
    "    def money(self):\n",
    "        print('赚够1亿')\n",
    "    def appearance(self):\n",
    "        print('绝世容颜被继承')\n",
    "\n",
    "# 如果多个父类具有同名方法的时候，调用【就近原则】;搜索方法时，会先按照__mro__ 的输出结果，从左往右的顺序查找。\n",
    "class Son(Father, Mother): # 多继承\n",
    "    def money(self):\n",
    "        print('10万')\n",
    "\n",
    "son = Son()\n",
    "son.appearance()\n",
    "son.money()\n",
    "\n",
    "# 方法的搜索顺序(了解) ：python中内置的属性__mro__ 可以查看方法搜索顺序\n",
    "print(Son.__mro__)"
   ],
   "id": "da5266409e050279",
   "outputs": [
    {
     "name": "stdout",
     "output_type": "stream",
     "text": [
      "绝世容颜被继承\n",
      "10万\n",
      "(<class '__main__.Son'>, <class '__main__.Father'>, <class '__main__.Mother'>, <class 'object'>)\n"
     ]
    }
   ],
   "execution_count": 4
  },
  {
   "metadata": {},
   "cell_type": "markdown",
   "source": [
    "### 多态\n",
    "* 前提：继承、重写\n",
    "* 多态性:一种调用方式，不同的执行结果"
   ],
   "id": "3b921eb0a17f194a"
  },
  {
   "metadata": {
    "ExecuteTime": {
     "end_time": "2024-12-11T01:36:20.147713Z",
     "start_time": "2024-12-11T01:36:20.141449Z"
    }
   },
   "cell_type": "code",
   "source": [
    "class Animal(object):\n",
    "    def shout(self):\n",
    "        print('动物会叫')\n",
    "class Dog(Animal):\n",
    "    def shout(self):\n",
    "        print('汪汪汪')\n",
    "class Cat(Animal):\n",
    "    def shout(self):\n",
    "        print('喵喵喵')\n",
    "\n",
    "dog = Dog()\n",
    "dog.shout()\n",
    "cat = Cat()\n",
    "# 同一种shout方法，不同对象调用会有不同的执行结果\n",
    "cat.shout()"
   ],
   "id": "64e3ae26a4834dcb",
   "outputs": [
    {
     "name": "stdout",
     "output_type": "stream",
     "text": [
      "汪汪汪\n",
      "喵喵喵\n"
     ]
    }
   ],
   "execution_count": 5
  },
  {
   "metadata": {},
   "cell_type": "markdown",
   "source": [
    "### 静态方法\n",
    "* 静态方法与类无关，可以被转换成函数使用\n",
    "* 可以使用类和对象访问\n",
    "* 应用场景：当类中不需要实例属性/方法（self.属性）或类属性时，取消不必要的参数传递，有利于减少不必要的内存占用和性能消耗。\n",
    "* 静态方法不需要访问类属性，因为静态方法和类、对象没有关联"
   ],
   "id": "fa0191094b00d4fd"
  },
  {
   "metadata": {
    "ExecuteTime": {
     "end_time": "2024-12-11T02:09:57.876442Z",
     "start_time": "2024-12-11T02:09:57.872869Z"
    }
   },
   "cell_type": "code",
   "source": [
    "class Person:\n",
    "    @staticmethod \n",
    "    def eat(name): # 静态方法\n",
    "        print(f'{name}会吃饭')\n",
    "\n",
    "Person.eat('BOB')\n",
    "\n",
    "person = Person()\n",
    "person.eat('Tom')"
   ],
   "id": "cf1ec979ce5c5637",
   "outputs": [
    {
     "name": "stdout",
     "output_type": "stream",
     "text": [
      "Bob会吃饭\n",
      "Bob会吃饭\n"
     ]
    }
   ],
   "execution_count": 20
  },
  {
   "metadata": {},
   "cell_type": "markdown",
   "source": [
    "### 类方法\n",
    "* 定义：使用装饰器@classmethod来标识为类方法，对于类方法，第一个参数必须是类对象，一般是以cls作为第一个参数\n",
    "* 使用场景：当方法中需要使用到类对象(如访问私有类属性等),定义类方法类方法一般是配合类属性使用\n",
    "* 类方法内部可以访问类属性，或者调用其他的类方法"
   ],
   "id": "a5ab45713144964e"
  },
  {
   "metadata": {
    "ExecuteTime": {
     "end_time": "2024-12-11T02:33:54.916875Z",
     "start_time": "2024-12-11T02:33:54.911889Z"
    }
   },
   "cell_type": "code",
   "source": [
    "class Person:\n",
    "    name = 'Bob' #类属性\n",
    "    __sex ='男' #隐藏类属性\n",
    "    @classmethod\n",
    "    def eat(cls): #类方法\n",
    "        print(cls) #cls 实际上是类对象，类本质上是一个对象\n",
    "        print(f'{cls.name}在吃吃吃，其性别是{cls.__sex}') #使用cls.__sex来访问隐藏类属性，cls.__sex等价与Person.__sex\n",
    "\n",
    "Person.eat() #Person类自动传入eat（）方法，作为形参cls的实参\n",
    "\n",
    "person = Person()\n",
    "person.eat()"
   ],
   "id": "cf3c0e04e045ced5",
   "outputs": [
    {
     "name": "stdout",
     "output_type": "stream",
     "text": [
      "<class '__main__.Person'>\n",
      "Bob在吃吃吃，其性别是男\n",
      "<class '__main__.Person'>\n",
      "Bob在吃吃吃，其性别是男\n"
     ]
    }
   ],
   "execution_count": 21
  },
  {
   "metadata": {},
   "cell_type": "markdown",
   "source": [
    "#### 总结\n",
    "1. 实例方法：方法的第一个参数必须是self,可以访问实例属性（self.属性）和类属性（类.属性）\n",
    "2. 静态方法：不需要访问实例属性或类属性。方法的参数没有要求，如果需要可以访问类属性（类.属性），【不能访问实例属性】\n",
    "3. 类方法：方法的第一个参数必须是cls,可以访问类属性（cls.类属性），【不可以访问实例属性】"
   ],
   "id": "555ef10c81cc9cac"
  },
  {
   "metadata": {},
   "cell_type": "markdown",
   "source": [
    "### 单例模式\n",
    "* \\__new__方法：object基类提供的内置的静态方法 。作用：1.在内存中为对象分配空间 2.返回对象的引用\n",
    "* \\__init__方法：初始化对象"
   ],
   "id": "790f9553779a3f31"
  },
  {
   "metadata": {
    "ExecuteTime": {
     "end_time": "2024-12-11T03:04:05.980273Z",
     "start_time": "2024-12-11T03:04:05.970489Z"
    }
   },
   "cell_type": "code",
   "source": [
    "class Person(object):\n",
    "    def __new__(cls, name, age, height): #先执行\n",
    "        print(f'我是new()方法，参数是：{name},{age},{height}')\n",
    "        print(cls)\n",
    "        return super().__new__(cls) #__new__方法需要传递cls参数，所有它是静态方法，因为类方法的cls参数是自动传递的，不需要写\n",
    "        \n",
    "    def __init__(self, name, age, height): #后执行\n",
    "        print('我是init()方法')\n",
    "        print(self) #self接收是__new__方法return过来的对象引用\n",
    "        self.name = name\n",
    "        self.age = age\n",
    "        self.height = height\n",
    "        \n",
    "\n",
    "person = Person('bob',19,170)\n",
    "print(f'我是：{person}')\n",
    "\n",
    "person2 = Person('alice',18,190)\n",
    "print(f'我是：{person2}')"
   ],
   "id": "3c36369584f124eb",
   "outputs": [
    {
     "name": "stdout",
     "output_type": "stream",
     "text": [
      "我是new()方法，参数是：bob,19,170\n",
      "<class '__main__.Person'>\n",
      "我是init()方法\n",
      "<__main__.Person object at 0x000002B1869A5580>\n",
      "我是：<__main__.Person object at 0x000002B1869A5580>\n",
      "我是new()方法，参数是：alice,18,190\n",
      "<class '__main__.Person'>\n",
      "我是init()方法\n",
      "<__main__.Person object at 0x000002B186ADFF80>\n",
      "我是：<__main__.Person object at 0x000002B186ADFF80>\n"
     ]
    }
   ],
   "execution_count": 39
  },
  {
   "metadata": {},
   "cell_type": "markdown",
   "source": [
    "#### 总结: \\_\\_init__()和__new__()\n",
    "1. \\_\\_new__()是创建对象，\\_\\_init__()是初始化对象\n",
    "2. \\_\\_new__()是返回对象引用，\\_\\_init__()定义实例属性\n",
    "3. \\_\\_new__()是类级别的方法，\\_\\_init__()是实例级别的方法"
   ],
   "id": "f52bbc4d8d107698"
  },
  {
   "metadata": {},
   "cell_type": "markdown",
   "source": [
    "#### 单例模式\n",
    "* 含义: 确保某一个类只有一个实例存在。\n",
    "* 使用场景：当你希望在整个系统中，某个类只能出现一个实例时，单例模式就能派上用场。\n",
    "* 优点:可以节省内存空间，减少了不必要的资源浪费\n",
    "* 弊端:多线程访问的时候容易引发线程安全问题\n",
    "* 实现：重新__new__()方法或模块导入"
   ],
   "id": "737f1e293c2623f1"
  },
  {
   "metadata": {
    "ExecuteTime": {
     "end_time": "2024-12-11T06:11:03.384251Z",
     "start_time": "2024-12-11T06:11:03.378453Z"
    }
   },
   "cell_type": "code",
   "source": [
    "class Person(object):\n",
    "    obj = None\n",
    "    def __new__(cls,name):\n",
    "        if cls.obj is None: #单例模式\n",
    "            cls.obj = super().__new__(cls)\n",
    "        return cls.obj\n",
    "    def __init__(self, name):\n",
    "        self.name = name\n",
    "person = Person('bob')\n",
    "print(person)\n",
    "\n",
    "person2 = Person('alice')\n",
    "print(person2)"
   ],
   "id": "6b748551fecc11c8",
   "outputs": [
    {
     "name": "stdout",
     "output_type": "stream",
     "text": [
      "<__main__.Person object at 0x000002B186A9AAB0>\n",
      "<__main__.Person object at 0x000002B186A9AAB0>\n"
     ]
    }
   ],
   "execution_count": 41
  },
  {
   "metadata": {},
   "cell_type": "markdown",
   "source": [
    "### 魔法方法或属性\n",
    "* 类似__xxx__()的方法是魔法方法，\\_\\_xxx__是魔法方法。一般具有特殊功能"
   ],
   "id": "a7417a6d95c0d0ca"
  },
  {
   "metadata": {
    "ExecuteTime": {
     "end_time": "2024-12-11T06:46:45.446603Z",
     "start_time": "2024-12-11T06:46:45.437689Z"
    }
   },
   "cell_type": "code",
   "source": [
    "#1. __doc__ 表示类的描述信息(即在类里面用多行注释写的信息)\n",
    "class Person(object):\n",
    "    '''人类-类的描述信息'''\n",
    "    def __str__(self):\n",
    "        return '哈哈哈'\n",
    "    def __call__(self):\n",
    "        print(f'call()哈哈哈')\n",
    "print(Person.__doc__)\n",
    "#2. __module__ 表示当前操作对象所在的模块\n",
    "#3. __class__表示当前操作对象所在的类\n",
    "\n",
    "#4. __str__() 如果类中定义了此方法，那么在打印对象时，默认输出该方法的返回值，也就是打印方法中return的数据\n",
    "#__str__() 必须返回一个字符串\n",
    "person = Person()\n",
    "print(person)\n",
    "print(person.__str__())\n",
    "#5. __call__ () 使一个实例对象称成为一个可调用对象,就像函数那样可以调用 \n",
    "# 可调用对象:函数\\内置函数和类都是可调用对象,凡是可以把一对()应用到某个对象身上都可以称之为可调用对象\n",
    "# callable():判断一个对象是否是可:调用对象\n",
    "def fun():\n",
    "    print('fun()方法')\n",
    "a = 10\n",
    "print(callable(fun)) #函数是可调用对象\n",
    "print(callable(a)) #变量不是可调用对象\n",
    "print(callable(Person)) #类是可调用对象\n",
    "print(callable(person)) #对象是（不是）可调用对象\n",
    "person() #调用可调用对象，实际上调用其类中的__call__()方法"
   ],
   "id": "be846019577a1826",
   "outputs": [
    {
     "name": "stdout",
     "output_type": "stream",
     "text": [
      "人类-类的描述信息\n",
      "哈哈哈\n",
      "哈哈哈\n",
      "True\n",
      "False\n",
      "True\n",
      "True\n",
      "call()哈哈哈\n"
     ]
    }
   ],
   "execution_count": 59
  }
 ],
 "metadata": {
  "kernelspec": {
   "display_name": "Python 3",
   "language": "python",
   "name": "python3"
  },
  "language_info": {
   "codemirror_mode": {
    "name": "ipython",
    "version": 2
   },
   "file_extension": ".py",
   "mimetype": "text/x-python",
   "name": "python",
   "nbconvert_exporter": "python",
   "pygments_lexer": "ipython2",
   "version": "2.7.6"
  }
 },
 "nbformat": 4,
 "nbformat_minor": 5
}
