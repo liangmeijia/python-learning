{
 "cells": [
  {
   "metadata": {},
   "cell_type": "markdown",
   "source": [
    "### 文件的操作  \n",
    "打开文件--->读、写文件 ---> 关闭文件\n",
    "### 文件对象的方法\n",
    "1. open():创建一个file对象，默认是以只读模式打开\n",
    "2. read(n):n表示从文件中读取的数据的长度，没有传n值就默认一次性读取文件的所有内容将指定内容写入文件\n",
    "3. write():\n",
    "4. close():关闭文件\n",
    "### 文件对象的属性\n",
    "1. 文件名.name:返回要打开的文件的文件名，可以包含文件的具体路径\n",
    "2. 文件名.mode:返回文件的访问模式\n",
    "3. 文件名.closed:检测文件是否关闭，关闭就返回True"
   ],
   "id": "6934ef994696b47b"
  },
  {
   "metadata": {},
   "cell_type": "markdown",
   "source": "#### 文件的打开和关闭",
   "id": "b64be2265afa0533"
  },
  {
   "metadata": {
    "ExecuteTime": {
     "end_time": "2024-12-12T01:38:47.533921Z",
     "start_time": "2024-12-12T01:38:47.527899Z"
    }
   },
   "cell_type": "code",
   "source": [
    "# 文件的打开\n",
    "file = open('../../mypackage/my_file.txt')\n",
    "print(file.name)\n",
    "print(file.mode)\n",
    "print(file.closed)\n",
    "# 文件的关闭（用了open()方法打开文件，必须用close()方法关闭）\n",
    "file.close()"
   ],
   "id": "7caf7abf3e556aac",
   "outputs": [
    {
     "name": "stdout",
     "output_type": "stream",
     "text": [
      "../../mypackage/my_file.txt\n",
      "r\n",
      "False\n"
     ]
    }
   ],
   "execution_count": 14
  },
  {
   "metadata": {},
   "cell_type": "markdown",
   "source": [
    "\n",
    "#### 文件的读\n",
    "* read(n):n表示从文件中读取的数据的长度，没有传n值或者传的是负值就默认一次性读取文件的所有内容\n",
    "* readline():一次读取一行内容，方法执行完，会把文件指针移到下一行，准备再次读取\n",
    "* readlines():按照行的方式把文件内容一次性读取，返回的是一个列表，每一行的数据就是列表中的一个元素"
   ],
   "id": "a5dcf40151c8da0f"
  },
  {
   "metadata": {
    "ExecuteTime": {
     "end_time": "2024-12-12T01:36:09.060348Z",
     "start_time": "2024-12-12T01:36:09.056011Z"
    }
   },
   "cell_type": "code",
   "source": [
    "file = open('../../mypackage/my_file.txt',encoding='utf-8')\n",
    "print(file.read())\n",
    "print(file.read(-1))\n",
    "print(file.read(5))\n",
    "file.close()"
   ],
   "id": "28950560c0b5ae37",
   "outputs": [
    {
     "name": "stdout",
     "output_type": "stream",
     "text": [
      "我喜欢的花\n"
     ]
    }
   ],
   "execution_count": 13
  },
  {
   "metadata": {
    "ExecuteTime": {
     "end_time": "2024-12-12T01:44:58.732148Z",
     "start_time": "2024-12-12T01:44:58.726744Z"
    }
   },
   "cell_type": "code",
   "source": [
    "file = open('../../mypackage/my_file.txt',encoding='utf-8')\n",
    "while True:\n",
    "    line = file.readline() # 读一行\n",
    "    if not line:\n",
    "        break\n",
    "    print(line)\n",
    "file.close()"
   ],
   "id": "29cf5c751a94621",
   "outputs": [
    {
     "name": "stdout",
     "output_type": "stream",
     "text": [
      "我喜欢的花是玫瑰花\n",
      "\n",
      "我喜欢的颜色是黄色\n",
      "\n",
      "我喜欢看搞笑的片子\n",
      "\n",
      "who am i ?\n",
      "\n"
     ]
    }
   ],
   "execution_count": 16
  },
  {
   "metadata": {
    "ExecuteTime": {
     "end_time": "2024-12-12T01:51:50.033724Z",
     "start_time": "2024-12-12T01:51:50.029367Z"
    }
   },
   "cell_type": "code",
   "source": [
    "file = open('../../mypackage/my_file.txt',encoding='utf-8')\n",
    "lines = file.readlines()\n",
    "print(lines)\n",
    "for line in lines:\n",
    "    print(line)\n",
    "file.close()"
   ],
   "id": "882915b8966a41a7",
   "outputs": [
    {
     "name": "stdout",
     "output_type": "stream",
     "text": [
      "['我喜欢的花是玫瑰花\\n', '我喜欢的颜色是黄色\\n', '我喜欢看搞笑的片子\\n', 'who am i ?\\n']\n",
      "我喜欢的花是玫瑰花\n",
      "\n",
      "我喜欢的颜色是黄色\n",
      "\n",
      "我喜欢看搞笑的片子\n",
      "\n",
      "who am i ?\n",
      "\n"
     ]
    }
   ],
   "execution_count": 18
  },
  {
   "metadata": {},
   "cell_type": "markdown",
   "source": [
    "### 文件的访问模式\n",
    "* 模式 操作   文件不存在 是否覆盖\n",
    "* r  只能读     报错     -     （open方法默认的访问模式）\n",
    "* r+ 可读可写   报错     是\n",
    "* w  只能写     创建     是\n",
    "* w+ 先写后读   创建     是    \n",
    "* a  只能写     创建   否，追加\n",
    "* a+ 可读可写   创建    否，追加"
   ],
   "id": "33cf52844bbc1aae"
  },
  {
   "metadata": {
    "ExecuteTime": {
     "end_time": "2024-12-12T03:16:07.387379Z",
     "start_time": "2024-12-12T03:16:07.383825Z"
    }
   },
   "cell_type": "code",
   "source": [
    "#文件指针:标记从哪个位置开始读取数据\n",
    "file = open('../../mypackage/my_file.txt',encoding='utf-8',mode='r') #默认的访问模式\n",
    "print(file.read())\n",
    "# file.write('我喜欢去游泳') # UnsupportedOperation: not writable\n",
    "file.close()"
   ],
   "id": "fabcc662420c2ae5",
   "outputs": [
    {
     "name": "stdout",
     "output_type": "stream",
     "text": [
      "我是小丑\n"
     ]
    }
   ],
   "execution_count": 65
  },
  {
   "metadata": {
    "ExecuteTime": {
     "end_time": "2024-12-12T02:32:06.036574Z",
     "start_time": "2024-12-12T02:32:06.033089Z"
    }
   },
   "cell_type": "code",
   "source": [
    "file = open('../../mypackage/my_file.txt',encoding='utf-8',mode='w') #默认的访问模式 只读\n",
    "#print(file.read()) #UnsupportedOperation: not readable\n",
    "file.write('我喜欢去游泳')\n",
    "file.close()"
   ],
   "id": "a4e619f8d5ce54c7",
   "outputs": [],
   "execution_count": 37
  },
  {
   "metadata": {
    "ExecuteTime": {
     "end_time": "2024-12-12T02:36:11.870271Z",
     "start_time": "2024-12-12T02:36:11.864733Z"
    }
   },
   "cell_type": "code",
   "source": [
    "file = open('../../mypackage/my_file.txt',encoding='utf-8',mode='w+') #覆盖写+读\n",
    "file.write('我喜欢去跳舞') #会先清空原文件，再写\n",
    "print(file.read()) #读不出来？？？\n",
    "file.close()"
   ],
   "id": "510e07631f21e3c",
   "outputs": [
    {
     "name": "stdout",
     "output_type": "stream",
     "text": [
      "\n"
     ]
    }
   ],
   "execution_count": 43
  },
  {
   "metadata": {
    "ExecuteTime": {
     "end_time": "2024-12-12T02:54:55.620921Z",
     "start_time": "2024-12-12T02:54:55.616121Z"
    }
   },
   "cell_type": "code",
   "source": [
    "file = open('../../mypackage/my_file.txt',encoding='utf-8',mode='a+') #追加写+读\n",
    "file.write('我喜欢去吃螺蛳粉') #不会先清空原文件，追加写\n",
    "print(file.read()) #读不出来？？？\n",
    "file.close()"
   ],
   "id": "c6814cd8ee0a0d71",
   "outputs": [
    {
     "name": "stdout",
     "output_type": "stream",
     "text": [
      "42\n",
      "0\n",
      "我喜欢去跳舞我喜欢去吃螺蛳粉\n"
     ]
    }
   ],
   "execution_count": 56
  },
  {
   "metadata": {},
   "cell_type": "markdown",
   "source": [
    "#### 文件的光标位置\n",
    "* tell() 文件光标的当前位置\n",
    "* seek(offset,whence) 移动文件光标位置。 offset是偏移量，是移动的字节数量；whence是起始位置，是移动光标的参考位置，0代表文件的开头位置，2代表文件的末尾位置，1代表文件光标的当前位置"
   ],
   "id": "21456f260e0ac80f"
  },
  {
   "metadata": {
    "ExecuteTime": {
     "end_time": "2024-12-12T02:55:55.999012Z",
     "start_time": "2024-12-12T02:55:55.985062Z"
    }
   },
   "cell_type": "code",
   "source": [
    "file = open('../../mypackage/my_file.txt',encoding='utf-8',mode='w+') #覆盖写+读\n",
    "file.write('我喜欢去跳舞') #会先清空原文件，再写\n",
    "print(file.read()) #读不出来？？？\n",
    "\n",
    "# 解决读不出的问题\n",
    "print(file.tell())\n",
    "#移动文件光标至文件开头\n",
    "file.seek(0,0)\n",
    "print(file.tell())\n",
    "\n",
    "print(file.read())\n",
    "file.close()"
   ],
   "id": "79e8e282b1e1845",
   "outputs": [
    {
     "name": "stdout",
     "output_type": "stream",
     "text": [
      "0\n",
      "0\n",
      "\n"
     ]
    }
   ],
   "execution_count": 59
  },
  {
   "metadata": {},
   "cell_type": "markdown",
   "source": [
    "### with open语句\n",
    "* 作用:代码执行完，系统会自动调用f.close(),可以省略文件关闭步骤"
   ],
   "id": "de393b01d17da725"
  },
  {
   "metadata": {
    "ExecuteTime": {
     "end_time": "2024-12-12T03:03:56.987558Z",
     "start_time": "2024-12-12T03:03:56.983257Z"
    }
   },
   "cell_type": "code",
   "source": [
    "with open('../../mypackage/my_file.txt',encoding='utf-8',mode='w+') as f:\n",
    "    f.write('我是小丑')\n",
    "    print(f.tell())\n",
    "print(f.closed)"
   ],
   "id": "7a1dd8fa442f4fb1",
   "outputs": [
    {
     "name": "stdout",
     "output_type": "stream",
     "text": [
      "12\n",
      "True\n"
     ]
    }
   ],
   "execution_count": 63
  },
  {
   "metadata": {},
   "cell_type": "markdown",
   "source": [
    "### 文件的编码\n",
    "* file对象的编码格式与操作系统有关，win默认是GBK，Linux默认是UTF-8"
   ],
   "id": "1e18a6b1c2bcb355"
  },
  {
   "metadata": {
    "ExecuteTime": {
     "end_time": "2024-12-12T03:19:46.395161Z",
     "start_time": "2024-12-12T03:19:46.391114Z"
    }
   },
   "cell_type": "code",
   "source": [
    "with open('../../mypackage/my_file.txt',encoding='utf-8',mode='w') as f:\n",
    "    f.write('我是中国人 我说汉语 但我也会说英语')"
   ],
   "id": "75a4b8795b304032",
   "outputs": [],
   "execution_count": 70
  },
  {
   "metadata": {
    "ExecuteTime": {
     "end_time": "2024-12-12T03:20:02.683032Z",
     "start_time": "2024-12-12T03:20:02.678463Z"
    }
   },
   "cell_type": "code",
   "source": [
    "with open('../../mypackage/my_file.txt',encoding='utf-8',mode='r') as f:\n",
    "    print(f.read())"
   ],
   "id": "f58d2b1478024f67",
   "outputs": [
    {
     "name": "stdout",
     "output_type": "stream",
     "text": [
      "我是中国人 我说汉语 但我也会说英语\n"
     ]
    }
   ],
   "execution_count": 71
  },
  {
   "metadata": {},
   "cell_type": "markdown",
   "source": [
    "#### 案例：读取二进制文件\n",
    "* 图片的复制"
   ],
   "id": "10684505ddbcae73"
  },
  {
   "metadata": {
    "ExecuteTime": {
     "end_time": "2024-12-12T06:18:32.271263Z",
     "start_time": "2024-12-12T06:18:32.265405Z"
    }
   },
   "cell_type": "code",
   "source": [
    "with open(r'C:\\Users\\LENOVO\\Pictures\\Camera Roll\\微信图片_20241018151807.jpg',mode='rb') as f:\n",
    "    img = f.read()\n",
    "    # print(img)\n",
    "with open(r'D:\\code\\python\\python-learning\\mypackage\\图片.jpg',mode='wb') as f:\n",
    "    f.write(img)"
   ],
   "id": "22af9f7e3a1c1dac",
   "outputs": [],
   "execution_count": 3
  },
  {
   "metadata": {},
   "cell_type": "markdown",
   "source": [
    "### 文件目录常用操作\n",
    "* 文件重命名 os.rename(旧文件名,新文件名)\n",
    "* 删除文件 os.remove(文件名)\n",
    "* 创建文件夹 os.mkdir()\n",
    "* 删除文件夹 os.rmdir()\n",
    "* 获取当前目录 os.getcwd()\n",
    "* 获取目录列表 os.listdir()"
   ],
   "id": "6a5b69a307fe1560"
  },
  {
   "metadata": {
    "ExecuteTime": {
     "end_time": "2024-12-12T06:24:07.820920Z",
     "start_time": "2024-12-12T06:24:07.816445Z"
    }
   },
   "cell_type": "code",
   "source": [
    "import os \n",
    "os.rename('../../mypackage/file.txt','../../mypackage/my_file.txt')"
   ],
   "id": "856a1da0e143e082",
   "outputs": [],
   "execution_count": 5
  },
  {
   "metadata": {
    "ExecuteTime": {
     "end_time": "2024-12-12T06:28:15.989915Z",
     "start_time": "2024-12-12T06:28:15.984214Z"
    }
   },
   "cell_type": "code",
   "source": "os.remove('../../mypackage/my_file.txt')",
   "id": "5f16bf5407226cc7",
   "outputs": [],
   "execution_count": 6
  },
  {
   "metadata": {
    "ExecuteTime": {
     "end_time": "2024-12-12T06:28:34.760029Z",
     "start_time": "2024-12-12T06:28:34.755938Z"
    }
   },
   "cell_type": "code",
   "source": "os.mkdir('test')",
   "id": "1eced7043f656d05",
   "outputs": [],
   "execution_count": 7
  },
  {
   "metadata": {
    "ExecuteTime": {
     "end_time": "2024-12-12T06:28:45.527393Z",
     "start_time": "2024-12-12T06:28:45.518812Z"
    }
   },
   "cell_type": "code",
   "source": "os.rmdir('test')",
   "id": "79bced6f825bbee8",
   "outputs": [],
   "execution_count": 8
  },
  {
   "metadata": {
    "ExecuteTime": {
     "end_time": "2024-12-12T06:29:01.457949Z",
     "start_time": "2024-12-12T06:29:01.440992Z"
    }
   },
   "cell_type": "code",
   "source": "os.getcwd()",
   "id": "e7b77648436d0118",
   "outputs": [
    {
     "data": {
      "text/plain": [
       "'D:\\\\code\\\\python\\\\python-learning\\\\python\\\\进阶'"
      ]
     },
     "execution_count": 9,
     "metadata": {},
     "output_type": "execute_result"
    }
   ],
   "execution_count": 9
  },
  {
   "metadata": {
    "ExecuteTime": {
     "end_time": "2024-12-12T06:29:16.820871Z",
     "start_time": "2024-12-12T06:29:16.813402Z"
    }
   },
   "cell_type": "code",
   "source": "os.listdir()",
   "id": "8ec85fef20ccd28c",
   "outputs": [
    {
     "data": {
      "text/plain": [
       "['01.异常.ipynb',\n",
       " '02.模块和包.ipynb',\n",
       " '03.闭包和装饰器.ipynb',\n",
       " '04.面向对象.ipynb',\n",
       " '05.文件操作.ipynb.tmp',\n",
       " '05.文件操作.ipynb~',\n",
       " '__pycache__']"
      ]
     },
     "execution_count": 10,
     "metadata": {},
     "output_type": "execute_result"
    }
   ],
   "execution_count": 10
  }
 ],
 "metadata": {
  "kernelspec": {
   "display_name": "Python 3",
   "language": "python",
   "name": "python3"
  },
  "language_info": {
   "codemirror_mode": {
    "name": "ipython",
    "version": 2
   },
   "file_extension": ".py",
   "mimetype": "text/x-python",
   "name": "python",
   "nbconvert_exporter": "python",
   "pygments_lexer": "ipython2",
   "version": "2.7.6"
  }
 },
 "nbformat": 4,
 "nbformat_minor": 5
}
