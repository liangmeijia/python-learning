{
 "cells": [
  {
   "metadata": {},
   "cell_type": "markdown",
   "source": [
    "## 模块\n",
    "**定义**\n",
    "* 就是.py文件，里面定义了一些函数、变量和类，需要的时候就可以导入这些模块。\n",
    "\n",
    "**好处**\n",
    "* 提高可维护性可重用避免函数名和变量名冲突\n",
    "\n",
    "**分类**\n",
    "* 内置模块\n",
    "* 第三方模块\n",
    "* 自定义模块\n",
    "\n",
    "**导入**\n",
    "* import 模块名 (as 别名)\n",
    "* from 模块名 import 函数1(属性1),函数2(属性2)...\n",
    "* from 模块名 import * ，其中*表示导入所有\n",
    "* 注意：\n",
    "* 导入模块的同时会将原模块对应的.py文件进行执行包括书写的运行代码\n",
    "\n",
    "**py文件的两种功能**\n",
    "* 脚本：一个文件就是整个程序，直接运行;\\_\\_name__ ==’\\_\\_main__ ’表示代码是直接在当前文件里运行\n",
    "* 模块：作为模块导入其它文件执行;作为模块导入时，\\_\\_name__==模块名(没有.py后缀)\n"
   ],
   "id": "ec038925bd2a57a8"
  },
  {
   "metadata": {},
   "cell_type": "markdown",
   "source": [
    "## 包\n",
    "* 概念:包就是项目结构中的文件夹/目录，包含有__init__.py文件的文件夹\n",
    "* 作用:包用于将不同的模块进行分类管理，包本身不具有具体的含义，仅用于文件分层管理\n",
    "\n",
    "**导入**\n",
    "* import 包名 (as 别名)\n",
    "* from 包 import 模块\n",
    "* 当包被作为模块导入时，包目录下会生成一个__pycache__的文件夹\n",
    "* 当包被作为模块导入时，\\_\\_init__.py 文件中的代码会被自动执行"
   ],
   "id": "aaa841240e4fba5f"
  },
  {
   "metadata": {},
   "cell_type": "markdown",
   "source": [
    "## \\__init__.py文件 ##\n",
    "* 作用：\\__init__.py文件并不是用来定义程序单元的，而是用于导入包内模块的成员，这样即可把模块中的成员导入变成包内的成员，方便使用\n",
    "* 注意:\n",
    "* from 包 import 模块 ，导入的模块必须明确不能带点，否则有语法语法.即from后面可以有. 但import后面不能有\n",
    "* 可以在 \\__init\\__.py 文件中使用 \\__all\\__ 列表来定义包的公共接口，即当使用 from package import * 时，哪些子模块会被导入。"
   ],
   "id": "15b78ddaedbf70a4"
  }
 ],
 "metadata": {
  "kernelspec": {
   "display_name": "Python 3",
   "language": "python",
   "name": "python3"
  },
  "language_info": {
   "codemirror_mode": {
    "name": "ipython",
    "version": 2
   },
   "file_extension": ".py",
   "mimetype": "text/x-python",
   "name": "python",
   "nbconvert_exporter": "python",
   "pygments_lexer": "ipython2",
   "version": "2.7.6"
  }
 },
 "nbformat": 4,
 "nbformat_minor": 5
}
