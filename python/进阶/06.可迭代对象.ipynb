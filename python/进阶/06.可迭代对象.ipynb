{
 "cells": [
  {
   "metadata": {},
   "cell_type": "markdown",
   "source": [
    "### 可迭代对象 Iterable\n",
    "* 成立的条件：1.对象实现了__iter__()方法; 2.\\__iter__()方法返回了迭代器对象\n",
    "### 迭代器对象 Iterator\n",
    "* 是一个可以记住遍历位置的对象\n",
    "### 可迭代对象和迭代器的区别和联系\n",
    "* Iterable一定有__iter__()方法\n",
    "* Iterator一定有__iter__()和__next__()方法\n",
    "* Iterator一定是Iterable，Iterable不一定是Iterator\n",
    "### 遍历(迭代)\n",
    "* 依次从对象中把一个个元素取出来的过程\n",
    "### for循环工作原理\n",
    "* 先通过__iter__()获取[可迭代对象]的[迭代器对象]\n",
    "* 对获取到的迭代器对象不断调用其__next__()方法来获取下一个值并将其赋值给临时变量i\n",
    "### isinstance(o,t):\n",
    "* 判断一个对象o 是否是可迭代对象或者是一个已知的数据类型 t\n",
    "* o:对象，t:类型，可以是直接或者间接类名、基本类型或者元组\n",
    "\n",
    "**tips**\n",
    "* 可迭代的数据类型:str、list、tuple、dict、set等\n",
    "* 不可迭代的数据类型：数值类型\n",
    "* it1 = iter(对象) 实际上是调用对象的__iter__()方法,并返回其迭代器\n",
    "* next(it1) 实际上是调用迭代器it1的__next__()方法，来获取下一个值\n",
    "* 迭代器协议：对象必须提供个__next__()方法，执行该方法要么就返回迭代中的一项，要么就引发StopIteration异常，来终止迭代\n",
    "* dir(对象) 可以查看对象内的所有属性和方法"
   ],
   "id": "1894031dc6ffa73c"
  },
  {
   "metadata": {
    "ExecuteTime": {
     "end_time": "2024-12-12T06:56:46.423307Z",
     "start_time": "2024-12-12T06:56:46.413259Z"
    }
   },
   "cell_type": "code",
   "source": [
    "#判断123是否是int类型\n",
    "print(isinstance(123, int))\n",
    "from collections.abc import Iterable\n",
    "#判断123是否是可迭代对象\n",
    "print(isinstance(123, Iterable))"
   ],
   "id": "3a2eb23988ae460e",
   "outputs": [
    {
     "name": "stdout",
     "output_type": "stream",
     "text": [
      "True\n",
      "False\n"
     ]
    }
   ],
   "execution_count": 3
  },
  {
   "metadata": {
    "ExecuteTime": {
     "end_time": "2024-12-12T07:43:09.424669Z",
     "start_time": "2024-12-12T07:43:09.406998Z"
    }
   },
   "cell_type": "code",
   "source": [
    "l = [1, 2, 3]\n",
    "for i in l:\n",
    "    print(i)"
   ],
   "id": "db1ff2a1ff823f5e",
   "outputs": [
    {
     "name": "stdout",
     "output_type": "stream",
     "text": [
      "1\n",
      "2\n",
      "3\n"
     ]
    }
   ],
   "execution_count": 4
  },
  {
   "metadata": {
    "ExecuteTime": {
     "end_time": "2024-12-12T07:44:50.596699Z",
     "start_time": "2024-12-12T07:44:50.593055Z"
    }
   },
   "cell_type": "code",
   "source": [
    "l = [1, 2, 3, 4, 5]\n",
    "# li = iter(l) 实际上就是调用l的魔法方法__iter__()\n",
    "li = l.__iter__()\n",
    "\n",
    "print(next(li))\n",
    "print(next(li))\n",
    "print(next(li))\n",
    "print(next(li))\n",
    "print(next(li))\n",
    "# print(next(li))"
   ],
   "id": "85dda856a4136c85",
   "outputs": [
    {
     "name": "stdout",
     "output_type": "stream",
     "text": [
      "1\n",
      "2\n",
      "3\n",
      "4\n",
      "5\n"
     ]
    }
   ],
   "execution_count": 9
  },
  {
   "metadata": {},
   "cell_type": "markdown",
   "source": "### 自定义迭代器",
   "id": "25b37ce59143521d"
  },
  {
   "metadata": {
    "ExecuteTime": {
     "end_time": "2024-12-12T08:00:18.704403Z",
     "start_time": "2024-12-12T08:00:18.699229Z"
    }
   },
   "cell_type": "code",
   "source": [
    "class MyIterator(object):\n",
    "    def __init__(self):\n",
    "        self.position = -1\n",
    "    def __iter__(self):\n",
    "        return self #返回迭代器对象，即本身\n",
    "    def __next__(self): #\n",
    "        if self.position == 10:\n",
    "            raise StopIteration\n",
    "        self.position += 1\n",
    "        return self.position\n",
    "#实例化迭代器对象\n",
    "myiter = MyIterator()\n",
    "#for循环遍历迭代器\n",
    "for i in myiter:\n",
    "    print(i)"
   ],
   "id": "e6ba60d459b80f78",
   "outputs": [
    {
     "name": "stdout",
     "output_type": "stream",
     "text": [
      "0\n",
      "1\n",
      "2\n",
      "3\n",
      "4\n",
      "5\n",
      "6\n",
      "7\n",
      "8\n",
      "9\n",
      "10\n"
     ]
    }
   ],
   "execution_count": 12
  },
  {
   "metadata": {},
   "cell_type": "markdown",
   "source": [
    "### 生成器\n",
    "* Python中一边循环一边计算的机制，叫做生成器\n",
    "* 定义方式：生成器表达式；生成器函数\n",
    "* 生成器实际上就是一种特殊的迭代器，是python提供的一种更简洁的语法来生成迭代器\n",
    "* 相比列表将所有数据加载带内存，生成器是边推到边加载到内存"
   ],
   "id": "57cd0696db8f9202"
  },
  {
   "metadata": {
    "ExecuteTime": {
     "end_time": "2024-12-12T08:15:14.876279Z",
     "start_time": "2024-12-12T08:15:14.871954Z"
    }
   },
   "cell_type": "code",
   "source": [
    "#生成器表达式\n",
    "generator_my = (2*i for i in range(10)) #列表推导式的[]中括号改为小括号()\n",
    "print(generator_my)\n",
    "print(next(generator_my)) #按需要加载数据"
   ],
   "id": "944355f3d81d47a0",
   "outputs": [
    {
     "name": "stdout",
     "output_type": "stream",
     "text": [
      "<generator object <genexpr> at 0x000001DA5C3D97D0>\n"
     ]
    }
   ],
   "execution_count": 16
  },
  {
   "metadata": {
    "ExecuteTime": {
     "end_time": "2024-12-12T08:37:28.460299Z",
     "start_time": "2024-12-12T08:37:28.456385Z"
    }
   },
   "cell_type": "code",
   "source": [
    "#生成器函数：有yield关键字的函数就是生成器函数\n",
    "# yield类似return,将指定值或者多个值返回给调用者\n",
    "# yield语句一次返回一个结果，在每个结果中间，挂起函数，执行next(),再重新从挂起点继续往下执行\n",
    "def gen():\n",
    "    yield 1 #返回一个1,并暂停函数，在此处挂起，下一次再从此处恢复运行\n",
    "    yield 2\n",
    "    yield 3\n",
    "    yield 4\n",
    "g = gen() #调用函数实际上返回的是生成器对象\n",
    "print(g)\n",
    "print(next(g))\n",
    "print(next(g))"
   ],
   "id": "232e3baf437fd10c",
   "outputs": [
    {
     "name": "stdout",
     "output_type": "stream",
     "text": [
      "<generator object gen at 0x000001DA5C3AA820>\n",
      "1\n",
      "2\n"
     ]
    }
   ],
   "execution_count": 21
  },
  {
   "metadata": {
    "ExecuteTime": {
     "end_time": "2024-12-12T08:46:32.899058Z",
     "start_time": "2024-12-12T08:46:32.895600Z"
    }
   },
   "cell_type": "code",
   "source": [
    "def gen1(n):\n",
    "    li =[]\n",
    "    for i in range(n):\n",
    "        li.append(i)\n",
    "        print(li)\n",
    "        yield i\n",
    "g1 = gen1(5) \n",
    "for i in g1: #使用for循环遍历生成器，其实就是调用生成器的__next__()方法\n",
    "    print(i)"
   ],
   "id": "240b3f69f841a93b",
   "outputs": [
    {
     "name": "stdout",
     "output_type": "stream",
     "text": [
      "[0]\n",
      "0\n",
      "[0, 1]\n",
      "1\n",
      "[0, 1, 2]\n",
      "2\n",
      "[0, 1, 2, 3]\n",
      "3\n",
      "[0, 1, 2, 3, 4]\n",
      "4\n"
     ]
    }
   ],
   "execution_count": 26
  },
  {
   "metadata": {},
   "cell_type": "markdown",
   "source": [
    "* 可迭代对象：实现了python迭代协议，可以通过for .. in..循环遍历的对象，比如list、dict、str...、迭代器、生成器\n",
    "* 迭代器：可以记住自己遍历位置的对象，直观体现就是可以使用next()函数返回值，迭代器只能往前，不能往后，当遍历完毕之后，next()会抛出异常\n",
    "* 生成器：是特殊的迭代器，需要注意迭代器并不一定是生成器，它是python提供的通过简便的方法写出迭代器的一种手段"
   ],
   "id": "41373c61e6eaec4f"
  }
 ],
 "metadata": {
  "kernelspec": {
   "display_name": "Python 3",
   "language": "python",
   "name": "python3"
  },
  "language_info": {
   "codemirror_mode": {
    "name": "ipython",
    "version": 2
   },
   "file_extension": ".py",
   "mimetype": "text/x-python",
   "name": "python",
   "nbconvert_exporter": "python",
   "pygments_lexer": "ipython2",
   "version": "2.7.6"
  }
 },
 "nbformat": 4,
 "nbformat_minor": 5
}
