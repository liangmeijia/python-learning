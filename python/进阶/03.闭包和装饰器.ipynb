{
 "cells": [
  {
   "metadata": {},
   "cell_type": "markdown",
   "source": [
    "## 递归函数\n",
    "* 优点：简洁、逻辑清晰解题更具有思路\n",
    "* 缺点：使用递归函数的时候，需要反复调用函数，耗内存，运行效率低"
   ],
   "id": "c6c5b5cd090a2148"
  },
  {
   "metadata": {},
   "cell_type": "markdown",
   "source": [
    "## 闭包（函数）\n",
    "**含义**\n",
    "* 在嵌套函数的前提下，内部函数使用了外部函数的变量，而且外部函数返回了内部函数，我们就把使用了外部函数变量的内部函数称为闭包。\n",
    "\n",
    "**条件**\n",
    "* 函数嵌套(函数里面再定义函数)\n",
    "* 内层函数使用外层函数的局部变量\n",
    "* 外层函数的返回值是内层函数的函数名\n",
    "\n",
    "**注意**\n",
    "* 函数名里面保存了函数所在位置的引用\n",
    "* 函数名() 代表调用函数"
   ],
   "id": "7467de0f7ed42f64"
  },
  {
   "metadata": {
    "ExecuteTime": {
     "end_time": "2024-11-22T01:42:12.249548Z",
     "start_time": "2024-11-22T01:42:12.245397Z"
    }
   },
   "cell_type": "code",
   "source": [
    "def outer():\n",
    "    n = 100\n",
    "    def inner(): #函数嵌套\n",
    "        print(n) #内层函数使用外层函数的局部变量\n",
    "    return inner #外层函数的返回值是内层函数的函数名\n",
    "\n",
    "outer()() #第一个（） -> 调用外层函数；第二个（） -> 调用内层函数"
   ],
   "id": "9f95b4b51a4d6993",
   "outputs": [
    {
     "name": "stdout",
     "output_type": "stream",
     "text": [
      "100\n"
     ]
    }
   ],
   "execution_count": 10
  },
  {
   "metadata": {
    "ExecuteTime": {
     "end_time": "2024-11-22T01:51:01.011068Z",
     "start_time": "2024-11-22T01:51:01.007234Z"
    }
   },
   "cell_type": "code",
   "source": [
    "def outer(m):\n",
    "    n = 100\n",
    "    def inner(p): #函数嵌套\n",
    "        print(n+m+p) #内层函数使用外层函数的局部变量\n",
    "    return inner #外层函数的返回值是内层函数的函数名\n",
    "#调用内函数的方式1\n",
    "outer(1)(10)\n",
    "#调用内函数的方式2\n",
    "inner1 = outer(2)\n",
    "inner1(20)"
   ],
   "id": "6dfb54851b518a1c",
   "outputs": [
    {
     "name": "stdout",
     "output_type": "stream",
     "text": [
      "111\n",
      "122\n"
     ]
    }
   ],
   "execution_count": 12
  },
  {
   "metadata": {
    "ExecuteTime": {
     "end_time": "2024-11-22T01:54:12.516208Z",
     "start_time": "2024-11-22T01:54:12.512427Z"
    }
   },
   "cell_type": "code",
   "source": [
    "def test():\n",
    "    print('test111')\n",
    "print(test) #函数名 里面存放了这个函数所在的位置的引用\n",
    "print(id(test)) #这个函数所在的位置\n",
    "test() #通过引用调用函数"
   ],
   "id": "67df29fb5c0bf123",
   "outputs": [
    {
     "name": "stdout",
     "output_type": "stream",
     "text": [
      "<function test at 0x000001D7B32CAB60>\n",
      "2025935645536\n",
      "test111\n"
     ]
    }
   ],
   "execution_count": 17
  },
  {
   "metadata": {},
   "cell_type": "markdown",
   "source": "总结:使用闭包的过程中，一旦外函数被调用一次，返回了内函数的引用，虽然每次调用内函数，会开启一个函数，执行后消亡但是闭包变量实际上只有一份，每次开启内函数都在使用同一份闭包变量",
   "id": "318065053f5a879d"
  },
  {
   "metadata": {
    "ExecuteTime": {
     "end_time": "2024-11-22T02:03:39.428734Z",
     "start_time": "2024-11-22T02:03:39.425018Z"
    }
   },
   "cell_type": "code",
   "source": [
    "def outer(m):\n",
    "    print(f'外层函数的变量={m}')\n",
    "    def inner(p): \n",
    "        print(f'内层函数的变量={p}')\n",
    "        return m+p \n",
    "    return inner \n",
    "# print(outer(10))\n",
    "# print(outer(10))\n",
    "ot = outer(10)\n",
    "#第一次调用内层函数\n",
    "print(ot(20))\n",
    "#第二次调用内层函数\n",
    "print(ot(30))"
   ],
   "id": "6ccbae32627d0785",
   "outputs": [
    {
     "name": "stdout",
     "output_type": "stream",
     "text": [
      "外层函数的变量=10\n",
      "内层函数的变量=20\n",
      "30\n",
      "内层函数的变量=30\n",
      "40\n"
     ]
    }
   ],
   "execution_count": 19
  },
  {
   "metadata": {},
   "cell_type": "markdown",
   "source": [
    "## 装饰器\n",
    "**含义**\n",
    "* 装饰器本质上是一个【闭包函数】，它可以让其他函数在不需要做任何代码变动的前提下增加额外功能，装饰器的返回值也是一个函数对象。\n",
    "\n",
    "**原理**\n",
    "* 就是将原有的函数名重新定义为以原函数为参数的闭包\n",
    "\n",
    "**条件**\n",
    "* 不修改原程序或函数的代码\n",
    "* 不改变函数或程序调用方法。"
   ],
   "id": "e7bbc1c08c113ea"
  },
  {
   "metadata": {
    "ExecuteTime": {
     "end_time": "2024-11-22T02:18:57.092049Z",
     "start_time": "2024-11-22T02:18:57.088303Z"
    }
   },
   "cell_type": "code",
   "source": [
    "def test(fn):\n",
    "    print('登录')\n",
    "    print('发送信息')\n",
    "    #...入侵函数来添加新的功能\n",
    "    fn() #传入函数名来添加新功能\n",
    "def test1():\n",
    "    print('转账1000元')\n",
    "test(test1) #改变了原函数的调用方式"
   ],
   "id": "85b3ab2582091e61",
   "outputs": [
    {
     "name": "stdout",
     "output_type": "stream",
     "text": [
      "登录\n",
      "发送信息\n",
      "转账1000元\n"
     ]
    }
   ],
   "execution_count": 20
  },
  {
   "metadata": {
    "ExecuteTime": {
     "end_time": "2024-11-22T02:31:24.926128Z",
     "start_time": "2024-11-22T02:31:24.922152Z"
    }
   },
   "cell_type": "code",
   "source": [
    "#被装饰的函数\n",
    "def send():\n",
    "    print('发送信息')\n",
    "#装饰器\n",
    "def outer(fn):\n",
    "    def inner():\n",
    "        print('登录...')\n",
    "        fn()\n",
    "        # 可以自定义在被装饰的fn()函数前后添加代码\n",
    "    return inner\n",
    "\n",
    "#调用函数\n",
    "ot = outer(send)\n",
    "ot()"
   ],
   "id": "55b75f32df443cbc",
   "outputs": [
    {
     "name": "stdout",
     "output_type": "stream",
     "text": [
      "登录...\n",
      "发送信息\n"
     ]
    }
   ],
   "execution_count": 22
  },
  {
   "metadata": {
    "ExecuteTime": {
     "end_time": "2024-11-22T02:38:37.751554Z",
     "start_time": "2024-11-22T02:38:37.747170Z"
    }
   },
   "cell_type": "code",
   "source": [
    "#装饰器语法糖 @装饰器名\n",
    "def outer(fn):\n",
    "    def inner():\n",
    "        print('登录...')\n",
    "        fn()\n",
    "        # 可以自定义在被装饰的fn()函数前后添加代码\n",
    "    return inner\n",
    "#被装饰的函数\n",
    "@outer\n",
    "def send():\n",
    "    print('v1发送信息:哈哈哈')\n",
    "send()\n",
    "\n",
    "@outer\n",
    "def send1():\n",
    "    print('v2发送信息:很好笑')\n",
    "send1() "
   ],
   "id": "a4973feb20be6a82",
   "outputs": [
    {
     "name": "stdout",
     "output_type": "stream",
     "text": [
      "登录...\n",
      "v1发送信息:哈哈哈\n",
      "登录...\n",
      "v2发送信息:很好笑\n"
     ]
    }
   ],
   "execution_count": 28
  },
  {
   "metadata": {
    "ExecuteTime": {
     "end_time": "2024-11-22T03:22:21.383989Z",
     "start_time": "2024-11-22T03:22:21.379137Z"
    }
   },
   "cell_type": "code",
   "source": [
    "#装饰器语法糖+传参数\n",
    "def outer(fn):\n",
    "    def inner(name):\n",
    "        print(f'{name}登录成功...')\n",
    "        fn()\n",
    "        # 可以自定义在被装饰的fn()函数前后添加代码\n",
    "    return inner\n",
    "#被装饰的函数\n",
    "@outer\n",
    "def send():\n",
    "    print('发送信息...')\n",
    "#print(send) <function outer.<locals>.inner at 0x000001D7B332E3E0>\n",
    "send('bob')\n",
    "send('alice')\n"
   ],
   "id": "cafe69e25ae1777d",
   "outputs": [
    {
     "name": "stdout",
     "output_type": "stream",
     "text": [
      "<function outer.<locals>.inner at 0x000001D7B332E3E0>\n",
      "bob登录成功...\n",
      "发送信息...\n",
      "alice登录成功...\n",
      "发送信息...\n"
     ]
    }
   ],
   "execution_count": 35
  },
  {
   "metadata": {
    "ExecuteTime": {
     "end_time": "2024-11-22T03:38:10.274142Z",
     "start_time": "2024-11-22T03:38:10.267532Z"
    }
   },
   "cell_type": "code",
   "source": [
    "#【多个装饰器】\n",
    "def deco1(fn):\n",
    "    def inner():\n",
    "        print('deco1的inner:')\n",
    "        print(inner)\n",
    "        print('deco1的fn:')\n",
    "        print(fn)\n",
    "        return 'deco1'+fn()+'deco1'\n",
    "    return inner\n",
    "def deco2(fn):\n",
    "    def inner():\n",
    "        print('deco2的inner:')\n",
    "        print(inner)\n",
    "        print('deco2的fn:')\n",
    "        print(fn)\n",
    "        return 'deco2'+fn()+'deco2'\n",
    "    return inner\n",
    "@deco1\n",
    "@deco2\n",
    "def send():\n",
    "    return 'python基础'\n",
    "print('最终调用的函数：')\n",
    "print(send)\n",
    "send()"
   ],
   "id": "6167c95b871436ae",
   "outputs": [
    {
     "name": "stdout",
     "output_type": "stream",
     "text": [
      "最终调用的函数：\n",
      "<function deco1.<locals>.inner at 0x000001D7B38713A0>\n",
      "deco1的inner:\n",
      "<function deco1.<locals>.inner at 0x000001D7B38713A0>\n",
      "deco1的fn:\n",
      "<function deco2.<locals>.inner at 0x000001D7B3871760>\n",
      "deco2的inner:\n",
      "<function deco2.<locals>.inner at 0x000001D7B3871760>\n",
      "deco2的fn:\n",
      "<function send at 0x000001D7B3871080>\n"
     ]
    },
    {
     "data": {
      "text/plain": [
       "'deco1deco2python基础deco2deco1'"
      ]
     },
     "execution_count": 51,
     "metadata": {},
     "output_type": "execute_result"
    }
   ],
   "execution_count": 51
  },
  {
   "metadata": {},
   "cell_type": "code",
   "outputs": [],
   "execution_count": null,
   "source": "",
   "id": "219345e1d4951b4"
  }
 ],
 "metadata": {
  "kernelspec": {
   "display_name": "Python 3",
   "language": "python",
   "name": "python3"
  },
  "language_info": {
   "codemirror_mode": {
    "name": "ipython",
    "version": 2
   },
   "file_extension": ".py",
   "mimetype": "text/x-python",
   "name": "python",
   "nbconvert_exporter": "python",
   "pygments_lexer": "ipython2",
   "version": "2.7.6"
  }
 },
 "nbformat": 4,
 "nbformat_minor": 5
}
