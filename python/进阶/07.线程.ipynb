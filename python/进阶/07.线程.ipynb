{
 "cells": [
  {
   "metadata": {},
   "cell_type": "markdown",
   "source": [
    "### 进程\n",
    "* 是操作系统进行资源分配的基本单位，每打开一个程序至少就会有一个进程\n",
    "### 线程\n",
    "* 是cpu调度的基本单位，每一个进程至少都会有一个线程，这个线程通常就是我们所说的主线程\n",
    "* 一个进程默认有一个线程，进程里面可以创建多个线程，线程是依附在进程里面的，没有进程就没有线程。\n",
    "### 多线程\n",
    "* 处理多任务的一种解决方式"
   ],
   "id": "e11ff279cfbd17ee"
  },
  {
   "metadata": {},
   "cell_type": "code",
   "outputs": [],
   "execution_count": null,
   "source": "",
   "id": "4697a198a2c63799"
  }
 ],
 "metadata": {
  "kernelspec": {
   "display_name": "Python 3",
   "language": "python",
   "name": "python3"
  },
  "language_info": {
   "codemirror_mode": {
    "name": "ipython",
    "version": 2
   },
   "file_extension": ".py",
   "mimetype": "text/x-python",
   "name": "python",
   "nbconvert_exporter": "python",
   "pygments_lexer": "ipython2",
   "version": "2.7.6"
  }
 },
 "nbformat": 4,
 "nbformat_minor": 5
}
