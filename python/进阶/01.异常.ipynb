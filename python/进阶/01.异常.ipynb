{
 "cells": [
  {
   "metadata": {},
   "cell_type": "markdown",
   "source": [
    "## 异常\n",
    "* 当Python检测到一个错误时，解释器就无法继续执行了，反而出现了一些错误的提示，这就是所谓的\"异常”\n",
    "* 例子：IndentationError（缩进错误）、IndexError 下标索引超出序列边界、"
   ],
   "id": "afcb7870273a351"
  },
  {
   "metadata": {},
   "cell_type": "markdown",
   "source": [
    "## 异常处理\n",
    "* 最终目的:让程序在有异常时，仍能够正常运行"
   ],
   "id": "63f1948fa97ebdd4"
  },
  {
   "metadata": {},
   "cell_type": "markdown",
   "source": "格式1：try ...except....",
   "id": "3f3b654df9ab59ae"
  },
  {
   "metadata": {
    "ExecuteTime": {
     "end_time": "2024-11-21T01:43:52.555970Z",
     "start_time": "2024-11-21T01:43:52.549469Z"
    }
   },
   "cell_type": "code",
   "source": [
    "from ast import Index\n",
    "\n",
    "try:\n",
    "    print(a)\n",
    "except:  #默认基类异常\n",
    "    print('输出错误')\n",
    "print(10)"
   ],
   "id": "66006476d114a2b6",
   "outputs": [
    {
     "name": "stdout",
     "output_type": "stream",
     "text": [
      "输出错误\n",
      "10\n"
     ]
    }
   ],
   "execution_count": 1
  },
  {
   "metadata": {
    "ExecuteTime": {
     "end_time": "2024-11-21T01:46:14.431347Z",
     "start_time": "2024-11-21T01:46:14.427796Z"
    }
   },
   "cell_type": "code",
   "source": [
    "try:\n",
    "    print(a)\n",
    "except NameError as e:  #指定捕获异常类型为NameError，取别名为e\n",
    "    print(e)\n",
    "print(10)"
   ],
   "id": "15cfe48a489610c9",
   "outputs": [
    {
     "name": "stdout",
     "output_type": "stream",
     "text": [
      "name 'a' is not defined\n",
      "10\n"
     ]
    }
   ],
   "execution_count": 3
  },
  {
   "metadata": {
    "ExecuteTime": {
     "end_time": "2024-11-21T01:47:17.579359Z",
     "start_time": "2024-11-21T01:47:17.576394Z"
    }
   },
   "cell_type": "code",
   "source": [
    "try:\n",
    "    print(a)\n",
    "except Exception as e:  #万能异常Exception 可以捕获任意异常\n",
    "    print(e)\n",
    "print(10)"
   ],
   "id": "92d97dd5617b8b73",
   "outputs": [
    {
     "name": "stdout",
     "output_type": "stream",
     "text": [
      "name 'a' is not defined\n",
      "10\n"
     ]
    }
   ],
   "execution_count": 4
  },
  {
   "metadata": {
    "ExecuteTime": {
     "end_time": "2024-11-21T01:49:06.876937Z",
     "start_time": "2024-11-21T01:49:06.873533Z"
    }
   },
   "cell_type": "code",
   "source": [
    "#多分支异常\n",
    "try:\n",
    "    print(a)\n",
    "except IndexError as e: \n",
    "    print(e)\n",
    "except TypeError as e:\n",
    "    print(e)\n",
    "except NameError as e:\n",
    "    print(e)"
   ],
   "id": "575b0872e3ffb46",
   "outputs": [
    {
     "name": "stdout",
     "output_type": "stream",
     "text": [
      "name 'a' is not defined\n"
     ]
    }
   ],
   "execution_count": 5
  },
  {
   "metadata": {},
   "cell_type": "markdown",
   "source": [
    "格式2：try ..(可能引发异常现象的代码)..except..(出现异常现象的处理代码)..else..(只有在没有异常时才会执行的代码)..\n",
    "* 可把except理解为if，except和else不同时执行"
   ],
   "id": "54092dbee5594f9b"
  },
  {
   "metadata": {
    "ExecuteTime": {
     "end_time": "2024-11-21T01:55:32.572635Z",
     "start_time": "2024-11-21T01:55:32.568117Z"
    }
   },
   "cell_type": "code",
   "source": [
    "d = {'name':'mimi'}\n",
    "try:\n",
    "    print(d['age'])\n",
    "except Exception as e:\n",
    "    print(e,'出现错误')\n",
    "else:\n",
    "    print('没有错误')"
   ],
   "id": "59d664ecbd5515fa",
   "outputs": [
    {
     "name": "stdout",
     "output_type": "stream",
     "text": [
      "'age' 出现错误\n"
     ]
    }
   ],
   "execution_count": 7
  },
  {
   "metadata": {
    "ExecuteTime": {
     "end_time": "2024-11-21T01:55:47.274117Z",
     "start_time": "2024-11-21T01:55:47.270666Z"
    }
   },
   "cell_type": "code",
   "source": [
    "d = {'name':'mimi'}\n",
    "try:\n",
    "    print(d['name'])\n",
    "except Exception as e:\n",
    "    print(e,'出现错误')\n",
    "else:\n",
    "    print('没有错误')"
   ],
   "id": "fd8828c784cbbd60",
   "outputs": [
    {
     "name": "stdout",
     "output_type": "stream",
     "text": [
      "mimi\n",
      "没有错误\n"
     ]
    }
   ],
   "execution_count": 8
  },
  {
   "metadata": {},
   "cell_type": "markdown",
   "source": "格式3：try...except(可以没有)...finally..(无论有没有错误都会执行).",
   "id": "7b1418519025f8e3"
  },
  {
   "metadata": {
    "ExecuteTime": {
     "end_time": "2024-11-21T01:59:35.215692Z",
     "start_time": "2024-11-21T01:59:35.212320Z"
    }
   },
   "cell_type": "code",
   "source": [
    "try:\n",
    "    print(a)\n",
    "except Exception as e:\n",
    "    print(e)\n",
    "finally:\n",
    "    print('finally 执行')"
   ],
   "id": "cf9a93affd51c25c",
   "outputs": [
    {
     "name": "stdout",
     "output_type": "stream",
     "text": [
      "name 'a' is not defined\n",
      "finally 执行\n"
     ]
    }
   ],
   "execution_count": 9
  },
  {
   "metadata": {},
   "cell_type": "markdown",
   "source": "格式4：try(必选)..except(必选：二选一)..else(可选)..finally(必选：二选一)...",
   "id": "3a3d24e8be13064"
  },
  {
   "metadata": {
    "ExecuteTime": {
     "end_time": "2024-11-21T02:11:01.738922Z",
     "start_time": "2024-11-21T02:10:59.395548Z"
    }
   },
   "cell_type": "code",
   "source": [
    "try:\n",
    "    i = int(input('请输入一个整数：'))\n",
    "    print(10/i)\n",
    "except Exception as e:\n",
    "    print(e)\n",
    "else:\n",
    "    print('没有错误')\n",
    "finally:\n",
    "    print('无论有没有错误都执行')"
   ],
   "id": "23179fd7c7dd1403",
   "outputs": [
    {
     "name": "stdout",
     "output_type": "stream",
     "text": [
      "division by zero\n",
      "无论有没有错误都执行\n"
     ]
    }
   ],
   "execution_count": 11
  },
  {
   "metadata": {},
   "cell_type": "markdown",
   "source": [
    "## 异常传递\n",
    "* 当函数/方法执行出现异常，会将异常传递给函数/方法的调用一方。\n",
    "* 如果传递到主程序，仍然没有异常处理，程序才会被终止"
   ],
   "id": "c085b70c7f2a494"
  },
  {
   "metadata": {
    "ExecuteTime": {
     "end_time": "2024-11-21T02:24:50.609530Z",
     "start_time": "2024-11-21T02:24:48.689154Z"
    }
   },
   "cell_type": "code",
   "source": [
    "def fun1():\n",
    "    return int(input('请输入整数：'))\n",
    "def fun2():\n",
    "    print(fun1())\n",
    "\n",
    "try:\n",
    "    fun2() \n",
    "except Exception as e:\n",
    "    print('错误：%s'%e)    \n",
    "else:\n",
    "    print('执行成功')"
   ],
   "id": "17d24e5ff7fb89ba",
   "outputs": [
    {
     "name": "stdout",
     "output_type": "stream",
     "text": [
      "错误：invalid literal for int() with base 10: 'sdss'\n"
     ]
    }
   ],
   "execution_count": 13
  },
  {
   "metadata": {},
   "cell_type": "markdown",
   "source": [
    "## 抛出异常 raise\n",
    "* 主动抛出异常的步骤:\n",
    "* 1.创建一个Exception('...')的对象,'...'是异常的提示信息\n",
    "* 2.raise 抛出这个对象"
   ],
   "id": "cffc1d16d7f6a6bb"
  },
  {
   "metadata": {
    "ExecuteTime": {
     "end_time": "2024-11-21T02:28:22.467460Z",
     "start_time": "2024-11-21T02:28:21.994540Z"
    }
   },
   "cell_type": "code",
   "source": [
    "def fun3():\n",
    "    raise Exception('抛出一个异常')\n",
    "    print('hhh') #不会执行\n",
    "fun3()"
   ],
   "id": "cda931dda568409a",
   "outputs": [
    {
     "ename": "Exception",
     "evalue": "抛出一个异常",
     "output_type": "error",
     "traceback": [
      "\u001B[1;31m---------------------------------------------------------------------------\u001B[0m",
      "\u001B[1;31mException\u001B[0m                                 Traceback (most recent call last)",
      "Cell \u001B[1;32mIn[14], line 4\u001B[0m\n\u001B[0;32m      2\u001B[0m     \u001B[38;5;28;01mraise\u001B[39;00m \u001B[38;5;167;01mException\u001B[39;00m(\u001B[38;5;124m'\u001B[39m\u001B[38;5;124m抛出一个异常\u001B[39m\u001B[38;5;124m'\u001B[39m)\n\u001B[0;32m      3\u001B[0m     \u001B[38;5;28mprint\u001B[39m(\u001B[38;5;124m'\u001B[39m\u001B[38;5;124mhhh\u001B[39m\u001B[38;5;124m'\u001B[39m) \u001B[38;5;66;03m#不会执行\u001B[39;00m\n\u001B[1;32m----> 4\u001B[0m \u001B[43mfun3\u001B[49m\u001B[43m(\u001B[49m\u001B[43m)\u001B[49m\n",
      "Cell \u001B[1;32mIn[14], line 2\u001B[0m, in \u001B[0;36mfun3\u001B[1;34m()\u001B[0m\n\u001B[0;32m      1\u001B[0m \u001B[38;5;28;01mdef\u001B[39;00m \u001B[38;5;21mfun3\u001B[39m():\n\u001B[1;32m----> 2\u001B[0m     \u001B[38;5;28;01mraise\u001B[39;00m \u001B[38;5;167;01mException\u001B[39;00m(\u001B[38;5;124m'\u001B[39m\u001B[38;5;124m抛出一个异常\u001B[39m\u001B[38;5;124m'\u001B[39m)\n\u001B[0;32m      3\u001B[0m     \u001B[38;5;28mprint\u001B[39m(\u001B[38;5;124m'\u001B[39m\u001B[38;5;124mhhh\u001B[39m\u001B[38;5;124m'\u001B[39m)\n",
      "\u001B[1;31mException\u001B[0m: 抛出一个异常"
     ]
    }
   ],
   "execution_count": 14
  }
 ],
 "metadata": {
  "kernelspec": {
   "display_name": "Python 3",
   "language": "python",
   "name": "python3"
  },
  "language_info": {
   "codemirror_mode": {
    "name": "ipython",
    "version": 2
   },
   "file_extension": ".py",
   "mimetype": "text/x-python",
   "name": "python",
   "nbconvert_exporter": "python",
   "pygments_lexer": "ipython2",
   "version": "2.7.6"
  }
 },
 "nbformat": 4,
 "nbformat_minor": 5
}
