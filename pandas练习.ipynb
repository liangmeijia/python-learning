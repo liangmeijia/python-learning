{
 "cells": [
  {
   "cell_type": "markdown",
   "id": "09333fca-4457-4d78-b879-5ea05c423ebd",
   "metadata": {},
   "source": [
    "1.创建一个包含姓名和年龄的DataFrame，数据如下"
   ]
  },
  {
   "cell_type": "code",
   "execution_count": 7,
   "id": "84d59a75-6e7d-47b0-8a0f-c031438a1bad",
   "metadata": {},
   "outputs": [
    {
     "data": {
      "text/html": [
       "<div>\n",
       "<style scoped>\n",
       "    .dataframe tbody tr th:only-of-type {\n",
       "        vertical-align: middle;\n",
       "    }\n",
       "\n",
       "    .dataframe tbody tr th {\n",
       "        vertical-align: top;\n",
       "    }\n",
       "\n",
       "    .dataframe thead th {\n",
       "        text-align: right;\n",
       "    }\n",
       "</style>\n",
       "<table border=\"1\" class=\"dataframe\">\n",
       "  <thead>\n",
       "    <tr style=\"text-align: right;\">\n",
       "      <th></th>\n",
       "      <th>姓名</th>\n",
       "      <th>年龄</th>\n",
       "    </tr>\n",
       "  </thead>\n",
       "  <tbody>\n",
       "    <tr>\n",
       "      <th>0</th>\n",
       "      <td>Alice</td>\n",
       "      <td>20</td>\n",
       "    </tr>\n",
       "    <tr>\n",
       "      <th>1</th>\n",
       "      <td>Bob</td>\n",
       "      <td>25</td>\n",
       "    </tr>\n",
       "    <tr>\n",
       "      <th>2</th>\n",
       "      <td>Tom</td>\n",
       "      <td>15</td>\n",
       "    </tr>\n",
       "    <tr>\n",
       "      <th>3</th>\n",
       "      <td>Anger</td>\n",
       "      <td>10</td>\n",
       "    </tr>\n",
       "    <tr>\n",
       "      <th>4</th>\n",
       "      <td>Lili</td>\n",
       "      <td>35</td>\n",
       "    </tr>\n",
       "    <tr>\n",
       "      <th>5</th>\n",
       "      <td>Tom</td>\n",
       "      <td>15</td>\n",
       "    </tr>\n",
       "  </tbody>\n",
       "</table>\n",
       "</div>"
      ],
      "text/plain": [
       "      姓名  年龄\n",
       "0  Alice  20\n",
       "1    Bob  25\n",
       "2    Tom  15\n",
       "3  Anger  10\n",
       "4   Lili  35\n",
       "5    Tom  15"
      ]
     },
     "execution_count": 7,
     "metadata": {},
     "output_type": "execute_result"
    }
   ],
   "source": [
    "import pandas as pd\n",
    "data = {'姓名':['Alice','Bob','Tom','Anger','Lili','Tom'],'年龄':[20,25,15,10,35,15]}\n",
    "df = pd.DataFrame(data)\n",
    "df"
   ]
  },
  {
   "cell_type": "markdown",
   "id": "8b2687ef-ce83-49bf-83dc-54ab66fff952",
   "metadata": {},
   "source": [
    "2.显示创建的DataFrame前2行的数据"
   ]
  },
  {
   "cell_type": "code",
   "execution_count": 28,
   "id": "1a7fb4a2-5ae9-4ede-bc58-4ceb2ef30f79",
   "metadata": {},
   "outputs": [
    {
     "data": {
      "text/html": [
       "<div>\n",
       "<style scoped>\n",
       "    .dataframe tbody tr th:only-of-type {\n",
       "        vertical-align: middle;\n",
       "    }\n",
       "\n",
       "    .dataframe tbody tr th {\n",
       "        vertical-align: top;\n",
       "    }\n",
       "\n",
       "    .dataframe thead th {\n",
       "        text-align: right;\n",
       "    }\n",
       "</style>\n",
       "<table border=\"1\" class=\"dataframe\">\n",
       "  <thead>\n",
       "    <tr style=\"text-align: right;\">\n",
       "      <th></th>\n",
       "      <th>姓名</th>\n",
       "      <th>年龄</th>\n",
       "    </tr>\n",
       "  </thead>\n",
       "  <tbody>\n",
       "    <tr>\n",
       "      <th>0</th>\n",
       "      <td>Alice</td>\n",
       "      <td>21</td>\n",
       "    </tr>\n",
       "    <tr>\n",
       "      <th>1</th>\n",
       "      <td>Bob</td>\n",
       "      <td>33</td>\n",
       "    </tr>\n",
       "  </tbody>\n",
       "</table>\n",
       "</div>"
      ],
      "text/plain": [
       "      姓名  年龄\n",
       "0  Alice  21\n",
       "1    Bob  33"
      ]
     },
     "execution_count": 28,
     "metadata": {},
     "output_type": "execute_result"
    }
   ],
   "source": [
    "df.head(2)"
   ]
  },
  {
   "cell_type": "markdown",
   "id": "829aaa55-421e-4eae-bf41-d2e12462fb0b",
   "metadata": {},
   "source": [
    "3.显示创建的DataFrame后3行的数据"
   ]
  },
  {
   "cell_type": "code",
   "execution_count": 29,
   "id": "0a993d5a-e573-4e6e-95c5-c086f825661e",
   "metadata": {},
   "outputs": [
    {
     "data": {
      "text/html": [
       "<div>\n",
       "<style scoped>\n",
       "    .dataframe tbody tr th:only-of-type {\n",
       "        vertical-align: middle;\n",
       "    }\n",
       "\n",
       "    .dataframe tbody tr th {\n",
       "        vertical-align: top;\n",
       "    }\n",
       "\n",
       "    .dataframe thead th {\n",
       "        text-align: right;\n",
       "    }\n",
       "</style>\n",
       "<table border=\"1\" class=\"dataframe\">\n",
       "  <thead>\n",
       "    <tr style=\"text-align: right;\">\n",
       "      <th></th>\n",
       "      <th>姓名</th>\n",
       "      <th>年龄</th>\n",
       "    </tr>\n",
       "  </thead>\n",
       "  <tbody>\n",
       "    <tr>\n",
       "      <th>3</th>\n",
       "      <td>Anger</td>\n",
       "      <td>22</td>\n",
       "    </tr>\n",
       "    <tr>\n",
       "      <th>4</th>\n",
       "      <td>Lili</td>\n",
       "      <td>33</td>\n",
       "    </tr>\n",
       "    <tr>\n",
       "      <th>5</th>\n",
       "      <td>Tom</td>\n",
       "      <td>22</td>\n",
       "    </tr>\n",
       "  </tbody>\n",
       "</table>\n",
       "</div>"
      ],
      "text/plain": [
       "      姓名  年龄\n",
       "3  Anger  22\n",
       "4   Lili  33\n",
       "5    Tom  22"
      ]
     },
     "execution_count": 29,
     "metadata": {},
     "output_type": "execute_result"
    }
   ],
   "source": [
    "df.tail(3)"
   ]
  },
  {
   "cell_type": "markdown",
   "id": "56ed1105-8ba2-4e5f-869b-01f7af61daee",
   "metadata": {},
   "source": [
    "4.提取出名字是\"Tom’的所有行，并输出所有的列表头名"
   ]
  },
  {
   "cell_type": "code",
   "execution_count": 30,
   "id": "8d7f4a3f-fa07-4d3c-9a02-dd58ba288252",
   "metadata": {},
   "outputs": [
    {
     "data": {
      "text/html": [
       "<div>\n",
       "<style scoped>\n",
       "    .dataframe tbody tr th:only-of-type {\n",
       "        vertical-align: middle;\n",
       "    }\n",
       "\n",
       "    .dataframe tbody tr th {\n",
       "        vertical-align: top;\n",
       "    }\n",
       "\n",
       "    .dataframe thead th {\n",
       "        text-align: right;\n",
       "    }\n",
       "</style>\n",
       "<table border=\"1\" class=\"dataframe\">\n",
       "  <thead>\n",
       "    <tr style=\"text-align: right;\">\n",
       "      <th></th>\n",
       "      <th>姓名</th>\n",
       "      <th>年龄</th>\n",
       "    </tr>\n",
       "  </thead>\n",
       "  <tbody>\n",
       "    <tr>\n",
       "      <th>2</th>\n",
       "      <td>Tom</td>\n",
       "      <td>21</td>\n",
       "    </tr>\n",
       "    <tr>\n",
       "      <th>5</th>\n",
       "      <td>Tom</td>\n",
       "      <td>22</td>\n",
       "    </tr>\n",
       "  </tbody>\n",
       "</table>\n",
       "</div>"
      ],
      "text/plain": [
       "    姓名  年龄\n",
       "2  Tom  21\n",
       "5  Tom  22"
      ]
     },
     "execution_count": 30,
     "metadata": {},
     "output_type": "execute_result"
    }
   ],
   "source": [
    "condition = df['姓名'] == 'Tom'\n",
    "df[condition]\n",
    "#df.loc[condition]"
   ]
  },
  {
   "cell_type": "code",
   "execution_count": 31,
   "id": "c8b560bf-aed4-4282-9512-b82fa6dc641e",
   "metadata": {},
   "outputs": [
    {
     "data": {
      "text/plain": [
       "Index(['姓名', '年龄'], dtype='object')"
      ]
     },
     "execution_count": 31,
     "metadata": {},
     "output_type": "execute_result"
    }
   ],
   "source": [
    "df.columns"
   ]
  },
  {
   "cell_type": "markdown",
   "id": "7638f795-d8cd-4c7d-9f75-7b259bc4d439",
   "metadata": {},
   "source": [
    "5.修改第二列的名字为'age'"
   ]
  },
  {
   "cell_type": "code",
   "execution_count": 46,
   "id": "6a2c3652-dac6-44f1-ab9e-efabcb76f41a",
   "metadata": {},
   "outputs": [
    {
     "data": {
      "text/plain": [
       "Index(['姓名', '年龄'], dtype='object')"
      ]
     },
     "execution_count": 46,
     "metadata": {},
     "output_type": "execute_result"
    }
   ],
   "source": [
    "df.columns = ['姓名', '年龄']\n",
    "#df.rename(columns={'年龄':'age1'})\n",
    "df.columns"
   ]
  },
  {
   "cell_type": "markdown",
   "id": "90ef42b2-8437-44e6-8ff4-a324994dd698",
   "metadata": {},
   "source": [
    "6.按照姓名列进行去重"
   ]
  },
  {
   "cell_type": "code",
   "execution_count": 59,
   "id": "ccc26e92-763c-4df2-a4fe-a0f1df3ca603",
   "metadata": {},
   "outputs": [
    {
     "data": {
      "text/plain": [
       "0    Alice\n",
       "1      Bob\n",
       "2      Tom\n",
       "3    Anger\n",
       "4     Lili\n",
       "Name: 姓名, dtype: object"
      ]
     },
     "execution_count": 59,
     "metadata": {},
     "output_type": "execute_result"
    }
   ],
   "source": [
    "v = df['姓名'].drop_duplicates()\n",
    "v\n",
    "#type(v)"
   ]
  },
  {
   "cell_type": "markdown",
   "id": "110b2d47-f63b-426c-8d18-c6b70c6e122d",
   "metadata": {},
   "source": [
    "7.统计年龄的平均值"
   ]
  },
  {
   "cell_type": "code",
   "execution_count": 49,
   "id": "30d219a2-71e8-4679-9e7f-eb38f00b7b3b",
   "metadata": {},
   "outputs": [
    {
     "data": {
      "text/plain": [
       "25.333333333333332"
      ]
     },
     "execution_count": 49,
     "metadata": {},
     "output_type": "execute_result"
    }
   ],
   "source": [
    "df['年龄'].mean()"
   ]
  },
  {
   "cell_type": "markdown",
   "id": "70c59a8a-dc67-4ed9-8cde-31266f5abe77",
   "metadata": {},
   "source": [
    "8.查找年龄大于23的行"
   ]
  },
  {
   "cell_type": "code",
   "execution_count": 48,
   "id": "6c4179b0-d810-455b-bd72-7f36b5fe67f0",
   "metadata": {},
   "outputs": [
    {
     "data": {
      "text/html": [
       "<div>\n",
       "<style scoped>\n",
       "    .dataframe tbody tr th:only-of-type {\n",
       "        vertical-align: middle;\n",
       "    }\n",
       "\n",
       "    .dataframe tbody tr th {\n",
       "        vertical-align: top;\n",
       "    }\n",
       "\n",
       "    .dataframe thead th {\n",
       "        text-align: right;\n",
       "    }\n",
       "</style>\n",
       "<table border=\"1\" class=\"dataframe\">\n",
       "  <thead>\n",
       "    <tr style=\"text-align: right;\">\n",
       "      <th></th>\n",
       "      <th>姓名</th>\n",
       "      <th>年龄</th>\n",
       "    </tr>\n",
       "  </thead>\n",
       "  <tbody>\n",
       "    <tr>\n",
       "      <th>1</th>\n",
       "      <td>Bob</td>\n",
       "      <td>33</td>\n",
       "    </tr>\n",
       "    <tr>\n",
       "      <th>4</th>\n",
       "      <td>Lili</td>\n",
       "      <td>33</td>\n",
       "    </tr>\n",
       "  </tbody>\n",
       "</table>\n",
       "</div>"
      ],
      "text/plain": [
       "     姓名  年龄\n",
       "1   Bob  33\n",
       "4  Lili  33"
      ]
     },
     "execution_count": 48,
     "metadata": {},
     "output_type": "execute_result"
    }
   ],
   "source": [
    "df[df['年龄'] > 23]"
   ]
  },
  {
   "cell_type": "markdown",
   "id": "ba3565e2-426c-4516-8010-5c9a3cb683e6",
   "metadata": {},
   "source": [
    "9.按照年龄降序排序"
   ]
  },
  {
   "cell_type": "code",
   "execution_count": 54,
   "id": "7ff87469-b949-445e-884d-8d854d9995c7",
   "metadata": {},
   "outputs": [
    {
     "data": {
      "text/html": [
       "<div>\n",
       "<style scoped>\n",
       "    .dataframe tbody tr th:only-of-type {\n",
       "        vertical-align: middle;\n",
       "    }\n",
       "\n",
       "    .dataframe tbody tr th {\n",
       "        vertical-align: top;\n",
       "    }\n",
       "\n",
       "    .dataframe thead th {\n",
       "        text-align: right;\n",
       "    }\n",
       "</style>\n",
       "<table border=\"1\" class=\"dataframe\">\n",
       "  <thead>\n",
       "    <tr style=\"text-align: right;\">\n",
       "      <th></th>\n",
       "      <th>姓名</th>\n",
       "      <th>年龄</th>\n",
       "    </tr>\n",
       "  </thead>\n",
       "  <tbody>\n",
       "    <tr>\n",
       "      <th>1</th>\n",
       "      <td>Bob</td>\n",
       "      <td>33</td>\n",
       "    </tr>\n",
       "    <tr>\n",
       "      <th>4</th>\n",
       "      <td>Lili</td>\n",
       "      <td>33</td>\n",
       "    </tr>\n",
       "    <tr>\n",
       "      <th>3</th>\n",
       "      <td>Anger</td>\n",
       "      <td>22</td>\n",
       "    </tr>\n",
       "    <tr>\n",
       "      <th>5</th>\n",
       "      <td>Tom</td>\n",
       "      <td>22</td>\n",
       "    </tr>\n",
       "    <tr>\n",
       "      <th>0</th>\n",
       "      <td>Alice</td>\n",
       "      <td>21</td>\n",
       "    </tr>\n",
       "    <tr>\n",
       "      <th>2</th>\n",
       "      <td>Tom</td>\n",
       "      <td>21</td>\n",
       "    </tr>\n",
       "  </tbody>\n",
       "</table>\n",
       "</div>"
      ],
      "text/plain": [
       "      姓名  年龄\n",
       "1    Bob  33\n",
       "4   Lili  33\n",
       "3  Anger  22\n",
       "5    Tom  22\n",
       "0  Alice  21\n",
       "2    Tom  21"
      ]
     },
     "execution_count": 54,
     "metadata": {},
     "output_type": "execute_result"
    }
   ],
   "source": [
    "df.sort_values(by='年龄',ascending=False)"
   ]
  },
  {
   "cell_type": "markdown",
   "id": "db598e40-46b5-4989-b981-84966661a263",
   "metadata": {},
   "source": [
    "10.计算年龄的总和"
   ]
  },
  {
   "cell_type": "code",
   "execution_count": 60,
   "id": "a9ee1472-55a2-436a-9779-d13b687fd789",
   "metadata": {},
   "outputs": [
    {
     "data": {
      "text/plain": [
       "152"
      ]
     },
     "execution_count": 60,
     "metadata": {},
     "output_type": "execute_result"
    }
   ],
   "source": [
    "df['年龄'].sum()"
   ]
  },
  {
   "cell_type": "markdown",
   "id": "cab61ccb-d025-4f78-8d11-6f446303fc53",
   "metadata": {},
   "source": [
    "11.更改Anger的年龄为35,然后显示更新后的数据"
   ]
  },
  {
   "cell_type": "code",
   "execution_count": 68,
   "id": "b357155e-3bf0-4a4a-bdf6-17a6a02a2444",
   "metadata": {},
   "outputs": [
    {
     "data": {
      "text/html": [
       "<div>\n",
       "<style scoped>\n",
       "    .dataframe tbody tr th:only-of-type {\n",
       "        vertical-align: middle;\n",
       "    }\n",
       "\n",
       "    .dataframe tbody tr th {\n",
       "        vertical-align: top;\n",
       "    }\n",
       "\n",
       "    .dataframe thead th {\n",
       "        text-align: right;\n",
       "    }\n",
       "</style>\n",
       "<table border=\"1\" class=\"dataframe\">\n",
       "  <thead>\n",
       "    <tr style=\"text-align: right;\">\n",
       "      <th></th>\n",
       "      <th>姓名</th>\n",
       "      <th>年龄</th>\n",
       "    </tr>\n",
       "  </thead>\n",
       "  <tbody>\n",
       "    <tr>\n",
       "      <th>0</th>\n",
       "      <td>Alice</td>\n",
       "      <td>21</td>\n",
       "    </tr>\n",
       "    <tr>\n",
       "      <th>1</th>\n",
       "      <td>Bob</td>\n",
       "      <td>33</td>\n",
       "    </tr>\n",
       "    <tr>\n",
       "      <th>2</th>\n",
       "      <td>Tom</td>\n",
       "      <td>21</td>\n",
       "    </tr>\n",
       "    <tr>\n",
       "      <th>3</th>\n",
       "      <td>Anger</td>\n",
       "      <td>35</td>\n",
       "    </tr>\n",
       "    <tr>\n",
       "      <th>4</th>\n",
       "      <td>Lili</td>\n",
       "      <td>33</td>\n",
       "    </tr>\n",
       "    <tr>\n",
       "      <th>5</th>\n",
       "      <td>Tom</td>\n",
       "      <td>22</td>\n",
       "    </tr>\n",
       "  </tbody>\n",
       "</table>\n",
       "</div>"
      ],
      "text/plain": [
       "      姓名  年龄\n",
       "0  Alice  21\n",
       "1    Bob  33\n",
       "2    Tom  21\n",
       "3  Anger  35\n",
       "4   Lili  33\n",
       "5    Tom  22"
      ]
     },
     "execution_count": 68,
     "metadata": {},
     "output_type": "execute_result"
    }
   ],
   "source": [
    "df.loc[df['姓名'] == 'Anger','年龄'] = 35\n",
    "df"
   ]
  },
  {
   "cell_type": "markdown",
   "id": "ec5a42d5-d184-47ef-a91a-4d27f5b14a78",
   "metadata": {},
   "source": [
    "12.删除年龄大于30的行,然后显示更新后的数据"
   ]
  },
  {
   "cell_type": "code",
   "execution_count": 71,
   "id": "bbaf97b0-303c-44d3-bfe1-d48d79a910b2",
   "metadata": {},
   "outputs": [
    {
     "data": {
      "text/html": [
       "<div>\n",
       "<style scoped>\n",
       "    .dataframe tbody tr th:only-of-type {\n",
       "        vertical-align: middle;\n",
       "    }\n",
       "\n",
       "    .dataframe tbody tr th {\n",
       "        vertical-align: top;\n",
       "    }\n",
       "\n",
       "    .dataframe thead th {\n",
       "        text-align: right;\n",
       "    }\n",
       "</style>\n",
       "<table border=\"1\" class=\"dataframe\">\n",
       "  <thead>\n",
       "    <tr style=\"text-align: right;\">\n",
       "      <th></th>\n",
       "      <th>姓名</th>\n",
       "      <th>年龄</th>\n",
       "    </tr>\n",
       "  </thead>\n",
       "  <tbody>\n",
       "    <tr>\n",
       "      <th>0</th>\n",
       "      <td>Alice</td>\n",
       "      <td>21</td>\n",
       "    </tr>\n",
       "    <tr>\n",
       "      <th>2</th>\n",
       "      <td>Tom</td>\n",
       "      <td>21</td>\n",
       "    </tr>\n",
       "    <tr>\n",
       "      <th>5</th>\n",
       "      <td>Tom</td>\n",
       "      <td>22</td>\n",
       "    </tr>\n",
       "  </tbody>\n",
       "</table>\n",
       "</div>"
      ],
      "text/plain": [
       "      姓名  年龄\n",
       "0  Alice  21\n",
       "2    Tom  21\n",
       "5    Tom  22"
      ]
     },
     "execution_count": 71,
     "metadata": {},
     "output_type": "execute_result"
    }
   ],
   "source": [
    "df[df['年龄'] <= 30]"
   ]
  },
  {
   "cell_type": "markdown",
   "id": "09646395-a419-48fc-aa8e-814917ed1c91",
   "metadata": {},
   "source": [
    "13.将姓名列转换为list"
   ]
  },
  {
   "cell_type": "code",
   "execution_count": 70,
   "id": "a00948ca-add1-449f-ae88-e8cec6e25add",
   "metadata": {},
   "outputs": [
    {
     "data": {
      "text/plain": [
       "['Alice', 'Bob', 'Tom', 'Anger', 'Lili', 'Tom']"
      ]
     },
     "execution_count": 70,
     "metadata": {},
     "output_type": "execute_result"
    }
   ],
   "source": [
    "df['姓名'].to_list()"
   ]
  },
  {
   "cell_type": "markdown",
   "id": "3f324637-43a5-4d5c-a5e3-f140990b9f07",
   "metadata": {},
   "source": [
    "14.将姓名转换为全大写，并添加一个新的 姓名(大写)列"
   ]
  },
  {
   "cell_type": "code",
   "execution_count": 9,
   "id": "fb15b29c-0ede-44fe-b702-b56a703eadf2",
   "metadata": {},
   "outputs": [
    {
     "data": {
      "text/html": [
       "<div>\n",
       "<style scoped>\n",
       "    .dataframe tbody tr th:only-of-type {\n",
       "        vertical-align: middle;\n",
       "    }\n",
       "\n",
       "    .dataframe tbody tr th {\n",
       "        vertical-align: top;\n",
       "    }\n",
       "\n",
       "    .dataframe thead th {\n",
       "        text-align: right;\n",
       "    }\n",
       "</style>\n",
       "<table border=\"1\" class=\"dataframe\">\n",
       "  <thead>\n",
       "    <tr style=\"text-align: right;\">\n",
       "      <th></th>\n",
       "      <th>姓名</th>\n",
       "      <th>年龄</th>\n",
       "      <th>姓名(大写)</th>\n",
       "    </tr>\n",
       "  </thead>\n",
       "  <tbody>\n",
       "    <tr>\n",
       "      <th>0</th>\n",
       "      <td>Alice</td>\n",
       "      <td>20</td>\n",
       "      <td>ALICE</td>\n",
       "    </tr>\n",
       "    <tr>\n",
       "      <th>1</th>\n",
       "      <td>Bob</td>\n",
       "      <td>25</td>\n",
       "      <td>BOB</td>\n",
       "    </tr>\n",
       "    <tr>\n",
       "      <th>2</th>\n",
       "      <td>Tom</td>\n",
       "      <td>15</td>\n",
       "      <td>TOM</td>\n",
       "    </tr>\n",
       "    <tr>\n",
       "      <th>3</th>\n",
       "      <td>Anger</td>\n",
       "      <td>10</td>\n",
       "      <td>ANGER</td>\n",
       "    </tr>\n",
       "    <tr>\n",
       "      <th>4</th>\n",
       "      <td>Lili</td>\n",
       "      <td>35</td>\n",
       "      <td>LILI</td>\n",
       "    </tr>\n",
       "    <tr>\n",
       "      <th>5</th>\n",
       "      <td>Tom</td>\n",
       "      <td>15</td>\n",
       "      <td>TOM</td>\n",
       "    </tr>\n",
       "  </tbody>\n",
       "</table>\n",
       "</div>"
      ],
      "text/plain": [
       "      姓名  年龄 姓名(大写)\n",
       "0  Alice  20  ALICE\n",
       "1    Bob  25    BOB\n",
       "2    Tom  15    TOM\n",
       "3  Anger  10  ANGER\n",
       "4   Lili  35   LILI\n",
       "5    Tom  15    TOM"
      ]
     },
     "execution_count": 9,
     "metadata": {},
     "output_type": "execute_result"
    }
   ],
   "source": [
    "df['姓名(大写)'] = df['姓名'].str.upper()\n",
    "df"
   ]
  },
  {
   "cell_type": "markdown",
   "id": "8841317c-3ac4-49d8-ad03-800d51d8aa06",
   "metadata": {},
   "source": [
    "15.将DataFrame保存为CSV文件"
   ]
  },
  {
   "cell_type": "code",
   "execution_count": 74,
   "id": "0b1048f6-893e-4727-afc4-a90a82940793",
   "metadata": {},
   "outputs": [],
   "source": [
    "df.to_csv('mydata.csv',index=False)"
   ]
  },
  {
   "cell_type": "markdown",
   "id": "fd3310b3-1416-4431-8b94-226519807a4d",
   "metadata": {},
   "source": [
    "16.查看最后2行数据"
   ]
  },
  {
   "cell_type": "code",
   "execution_count": 79,
   "id": "00eff5e3-63d9-415d-ab16-95ef1b5c20b7",
   "metadata": {},
   "outputs": [
    {
     "data": {
      "text/html": [
       "<div>\n",
       "<style scoped>\n",
       "    .dataframe tbody tr th:only-of-type {\n",
       "        vertical-align: middle;\n",
       "    }\n",
       "\n",
       "    .dataframe tbody tr th {\n",
       "        vertical-align: top;\n",
       "    }\n",
       "\n",
       "    .dataframe thead th {\n",
       "        text-align: right;\n",
       "    }\n",
       "</style>\n",
       "<table border=\"1\" class=\"dataframe\">\n",
       "  <thead>\n",
       "    <tr style=\"text-align: right;\">\n",
       "      <th></th>\n",
       "      <th>姓名</th>\n",
       "      <th>年龄</th>\n",
       "      <th>姓名(大写)</th>\n",
       "    </tr>\n",
       "  </thead>\n",
       "  <tbody>\n",
       "    <tr>\n",
       "      <th>4</th>\n",
       "      <td>Lili</td>\n",
       "      <td>33</td>\n",
       "      <td>LILI</td>\n",
       "    </tr>\n",
       "    <tr>\n",
       "      <th>5</th>\n",
       "      <td>Tom</td>\n",
       "      <td>22</td>\n",
       "      <td>TOM</td>\n",
       "    </tr>\n",
       "  </tbody>\n",
       "</table>\n",
       "</div>"
      ],
      "text/plain": [
       "     姓名  年龄 姓名(大写)\n",
       "4  Lili  33   LILI\n",
       "5   Tom  22    TOM"
      ]
     },
     "execution_count": 79,
     "metadata": {},
     "output_type": "execute_result"
    }
   ],
   "source": [
    "df.tail(2)"
   ]
  },
  {
   "cell_type": "markdown",
   "id": "dd21d2d5-103a-40e5-85ea-aa3696e645b6",
   "metadata": {},
   "source": [
    "17.删除最后一行数据"
   ]
  },
  {
   "cell_type": "code",
   "execution_count": 10,
   "id": "c77621fa-2b5f-408c-b45f-15193754db3b",
   "metadata": {},
   "outputs": [
    {
     "data": {
      "text/html": [
       "<div>\n",
       "<style scoped>\n",
       "    .dataframe tbody tr th:only-of-type {\n",
       "        vertical-align: middle;\n",
       "    }\n",
       "\n",
       "    .dataframe tbody tr th {\n",
       "        vertical-align: top;\n",
       "    }\n",
       "\n",
       "    .dataframe thead th {\n",
       "        text-align: right;\n",
       "    }\n",
       "</style>\n",
       "<table border=\"1\" class=\"dataframe\">\n",
       "  <thead>\n",
       "    <tr style=\"text-align: right;\">\n",
       "      <th></th>\n",
       "      <th>姓名</th>\n",
       "      <th>年龄</th>\n",
       "      <th>姓名(大写)</th>\n",
       "    </tr>\n",
       "  </thead>\n",
       "  <tbody>\n",
       "    <tr>\n",
       "      <th>0</th>\n",
       "      <td>Alice</td>\n",
       "      <td>20</td>\n",
       "      <td>ALICE</td>\n",
       "    </tr>\n",
       "    <tr>\n",
       "      <th>1</th>\n",
       "      <td>Bob</td>\n",
       "      <td>25</td>\n",
       "      <td>BOB</td>\n",
       "    </tr>\n",
       "    <tr>\n",
       "      <th>2</th>\n",
       "      <td>Tom</td>\n",
       "      <td>15</td>\n",
       "      <td>TOM</td>\n",
       "    </tr>\n",
       "    <tr>\n",
       "      <th>3</th>\n",
       "      <td>Anger</td>\n",
       "      <td>10</td>\n",
       "      <td>ANGER</td>\n",
       "    </tr>\n",
       "    <tr>\n",
       "      <th>4</th>\n",
       "      <td>Lili</td>\n",
       "      <td>35</td>\n",
       "      <td>LILI</td>\n",
       "    </tr>\n",
       "  </tbody>\n",
       "</table>\n",
       "</div>"
      ],
      "text/plain": [
       "      姓名  年龄 姓名(大写)\n",
       "0  Alice  20  ALICE\n",
       "1    Bob  25    BOB\n",
       "2    Tom  15    TOM\n",
       "3  Anger  10  ANGER\n",
       "4   Lili  35   LILI"
      ]
     },
     "execution_count": 10,
     "metadata": {},
     "output_type": "execute_result"
    }
   ],
   "source": [
    "df.drop(df.index[-1],axis=0)\n",
    "#df[:-1]"
   ]
  },
  {
   "cell_type": "markdown",
   "id": "b7bc1aa7-f976-4092-8b13-f6f28531cabe",
   "metadata": {},
   "source": [
    "18.添加一行数据姓名Rose 年龄20"
   ]
  },
  {
   "cell_type": "code",
   "execution_count": 13,
   "id": "f695dc8a-57e8-4bbd-8ebf-f6daf5587c46",
   "metadata": {},
   "outputs": [
    {
     "data": {
      "text/html": [
       "<div>\n",
       "<style scoped>\n",
       "    .dataframe tbody tr th:only-of-type {\n",
       "        vertical-align: middle;\n",
       "    }\n",
       "\n",
       "    .dataframe tbody tr th {\n",
       "        vertical-align: top;\n",
       "    }\n",
       "\n",
       "    .dataframe thead th {\n",
       "        text-align: right;\n",
       "    }\n",
       "</style>\n",
       "<table border=\"1\" class=\"dataframe\">\n",
       "  <thead>\n",
       "    <tr style=\"text-align: right;\">\n",
       "      <th></th>\n",
       "      <th>姓名</th>\n",
       "      <th>年龄</th>\n",
       "      <th>姓名(大写)</th>\n",
       "    </tr>\n",
       "  </thead>\n",
       "  <tbody>\n",
       "    <tr>\n",
       "      <th>0</th>\n",
       "      <td>Alice</td>\n",
       "      <td>20</td>\n",
       "      <td>ALICE</td>\n",
       "    </tr>\n",
       "    <tr>\n",
       "      <th>1</th>\n",
       "      <td>Bob</td>\n",
       "      <td>25</td>\n",
       "      <td>BOB</td>\n",
       "    </tr>\n",
       "    <tr>\n",
       "      <th>2</th>\n",
       "      <td>Tom</td>\n",
       "      <td>15</td>\n",
       "      <td>TOM</td>\n",
       "    </tr>\n",
       "    <tr>\n",
       "      <th>3</th>\n",
       "      <td>Anger</td>\n",
       "      <td>10</td>\n",
       "      <td>ANGER</td>\n",
       "    </tr>\n",
       "    <tr>\n",
       "      <th>4</th>\n",
       "      <td>Lili</td>\n",
       "      <td>35</td>\n",
       "      <td>LILI</td>\n",
       "    </tr>\n",
       "    <tr>\n",
       "      <th>5</th>\n",
       "      <td>Tom</td>\n",
       "      <td>15</td>\n",
       "      <td>TOM</td>\n",
       "    </tr>\n",
       "    <tr>\n",
       "      <th>6</th>\n",
       "      <td>Rose</td>\n",
       "      <td>20</td>\n",
       "      <td>NaN</td>\n",
       "    </tr>\n",
       "  </tbody>\n",
       "</table>\n",
       "</div>"
      ],
      "text/plain": [
       "      姓名  年龄 姓名(大写)\n",
       "0  Alice  20  ALICE\n",
       "1    Bob  25    BOB\n",
       "2    Tom  15    TOM\n",
       "3  Anger  10  ANGER\n",
       "4   Lili  35   LILI\n",
       "5    Tom  15    TOM\n",
       "6   Rose  20    NaN"
      ]
     },
     "execution_count": 13,
     "metadata": {},
     "output_type": "execute_result"
    }
   ],
   "source": [
    "data = {'姓名':'Rose','年龄':20}\n",
    "df.loc[df.index[-1]+1] = data\n",
    "df"
   ]
  },
  {
   "cell_type": "markdown",
   "id": "a2ef2adc-0253-4f01-99e9-db3699ca7d87",
   "metadata": {},
   "source": [
    "19.对数据按照'年龄'列值的大小进行排序"
   ]
  },
  {
   "cell_type": "code",
   "execution_count": 87,
   "id": "988cc58f-d4ab-4657-9f74-f8d058b2c251",
   "metadata": {},
   "outputs": [
    {
     "data": {
      "text/html": [
       "<div>\n",
       "<style scoped>\n",
       "    .dataframe tbody tr th:only-of-type {\n",
       "        vertical-align: middle;\n",
       "    }\n",
       "\n",
       "    .dataframe tbody tr th {\n",
       "        vertical-align: top;\n",
       "    }\n",
       "\n",
       "    .dataframe thead th {\n",
       "        text-align: right;\n",
       "    }\n",
       "</style>\n",
       "<table border=\"1\" class=\"dataframe\">\n",
       "  <thead>\n",
       "    <tr style=\"text-align: right;\">\n",
       "      <th></th>\n",
       "      <th>姓名</th>\n",
       "      <th>年龄</th>\n",
       "      <th>name_len</th>\n",
       "      <th>姓名(大写)</th>\n",
       "    </tr>\n",
       "  </thead>\n",
       "  <tbody>\n",
       "    <tr>\n",
       "      <th>3</th>\n",
       "      <td>Anger</td>\n",
       "      <td>10</td>\n",
       "      <td>5.0</td>\n",
       "      <td>ANGER</td>\n",
       "    </tr>\n",
       "    <tr>\n",
       "      <th>2</th>\n",
       "      <td>Tom</td>\n",
       "      <td>15</td>\n",
       "      <td>3.0</td>\n",
       "      <td>TOM</td>\n",
       "    </tr>\n",
       "    <tr>\n",
       "      <th>5</th>\n",
       "      <td>Tom</td>\n",
       "      <td>15</td>\n",
       "      <td>3.0</td>\n",
       "      <td>TOM</td>\n",
       "    </tr>\n",
       "    <tr>\n",
       "      <th>0</th>\n",
       "      <td>Alice</td>\n",
       "      <td>20</td>\n",
       "      <td>5.0</td>\n",
       "      <td>ALICE</td>\n",
       "    </tr>\n",
       "    <tr>\n",
       "      <th>6</th>\n",
       "      <td>Rose</td>\n",
       "      <td>20</td>\n",
       "      <td>4.0</td>\n",
       "      <td>ROSE</td>\n",
       "    </tr>\n",
       "    <tr>\n",
       "      <th>7</th>\n",
       "      <td>Rose</td>\n",
       "      <td>20</td>\n",
       "      <td>NaN</td>\n",
       "      <td>NaN</td>\n",
       "    </tr>\n",
       "    <tr>\n",
       "      <th>8</th>\n",
       "      <td>Rose</td>\n",
       "      <td>20</td>\n",
       "      <td>NaN</td>\n",
       "      <td>NaN</td>\n",
       "    </tr>\n",
       "    <tr>\n",
       "      <th>9</th>\n",
       "      <td>Rose</td>\n",
       "      <td>20</td>\n",
       "      <td>NaN</td>\n",
       "      <td>NaN</td>\n",
       "    </tr>\n",
       "    <tr>\n",
       "      <th>10</th>\n",
       "      <td>Rose</td>\n",
       "      <td>20</td>\n",
       "      <td>NaN</td>\n",
       "      <td>NaN</td>\n",
       "    </tr>\n",
       "    <tr>\n",
       "      <th>11</th>\n",
       "      <td>Rose</td>\n",
       "      <td>20</td>\n",
       "      <td>NaN</td>\n",
       "      <td>NaN</td>\n",
       "    </tr>\n",
       "    <tr>\n",
       "      <th>12</th>\n",
       "      <td>Rose</td>\n",
       "      <td>20</td>\n",
       "      <td>NaN</td>\n",
       "      <td>NaN</td>\n",
       "    </tr>\n",
       "    <tr>\n",
       "      <th>1</th>\n",
       "      <td>Bob</td>\n",
       "      <td>25</td>\n",
       "      <td>3.0</td>\n",
       "      <td>BOB</td>\n",
       "    </tr>\n",
       "    <tr>\n",
       "      <th>4</th>\n",
       "      <td>Lili</td>\n",
       "      <td>35</td>\n",
       "      <td>4.0</td>\n",
       "      <td>LILI</td>\n",
       "    </tr>\n",
       "  </tbody>\n",
       "</table>\n",
       "</div>"
      ],
      "text/plain": [
       "       姓名  年龄  name_len 姓名(大写)\n",
       "3   Anger  10       5.0  ANGER\n",
       "2     Tom  15       3.0    TOM\n",
       "5     Tom  15       3.0    TOM\n",
       "0   Alice  20       5.0  ALICE\n",
       "6    Rose  20       4.0   ROSE\n",
       "7    Rose  20       NaN    NaN\n",
       "8    Rose  20       NaN    NaN\n",
       "9    Rose  20       NaN    NaN\n",
       "10   Rose  20       NaN    NaN\n",
       "11   Rose  20       NaN    NaN\n",
       "12   Rose  20       NaN    NaN\n",
       "1     Bob  25       3.0    BOB\n",
       "4    Lili  35       4.0   LILI"
      ]
     },
     "execution_count": 87,
     "metadata": {},
     "output_type": "execute_result"
    }
   ],
   "source": [
    "df.sort_values(by='年龄')"
   ]
  },
  {
   "cell_type": "markdown",
   "id": "7c9452d5-4d21-4eef-843e-6a6d97aa0398",
   "metadata": {},
   "source": [
    "20.统计'姓名'列每个字符串的长度"
   ]
  },
  {
   "cell_type": "code",
   "execution_count": 51,
   "id": "15152e29-6be1-4d1a-8ba2-007f9501a409",
   "metadata": {},
   "outputs": [
    {
     "data": {
      "text/html": [
       "<div>\n",
       "<style scoped>\n",
       "    .dataframe tbody tr th:only-of-type {\n",
       "        vertical-align: middle;\n",
       "    }\n",
       "\n",
       "    .dataframe tbody tr th {\n",
       "        vertical-align: top;\n",
       "    }\n",
       "\n",
       "    .dataframe thead th {\n",
       "        text-align: right;\n",
       "    }\n",
       "</style>\n",
       "<table border=\"1\" class=\"dataframe\">\n",
       "  <thead>\n",
       "    <tr style=\"text-align: right;\">\n",
       "      <th></th>\n",
       "      <th>姓名</th>\n",
       "      <th>年龄</th>\n",
       "      <th>name_len</th>\n",
       "    </tr>\n",
       "  </thead>\n",
       "  <tbody>\n",
       "    <tr>\n",
       "      <th>0</th>\n",
       "      <td>Alice</td>\n",
       "      <td>20</td>\n",
       "      <td>5</td>\n",
       "    </tr>\n",
       "    <tr>\n",
       "      <th>1</th>\n",
       "      <td>Bob</td>\n",
       "      <td>25</td>\n",
       "      <td>3</td>\n",
       "    </tr>\n",
       "    <tr>\n",
       "      <th>2</th>\n",
       "      <td>Tom</td>\n",
       "      <td>15</td>\n",
       "      <td>3</td>\n",
       "    </tr>\n",
       "    <tr>\n",
       "      <th>3</th>\n",
       "      <td>Anger</td>\n",
       "      <td>10</td>\n",
       "      <td>5</td>\n",
       "    </tr>\n",
       "    <tr>\n",
       "      <th>4</th>\n",
       "      <td>Lili</td>\n",
       "      <td>35</td>\n",
       "      <td>4</td>\n",
       "    </tr>\n",
       "    <tr>\n",
       "      <th>5</th>\n",
       "      <td>Tom</td>\n",
       "      <td>15</td>\n",
       "      <td>3</td>\n",
       "    </tr>\n",
       "    <tr>\n",
       "      <th>6</th>\n",
       "      <td>Rose</td>\n",
       "      <td>20</td>\n",
       "      <td>4</td>\n",
       "    </tr>\n",
       "  </tbody>\n",
       "</table>\n",
       "</div>"
      ],
      "text/plain": [
       "      姓名  年龄  name_len\n",
       "0  Alice  20         5\n",
       "1    Bob  25         3\n",
       "2    Tom  15         3\n",
       "3  Anger  10         5\n",
       "4   Lili  35         4\n",
       "5    Tom  15         3\n",
       "6   Rose  20         4"
      ]
     },
     "execution_count": 51,
     "metadata": {},
     "output_type": "execute_result"
    }
   ],
   "source": [
    "df['name_len'] = df['姓名'].map(lambda x:len(x))\n",
    "df"
   ]
  },
  {
   "cell_type": "markdown",
   "id": "85e135b9-e053-475d-aa9d-b235b630d54a",
   "metadata": {},
   "source": [
    "21.将年龄分为不同的年龄段(20以下、20-30、30以上)，并统计每个年龄段的人教"
   ]
  },
  {
   "cell_type": "code",
   "execution_count": 33,
   "id": "c69cb152-40ef-45b2-92af-ddc4e85fa7f3",
   "metadata": {},
   "outputs": [
    {
     "data": {
      "text/html": [
       "<div>\n",
       "<style scoped>\n",
       "    .dataframe tbody tr th:only-of-type {\n",
       "        vertical-align: middle;\n",
       "    }\n",
       "\n",
       "    .dataframe tbody tr th {\n",
       "        vertical-align: top;\n",
       "    }\n",
       "\n",
       "    .dataframe thead th {\n",
       "        text-align: right;\n",
       "    }\n",
       "</style>\n",
       "<table border=\"1\" class=\"dataframe\">\n",
       "  <thead>\n",
       "    <tr style=\"text-align: right;\">\n",
       "      <th></th>\n",
       "      <th>年龄段</th>\n",
       "      <th>人数</th>\n",
       "    </tr>\n",
       "  </thead>\n",
       "  <tbody>\n",
       "    <tr>\n",
       "      <th>0</th>\n",
       "      <td>20以下</td>\n",
       "      <td>5</td>\n",
       "    </tr>\n",
       "    <tr>\n",
       "      <th>1</th>\n",
       "      <td>20-30</td>\n",
       "      <td>1</td>\n",
       "    </tr>\n",
       "    <tr>\n",
       "      <th>2</th>\n",
       "      <td>30以上</td>\n",
       "      <td>1</td>\n",
       "    </tr>\n",
       "  </tbody>\n",
       "</table>\n",
       "</div>"
      ],
      "text/plain": [
       "     年龄段  人数\n",
       "0   20以下   5\n",
       "1  20-30   1\n",
       "2   30以上   1"
      ]
     },
     "execution_count": 33,
     "metadata": {},
     "output_type": "execute_result"
    }
   ],
   "source": [
    "bins=[0,20,30,float('inf')]\n",
    "labels=['20以下','20-30','30以上']\n",
    "df['年龄段'] = pd.cut(df['年龄'],bins=bins,labels=labels)\n",
    "age_count = df['年龄段'].value_counts().reset_index()\n",
    "age_count.columns = ['年龄段','人数']\n",
    "age_count"
   ]
  },
  {
   "cell_type": "markdown",
   "id": "08df464a-f5e9-499b-a53f-bb0cff57e8ed",
   "metadata": {},
   "source": [
    "22.删除年龄列"
   ]
  },
  {
   "cell_type": "code",
   "execution_count": 12,
   "id": "a35c394d-910e-41d5-a195-bc7a7c7646e0",
   "metadata": {},
   "outputs": [
    {
     "data": {
      "text/html": [
       "<div>\n",
       "<style scoped>\n",
       "    .dataframe tbody tr th:only-of-type {\n",
       "        vertical-align: middle;\n",
       "    }\n",
       "\n",
       "    .dataframe tbody tr th {\n",
       "        vertical-align: top;\n",
       "    }\n",
       "\n",
       "    .dataframe thead th {\n",
       "        text-align: right;\n",
       "    }\n",
       "</style>\n",
       "<table border=\"1\" class=\"dataframe\">\n",
       "  <thead>\n",
       "    <tr style=\"text-align: right;\">\n",
       "      <th></th>\n",
       "      <th>姓名</th>\n",
       "      <th>姓名(大写)</th>\n",
       "    </tr>\n",
       "  </thead>\n",
       "  <tbody>\n",
       "    <tr>\n",
       "      <th>0</th>\n",
       "      <td>Alice</td>\n",
       "      <td>ALICE</td>\n",
       "    </tr>\n",
       "    <tr>\n",
       "      <th>1</th>\n",
       "      <td>Bob</td>\n",
       "      <td>BOB</td>\n",
       "    </tr>\n",
       "    <tr>\n",
       "      <th>2</th>\n",
       "      <td>Tom</td>\n",
       "      <td>TOM</td>\n",
       "    </tr>\n",
       "    <tr>\n",
       "      <th>3</th>\n",
       "      <td>Anger</td>\n",
       "      <td>ANGER</td>\n",
       "    </tr>\n",
       "    <tr>\n",
       "      <th>4</th>\n",
       "      <td>Lili</td>\n",
       "      <td>LILI</td>\n",
       "    </tr>\n",
       "    <tr>\n",
       "      <th>5</th>\n",
       "      <td>Tom</td>\n",
       "      <td>TOM</td>\n",
       "    </tr>\n",
       "  </tbody>\n",
       "</table>\n",
       "</div>"
      ],
      "text/plain": [
       "      姓名 姓名(大写)\n",
       "0  Alice  ALICE\n",
       "1    Bob    BOB\n",
       "2    Tom    TOM\n",
       "3  Anger  ANGER\n",
       "4   Lili   LILI\n",
       "5    Tom    TOM"
      ]
     },
     "execution_count": 12,
     "metadata": {},
     "output_type": "execute_result"
    }
   ],
   "source": [
    "df.drop('年龄',axis=1)"
   ]
  },
  {
   "cell_type": "markdown",
   "id": "3d42fe9c-ef67-4801-ab30-79756e3ad005",
   "metadata": {},
   "source": [
    "23.删除含有缺失值的行"
   ]
  },
  {
   "cell_type": "code",
   "execution_count": 16,
   "id": "c986180a-db7f-435c-a901-ebf46bb96b5d",
   "metadata": {},
   "outputs": [
    {
     "data": {
      "text/html": [
       "<div>\n",
       "<style scoped>\n",
       "    .dataframe tbody tr th:only-of-type {\n",
       "        vertical-align: middle;\n",
       "    }\n",
       "\n",
       "    .dataframe tbody tr th {\n",
       "        vertical-align: top;\n",
       "    }\n",
       "\n",
       "    .dataframe thead th {\n",
       "        text-align: right;\n",
       "    }\n",
       "</style>\n",
       "<table border=\"1\" class=\"dataframe\">\n",
       "  <thead>\n",
       "    <tr style=\"text-align: right;\">\n",
       "      <th></th>\n",
       "      <th>姓名</th>\n",
       "      <th>年龄</th>\n",
       "      <th>姓名(大写)</th>\n",
       "    </tr>\n",
       "  </thead>\n",
       "  <tbody>\n",
       "    <tr>\n",
       "      <th>0</th>\n",
       "      <td>Alice</td>\n",
       "      <td>20</td>\n",
       "      <td>ALICE</td>\n",
       "    </tr>\n",
       "    <tr>\n",
       "      <th>1</th>\n",
       "      <td>Bob</td>\n",
       "      <td>25</td>\n",
       "      <td>BOB</td>\n",
       "    </tr>\n",
       "    <tr>\n",
       "      <th>2</th>\n",
       "      <td>Tom</td>\n",
       "      <td>15</td>\n",
       "      <td>TOM</td>\n",
       "    </tr>\n",
       "    <tr>\n",
       "      <th>3</th>\n",
       "      <td>Anger</td>\n",
       "      <td>10</td>\n",
       "      <td>ANGER</td>\n",
       "    </tr>\n",
       "    <tr>\n",
       "      <th>4</th>\n",
       "      <td>Lili</td>\n",
       "      <td>35</td>\n",
       "      <td>LILI</td>\n",
       "    </tr>\n",
       "    <tr>\n",
       "      <th>5</th>\n",
       "      <td>Tom</td>\n",
       "      <td>15</td>\n",
       "      <td>TOM</td>\n",
       "    </tr>\n",
       "    <tr>\n",
       "      <th>6</th>\n",
       "      <td>Rose</td>\n",
       "      <td>20</td>\n",
       "      <td>NaN</td>\n",
       "    </tr>\n",
       "  </tbody>\n",
       "</table>\n",
       "</div>"
      ],
      "text/plain": [
       "      姓名  年龄 姓名(大写)\n",
       "0  Alice  20  ALICE\n",
       "1    Bob  25    BOB\n",
       "2    Tom  15    TOM\n",
       "3  Anger  10  ANGER\n",
       "4   Lili  35   LILI\n",
       "5    Tom  15    TOM\n",
       "6   Rose  20    NaN"
      ]
     },
     "execution_count": 16,
     "metadata": {},
     "output_type": "execute_result"
    }
   ],
   "source": [
    "#默认删除行 即axis=0可以省略\n",
    "df\n",
    "df.dropna(axis=1)"
   ]
  },
  {
   "cell_type": "markdown",
   "id": "64e6b998-2fe8-4e4c-b63a-696d56670272",
   "metadata": {},
   "source": [
    "24.计算'年龄'，'name_len'列的均值"
   ]
  },
  {
   "cell_type": "code",
   "execution_count": 43,
   "id": "6929cf79-8bcd-42ae-954f-2466944dceeb",
   "metadata": {},
   "outputs": [
    {
     "name": "stdout",
     "output_type": "stream",
     "text": [
      "20.0,3.857142857142857;"
     ]
    }
   ],
   "source": [
    "\n",
    "age_mean = df['年龄'].mean()\n",
    "len_mean = df['name_len'].mean()\n",
    "print(age_mean,len_mean,sep=',',end=';')"
   ]
  },
  {
   "cell_type": "markdown",
   "id": "727abf61-3998-41b9-a555-fdb0d033624b",
   "metadata": {},
   "source": [
    "25.查找含有指定关键字的行"
   ]
  },
  {
   "cell_type": "code",
   "execution_count": 47,
   "id": "d9b107a9-d5d1-434c-9e15-81b8532a3b26",
   "metadata": {},
   "outputs": [
    {
     "data": {
      "text/html": [
       "<div>\n",
       "<style scoped>\n",
       "    .dataframe tbody tr th:only-of-type {\n",
       "        vertical-align: middle;\n",
       "    }\n",
       "\n",
       "    .dataframe tbody tr th {\n",
       "        vertical-align: top;\n",
       "    }\n",
       "\n",
       "    .dataframe thead th {\n",
       "        text-align: right;\n",
       "    }\n",
       "</style>\n",
       "<table border=\"1\" class=\"dataframe\">\n",
       "  <thead>\n",
       "    <tr style=\"text-align: right;\">\n",
       "      <th></th>\n",
       "      <th>姓名</th>\n",
       "      <th>年龄</th>\n",
       "      <th>姓名(大写)</th>\n",
       "      <th>name_len</th>\n",
       "      <th>年龄段</th>\n",
       "    </tr>\n",
       "  </thead>\n",
       "  <tbody>\n",
       "    <tr>\n",
       "      <th>2</th>\n",
       "      <td>Tom</td>\n",
       "      <td>15</td>\n",
       "      <td>TOM</td>\n",
       "      <td>3</td>\n",
       "      <td>20以下</td>\n",
       "    </tr>\n",
       "    <tr>\n",
       "      <th>5</th>\n",
       "      <td>Tom</td>\n",
       "      <td>15</td>\n",
       "      <td>TOM</td>\n",
       "      <td>3</td>\n",
       "      <td>20以下</td>\n",
       "    </tr>\n",
       "  </tbody>\n",
       "</table>\n",
       "</div>"
      ],
      "text/plain": [
       "    姓名  年龄 姓名(大写)  name_len   年龄段\n",
       "2  Tom  15    TOM         3  20以下\n",
       "5  Tom  15    TOM         3  20以下"
      ]
     },
     "execution_count": 47,
     "metadata": {},
     "output_type": "execute_result"
    }
   ],
   "source": [
    "key_word = 'Tom'\n",
    "df[df['姓名'].str.contains(key_word)]"
   ]
  },
  {
   "cell_type": "markdown",
   "id": "03171909-1a24-4bdc-9147-484b8a4c7250",
   "metadata": {},
   "source": [
    "26.读取本地EXCEL数据"
   ]
  },
  {
   "cell_type": "code",
   "execution_count": null,
   "id": "9adf7026-9048-4415-99d5-5aae020bc3af",
   "metadata": {},
   "outputs": [],
   "source": [
    "df =  pd.read_excel('./mydata.excle')"
   ]
  },
  {
   "cell_type": "markdown",
   "id": "53e7b82b-4481-4bac-a0d8-c3d93babae56",
   "metadata": {},
   "source": [
    "27.查看df数据前5行和后5行"
   ]
  },
  {
   "cell_type": "code",
   "execution_count": null,
   "id": "bbfc43ce-8cca-4bff-bbcc-0892f1b39ed4",
   "metadata": {},
   "outputs": [],
   "source": [
    "df.head(5)\n",
    "df.tail(5)"
   ]
  },
  {
   "cell_type": "markdown",
   "id": "2b7284c1-81bc-4f3c-940c-2a84a637dd62",
   "metadata": {},
   "source": [
    "28.将'薪资'列数据转换为最大值与最小值的平均值"
   ]
  },
  {
   "cell_type": "code",
   "execution_count": 5,
   "id": "9843c11a-3f9f-4b1d-9709-06ff03c074fa",
   "metadata": {},
   "outputs": [
    {
     "data": {
      "text/html": [
       "<div>\n",
       "<style scoped>\n",
       "    .dataframe tbody tr th:only-of-type {\n",
       "        vertical-align: middle;\n",
       "    }\n",
       "\n",
       "    .dataframe tbody tr th {\n",
       "        vertical-align: top;\n",
       "    }\n",
       "\n",
       "    .dataframe thead th {\n",
       "        text-align: right;\n",
       "    }\n",
       "</style>\n",
       "<table border=\"1\" class=\"dataframe\">\n",
       "  <thead>\n",
       "    <tr style=\"text-align: right;\">\n",
       "      <th></th>\n",
       "      <th>A</th>\n",
       "      <th>B</th>\n",
       "      <th>C</th>\n",
       "    </tr>\n",
       "  </thead>\n",
       "  <tbody>\n",
       "    <tr>\n",
       "      <th>0</th>\n",
       "      <td>1</td>\n",
       "      <td>a</td>\n",
       "      <td>True</td>\n",
       "    </tr>\n",
       "    <tr>\n",
       "      <th>1</th>\n",
       "      <td>2</td>\n",
       "      <td>b</td>\n",
       "      <td>False</td>\n",
       "    </tr>\n",
       "    <tr>\n",
       "      <th>2</th>\n",
       "      <td>2</td>\n",
       "      <td>a</td>\n",
       "      <td>True</td>\n",
       "    </tr>\n",
       "    <tr>\n",
       "      <th>3</th>\n",
       "      <td>3</td>\n",
       "      <td>c</td>\n",
       "      <td>True</td>\n",
       "    </tr>\n",
       "  </tbody>\n",
       "</table>\n",
       "</div>"
      ],
      "text/plain": [
       "   A  B      C\n",
       "0  1  a   True\n",
       "1  2  b  False\n",
       "2  2  a   True\n",
       "3  3  c   True"
      ]
     },
     "execution_count": 5,
     "metadata": {},
     "output_type": "execute_result"
    }
   ],
   "source": []
  },
  {
   "cell_type": "markdown",
   "id": "aeeb15d0-0b6c-4660-9e66-3da720a221fb",
   "metadata": {},
   "source": [
    "29.将数据根据'学历'进行分组并计算平均薪资"
   ]
  },
  {
   "cell_type": "code",
   "execution_count": null,
   "id": "d380db60-f43d-4994-8cc8-709e126ab73b",
   "metadata": {},
   "outputs": [],
   "source": []
  },
  {
   "cell_type": "markdown",
   "id": "d5cb9e01-8719-4658-8573-fe03316d7e68",
   "metadata": {},
   "source": [
    "30.将'日期'列时间转换为月-日"
   ]
  },
  {
   "cell_type": "code",
   "execution_count": null,
   "id": "47558de4-08ad-44ab-aaf0-02969a2c6e12",
   "metadata": {},
   "outputs": [],
   "source": []
  },
  {
   "cell_type": "code",
   "execution_count": null,
   "id": "cbbf5687-aa7c-447e-a69b-37a9d44ce9d0",
   "metadata": {},
   "outputs": [],
   "source": [
    "31.查看索引、数据类型和内存信息"
   ]
  },
  {
   "cell_type": "code",
   "execution_count": null,
   "id": "1297282c-5bf4-4259-a469-239e442aef73",
   "metadata": {},
   "outputs": [],
   "source": [
    "32.查看'数值型'列的汇总统计"
   ]
  },
  {
   "cell_type": "code",
   "execution_count": null,
   "id": "292d4ffc-e2f7-4ae5-9a1f-182f09ef53ed",
   "metadata": {},
   "outputs": [],
   "source": [
    "33.新增一列根据'平均薪资'将数据分为三组"
   ]
  },
  {
   "cell_type": "code",
   "execution_count": null,
   "id": "efb4819f-8ed6-457e-9059-23657648972c",
   "metadata": {},
   "outputs": [],
   "source": [
    "34.按照'平均薪资'列对数据降序排列"
   ]
  },
  {
   "cell_type": "code",
   "execution_count": null,
   "id": "04d024f5-3937-44d3-bd81-122a014d06dd",
   "metadata": {},
   "outputs": [],
   "source": [
    "35.取出第13行数据"
   ]
  },
  {
   "cell_type": "code",
   "execution_count": null,
   "id": "8f33fcf0-4373-4b7d-be75-c2dd8054e24c",
   "metadata": {},
   "outputs": [],
   "source": [
    "36.计算'平均薪资'列的中位数"
   ]
  },
  {
   "cell_type": "code",
   "execution_count": null,
   "id": "de9e64d5-9244-4baf-a37b-b337d927e46d",
   "metadata": {},
   "outputs": [],
   "source": [
    "37.绘制薪资水平频率分布直方图"
   ]
  },
  {
   "cell_type": "code",
   "execution_count": null,
   "id": "edde1426-8ad3-451a-a588-5f2ca8603296",
   "metadata": {},
   "outputs": [],
   "source": [
    "38.绘制薪资水平密度曲线"
   ]
  },
  {
   "cell_type": "code",
   "execution_count": null,
   "id": "df197ca0-681f-4147-8a74-8f78c02a53ed",
   "metadata": {},
   "outputs": [],
   "source": [
    "39.删除最后一列"
   ]
  },
  {
   "cell_type": "code",
   "execution_count": null,
   "id": "4a76da6b-c598-44db-94e4-dff01b12f2bc",
   "metadata": {},
   "outputs": [],
   "source": [
    "40.将df的第一列与第二列合并为新的一列"
   ]
  }
 ],
 "metadata": {
  "kernelspec": {
   "display_name": "Python 3 (ipykernel)",
   "language": "python",
   "name": "python3"
  },
  "language_info": {
   "codemirror_mode": {
    "name": "ipython",
    "version": 3
   },
   "file_extension": ".py",
   "mimetype": "text/x-python",
   "name": "python",
   "nbconvert_exporter": "python",
   "pygments_lexer": "ipython3",
   "version": "3.11.10"
  }
 },
 "nbformat": 4,
 "nbformat_minor": 5
}
