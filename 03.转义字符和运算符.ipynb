{
 "cells": [
  {
   "metadata": {},
   "cell_type": "markdown",
   "source": [
    "转义:转义是特殊意义，默认是特殊意义反斜杠符号\n",
    "* 单引号\\‘\n",
    "* 双引号\\\"\n",
    "* 反斜杠\\\\\n",
    "* 换行\\n\n",
    "* 制表符\\t (四个空格)"
   ],
   "id": "96a2c0be7b776968"
  },
  {
   "metadata": {
    "ExecuteTime": {
     "end_time": "2024-11-11T09:30:47.870599Z",
     "start_time": "2024-11-11T09:30:47.865403Z"
    }
   },
   "cell_type": "code",
   "source": "print('hello\\nworld')\n",
   "id": "46134ca56e8ef682",
   "outputs": [
    {
     "name": "stdout",
     "output_type": "stream",
     "text": [
      "hello\n",
      "world\n"
     ]
    }
   ],
   "execution_count": 1
  },
  {
   "metadata": {},
   "cell_type": "markdown",
   "source": [
    "运算符\n",
    "* 加+\n",
    "* 减-\n",
    "* 乘*\n",
    "* 除/\n",
    "* 整除//\n",
    "* 取余%\n",
    "* 幂次**"
   ],
   "id": "ccab8c5b33982e32"
  },
  {
   "metadata": {},
   "cell_type": "code",
   "outputs": [],
   "execution_count": null,
   "source": "",
   "id": "6b4a5518547bc569"
  }
 ],
 "metadata": {
  "kernelspec": {
   "display_name": "Python 3",
   "language": "python",
   "name": "python3"
  },
  "language_info": {
   "codemirror_mode": {
    "name": "ipython",
    "version": 2
   },
   "file_extension": ".py",
   "mimetype": "text/x-python",
   "name": "python",
   "nbconvert_exporter": "python",
   "pygments_lexer": "ipython2",
   "version": "2.7.6"
  }
 },
 "nbformat": 4,
 "nbformat_minor": 5
}
