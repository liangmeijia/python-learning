{
 "cells": [
  {
   "metadata": {},
   "cell_type": "markdown",
   "source": [
    "## 保存数据的格式\n",
    "* 变量名= 值\n",
    "## 注意事项\n",
    "* 首次使用变量会在内存中划分空间，并初始化值再次使用变量不再划分空间，修改原空间中的值(要分可变对象和不可变对象，不可变对象重新分空间)"
   ],
   "id": "5e0011dfb946869d"
  },
  {
   "metadata": {},
   "cell_type": "code",
   "outputs": [],
   "execution_count": null,
   "source": "v1 = 10",
   "id": "16ef7aad23df2996"
  },
  {
   "metadata": {},
   "cell_type": "markdown",
   "source": [
    "## 变量名的命名规则\n",
    "* 大驼峰:每个单词首字母大写如MyName\n",
    "* 小驼峰:从第二个字母开始，单词首字母大写如myName\n",
    "* 下划线:my_name\n",
    "* 变量名命名要满足标识符的命名规范。\n",
    "## 标识符规定:\n",
    "* 只能由数字，字母，_(下划线)组成\n",
    "* 不能以数字开头\n",
    "* 不能是关键字\n",
    "* 区分大小写"
   ],
   "id": "2d0a933ecb23d21c"
  },
  {
   "metadata": {},
   "cell_type": "markdown",
   "source": "关键字：python 内置的标识符",
   "id": "53248120097190c8"
  },
  {
   "metadata": {},
   "cell_type": "code",
   "outputs": [],
   "execution_count": null,
   "source": [
    "import keyword\n",
    "print(keyword.kwlist)"
   ],
   "id": "f676f58c14d9af8f"
  },
  {
   "metadata": {},
   "cell_type": "markdown",
   "source": [
    "## 数据类型\n",
    "* 数值类型 Number \n",
    "* 字符串 String\n",
    "* 列表 list\n",
    "* 元组\n",
    "* 集合\n",
    "* 字典"
   ],
   "id": "e6eceb4e8041e628"
  },
  {
   "metadata": {},
   "cell_type": "markdown",
   "source": [
    "## 数值类型\n",
    "* int 整型 整数 1、2、4\n",
    "* float 浮点型 小数 1.3、3.4、1.2E3\n",
    "* bool 布尔型 逻辑值 True(1)、False(0)\n",
    "* complex 复数 复数 1+2j"
   ],
   "id": "5970d8b7c5f4d93"
  },
  {
   "metadata": {
    "ExecuteTime": {
     "end_time": "2024-11-11T06:59:18.016365Z",
     "start_time": "2024-11-11T06:59:18.012326Z"
    }
   },
   "cell_type": "code",
   "outputs": [
    {
     "name": "stdout",
     "output_type": "stream",
     "text": [
      "<class 'float'>\n"
     ]
    }
   ],
   "execution_count": 8,
   "source": [
    "a = 10\n",
    "b = 1.2\n",
    "c = 1.2E2\n",
    "d = True\n",
    "e = 1+4j\n",
    "print(type(c))"
   ],
   "id": "556d65d88ff296f3"
  },
  {
   "metadata": {},
   "cell_type": "markdown",
   "source": [
    "## 字符串\n",
    "* 单引号和双引号都可以 str1 = 'hello'、str1 = \"hello\"\n",
    "* 三引号 用在变量定义里，用来定义多行字符串的内容\n",
    "* 字符串内部使用双引号或单引号"
   ],
   "id": "25d29559823c96bd"
  },
  {
   "metadata": {
    "ExecuteTime": {
     "end_time": "2024-11-11T07:11:43.484003Z",
     "start_time": "2024-11-11T07:11:43.480317Z"
    }
   },
   "cell_type": "code",
   "source": [
    "str1 = 'hello'\n",
    "str2 = \"world\"\n",
    "str3 = '''hello\n",
    "world\n",
    "python'''\n",
    "print(str1)\n",
    "print(str2)\n",
    "print(str3)\n",
    "print(\"hello \\\"w\\\"orld\")# 其中\\为转义符\n",
    "print(\"hello 'w'orld\")"
   ],
   "id": "3abc2e521ec72928",
   "outputs": [
    {
     "name": "stdout",
     "output_type": "stream",
     "text": [
      "hello\n",
      "world\n",
      "hello\n",
      "world\n",
      "python\n",
      "hello \"w\"orld\n",
      "hello 'w'orld\n"
     ]
    }
   ],
   "execution_count": 13
  },
  {
   "metadata": {},
   "cell_type": "markdown",
   "source": "## 字符串的运算",
   "id": "a65270ec28f020c0"
  },
  {
   "metadata": {
    "ExecuteTime": {
     "end_time": "2024-11-11T07:35:26.908135Z",
     "start_time": "2024-11-11T07:35:26.904109Z"
    }
   },
   "cell_type": "code",
   "source": [
    "str1 = 'hello'\n",
    "str2 = 'world'\n",
    "#字符串的拼接\n",
    "print(str1+str2)\n",
    "#重复输出\n",
    "print(str1*2)\n",
    "#in、not in在不在里面\n",
    "print('e' in str1)\n",
    "print('e' not in str2)\n",
    "#\\n换行\n",
    "print('hi\\nlili')\n",
    "#r\\n 原样输出后面的内容\n",
    "print(r'hi\\nlili')"
   ],
   "id": "1daaa95cf10be95b",
   "outputs": [
    {
     "name": "stdout",
     "output_type": "stream",
     "text": [
      "helloworld\n",
      "hellohello\n",
      "True\n",
      "True\n",
      "hi\n",
      "lili\n",
      "hi\\nlili\n"
     ]
    }
   ],
   "execution_count": 21
  }
 ],
 "metadata": {
  "kernelspec": {
   "display_name": "Python 3",
   "language": "python",
   "name": "python3"
  },
  "language_info": {
   "codemirror_mode": {
    "name": "ipython",
    "version": 2
   },
   "file_extension": ".py",
   "mimetype": "text/x-python",
   "name": "python",
   "nbconvert_exporter": "python",
   "pygments_lexer": "ipython2",
   "version": "2.7.6"
  }
 },
 "nbformat": 4,
 "nbformat_minor": 5
}
